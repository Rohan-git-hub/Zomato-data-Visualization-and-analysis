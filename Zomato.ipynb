{
 "cells": [
  {
   "cell_type": "markdown",
   "metadata": {},
   "source": [
    "# Plot the bar graph of number of restaurants present in Delhi NCR vs Rest of India."
   ]
  },
  {
   "cell_type": "code",
   "execution_count": 335,
   "metadata": {},
   "outputs": [
    {
     "name": "stdout",
     "output_type": "stream",
     "text": [
      "6829 1823\n"
     ]
    },
    {
     "data": {
      "image/png": "[encoded data removed]",
      "text/plain": [
       "<Figure size 640x480 with 1 Axes>"
      ]
     },
     "metadata": {},
     "output_type": "display_data"
    }
   ],
   "source": [
    "#  New Delhi, Ghaziabad, Noida, Gurgaon, Faridabad\n",
    "import pandas as pd\n",
    "import numpy as np\n",
    "import matplotlib.pyplot as plt\n",
    "import matplotlib as mp\n",
    "data=pd.read_csv('zomato.csv', engine='python')\n",
    "data.head(1000)\n",
    "color=['green','orange']\n",
    "country_code=data['Country Code']\n",
    "City=data['City']\n",
    "mylist=[]\n",
    "data_normalizer = mp.colors.Normalize()\n",
    "color_map = mp.colors.LinearSegmentedColormap(\n",
    "    \"my_map\",\n",
    "    {\n",
    "        \"red\": [(0, 1.0, 1.0),\n",
    "                (1.0, .5, .5)],\n",
    "        \"green\": [(0, 0.5, 0.5),\n",
    "                  (1.0, 0, 0)],\n",
    "        \"blue\": [(0, 0.50, 0.5),\n",
    "                 (1.0, 0, 0)]\n",
    "    }\n",
    ")\n",
    "city=['Delhi-NCR','Rest-Of-India']\n",
    "no=[0,0]\n",
    "for i in range(0,len(City)):\n",
    "    if country_code[i]==1:\n",
    "        mylist.append(City[i])\n",
    "mylist2 = list( dict.fromkeys(mylist) )\n",
    "for i in range(0,len(mylist)):\n",
    "    if mylist[i]=='New Delhi'or mylist[i]=='Ghaziabad'or mylist[i]=='Faridabad'or mylist[i]=='Gurugram' or mylist[i]=='Noida':\n",
    "        no[0]=no[0]+1\n",
    "    else:\n",
    "        no[1]=no[1]+1\n",
    "plt.bar(city,no,align=\"center\" ,color=color_map(data_normalizer(no)))\n",
    "plt.ylabel(\"Number Of Restaurants\")\n",
    "plt.show\n",
    "print(no[0],no[1])\n",
    "plt.savefig('No._of_rest_Delhi-NCR_Vs_rest-of-India.png')"
   ]
  },
  {
   "cell_type": "markdown",
   "metadata": {},
   "source": [
    " # Find the cuisines which are not present in restaurant of Delhi NCR but present in rest of India.Check using Zomato API whether this cuisines are actually not served in restaurants of Delhi-NCR or just it due to incomplete dataset.\n",
    " "
   ]
  },
  {
   "cell_type": "code",
   "execution_count": 444,
   "metadata": {},
   "outputs": [],
   "source": [
    "Cuisines_all=list(data['Cuisines'])\n",
    "lnp=[]\n",
    "Cuisines_India=[]\n",
    "for i in range(len(Cuisines_all)):\n",
    "    if country_code[i]==1:\n",
    "        Cuisines_India.append((Cuisines_all[i]).strip())"
   ]
  },
  {
   "cell_type": "code",
   "execution_count": 1156,
   "metadata": {},
   "outputs": [
    {
     "data": {
      "text/plain": [
       "'North Indian, Mughlai'"
      ]
     },
     "execution_count": 1156,
     "metadata": {},
     "output_type": "execute_result"
    }
   ],
   "source": [
    "Cuisines_India[0]"
   ]
  },
  {
   "cell_type": "code",
   "execution_count": 186,
   "metadata": {},
   "outputs": [],
   "source": [
    "NCR=[]\n",
    "rest=[]\n",
    "for i in range(0,len(l)):\n",
    "    if mylist[i]=='New Delhi'or mylist[i]=='Ghaziabad'or mylist[i]=='Faridabad'or mylist[i]=='Gurugram' or mylist[i]=='Noida':\n",
    "        NCR.append(l[i])\n",
    "    else:\n",
    "        rest.append(l[i])"
   ]
  },
  {
   "cell_type": "code",
   "execution_count": 206,
   "metadata": {},
   "outputs": [
    {
     "data": {
      "text/plain": [
       "6829"
      ]
     },
     "execution_count": 206,
     "metadata": {},
     "output_type": "execute_result"
    }
   ],
   "source": [
    "len(NCR)"
   ]
  },
  {
   "cell_type": "code",
   "execution_count": 92,
   "metadata": {},
   "outputs": [],
   "source": [
    "l2=[]\n",
    "l3=[]\n",
    "for i in range(len(NCR)):\n",
    "    for j in range(len(NCR[i])):\n",
    "        l2.append((NCR[i][j]).strip())\n",
    "for i in range(len(rest)):\n",
    "    for j in range(len(rest[i])):\n",
    "        l3.append((rest[i][j]).strip())"
   ]
  },
  {
   "cell_type": "code",
   "execution_count": 183,
   "metadata": {},
   "outputs": [],
   "source": [
    "def CountFrequency(my_list): \n",
    "  \n",
    "    # Creating an empty dictionary  \n",
    "    freq = {} \n",
    "    for item in my_list: \n",
    "        if (item in freq): \n",
    "            freq[item] += 1\n",
    "        else: \n",
    "            freq[item] = 1\n",
    "  \n",
    "    for key, value in freq.items(): \n",
    "        print ((key, value)) "
   ]
  },
  {
   "cell_type": "code",
   "execution_count": 203,
   "metadata": {},
   "outputs": [],
   "source": [
    "freq=[0]*len(NCR_Cuisines)"
   ]
  },
  {
   "cell_type": "code",
   "execution_count": 221,
   "metadata": {},
   "outputs": [],
   "source": [
    "freq2=[0]*len(rest_Cuisines)"
   ]
  },
  {
   "cell_type": "code",
   "execution_count": 204,
   "metadata": {},
   "outputs": [],
   "source": [
    "for i in range(len(NCR_Cuisines)):\n",
    "    for j in range(len(NCR)):\n",
    "        if l2[i] in NCR[j]:\n",
    "            freq[i]+=1"
   ]
  },
  {
   "cell_type": "code",
   "execution_count": 222,
   "metadata": {},
   "outputs": [],
   "source": [
    "for i in range(len(rest_Cuisines)):\n",
    "    for j in range(len(rest)):\n",
    "        if l3[i] in rest[j]:\n",
    "            freq2[i]+=1"
   ]
  },
  {
   "cell_type": "code",
   "execution_count": 93,
   "metadata": {},
   "outputs": [],
   "source": [
    "NCR_Cuisines = list( dict.fromkeys(l2) )\n",
    "rest_Cuisines = list( dict.fromkeys(l3) )"
   ]
  },
  {
   "cell_type": "code",
   "execution_count": 94,
   "metadata": {},
   "outputs": [],
   "source": [
    "NCR_Cuisines.sort()\n",
    "rest_Cuisines.sort()"
   ]
  },
  {
   "cell_type": "code",
   "execution_count": 103,
   "metadata": {},
   "outputs": [
    {
     "data": {
      "text/plain": [
       "(81, 84)"
      ]
     },
     "execution_count": 103,
     "metadata": {},
     "output_type": "execute_result"
    }
   ],
   "source": [
    "len(NCR_Cuisines),len(rest_Cuisines)"
   ]
  },
  {
   "cell_type": "code",
   "execution_count": 95,
   "metadata": {},
   "outputs": [
    {
     "name": "stdout",
     "output_type": "stream",
     "text": [
      "No, List1 doesn't have all elements of the List2\n"
     ]
    }
   ],
   "source": [
    "check =  all(item in NCR_Cuisines for item in rest_Cuisines)\n",
    "if check is True:\n",
    "    print(\"The list {} contains all elements of the list {}\".format(NCR_Cuisines, rest_Cuisines))    \n",
    "else :\n",
    "    print(\"No, List1 doesn't have all elements of the List2\")"
   ]
  },
  {
   "cell_type": "code",
   "execution_count": 96,
   "metadata": {},
   "outputs": [],
   "source": [
    "new_list = [\n",
    "    list(set(rest_Cuisines).difference(NCR_Cuisines))\n",
    "]"
   ]
  },
  {
   "cell_type": "code",
   "execution_count": 98,
   "metadata": {},
   "outputs": [],
   "source": [
    "not_present_cuisines = list( dict.fromkeys(l4) )"
   ]
  },
  {
   "cell_type": "code",
   "execution_count": 99,
   "metadata": {},
   "outputs": [
    {
     "name": "stdout",
     "output_type": "stream",
     "text": [
      "Steak\n",
      "Cajun\n",
      "Charcoal Grill\n",
      "Belgian\n",
      "BBQ\n",
      "Greek\n",
      "German\n",
      "Persian\n",
      "Malwani\n"
     ]
    }
   ],
   "source": [
    "for i in not_present_cuisines:\n",
    "    print(i)"
   ]
  },
  {
   "cell_type": "markdown",
   "metadata": {},
   "source": [
    " # There are cuisines which are not present in restaurant of Delhi NCR but present in rest of India."
   ]
  },
  {
   "cell_type": "code",
   "execution_count": 112,
   "metadata": {},
   "outputs": [],
   "source": [
    "rating=[4.8]*len(NCR_Cuisines)"
   ]
  },
  {
   "cell_type": "code",
   "execution_count": 157,
   "metadata": {},
   "outputs": [],
   "source": [
    "rr=[]\n",
    "real=data[\"Aggregate rating\"]\n",
    "for i in range(81):\n",
    "    rr.append(real[i])"
   ]
  },
  {
   "cell_type": "code",
   "execution_count": 161,
   "metadata": {},
   "outputs": [],
   "source": [
    "for i in range(81):\n",
    "    if rr[i]==0:\n",
    "        rr[i]=1"
   ]
  },
  {
   "cell_type": "code",
   "execution_count": 127,
   "metadata": {},
   "outputs": [],
   "source": [
    "pos=[]\n",
    "i=0\n",
    "while i < 810:\n",
    "    pos.append(i)\n",
    "    i+=10"
   ]
  },
  {
   "cell_type": "code",
   "execution_count": 158,
   "metadata": {},
   "outputs": [
    {
     "data": {
      "text/plain": [
       "(81, 81)"
      ]
     },
     "execution_count": 158,
     "metadata": {},
     "output_type": "execute_result"
    }
   ],
   "source": [
    "len(pos),len(rr)"
   ]
  },
  {
   "cell_type": "code",
   "execution_count": 163,
   "metadata": {},
   "outputs": [],
   "source": [
    "rr.sort()"
   ]
  },
  {
   "cell_type": "code",
   "execution_count": 166,
   "metadata": {},
   "outputs": [],
   "source": [
    "mn=sum(rr)/len(rr)"
   ]
  },
  {
   "cell_type": "code",
   "execution_count": 167,
   "metadata": {},
   "outputs": [
    {
     "data": {
      "text/plain": [
       "4.012345679012346"
      ]
     },
     "execution_count": 167,
     "metadata": {},
     "output_type": "execute_result"
    }
   ],
   "source": [
    "mn"
   ]
  },
  {
   "cell_type": "code",
   "execution_count": 149,
   "metadata": {},
   "outputs": [],
   "source": [
    "rating[1]=10"
   ]
  },
  {
   "cell_type": "code",
   "execution_count": 743,
   "metadata": {},
   "outputs": [],
   "source": [
    "data_tuples5 = list(zip(cuisines1,rry))"
   ]
  },
  {
   "cell_type": "code",
   "execution_count": 224,
   "metadata": {},
   "outputs": [],
   "source": [
    "data_tuples3 = list(zip(rest_Cuisines,freq2))"
   ]
  },
  {
   "cell_type": "code",
   "execution_count": 744,
   "metadata": {},
   "outputs": [],
   "source": [
    "dn35=pd.DataFrame(data_tuples5, columns=['Cuisine','rating'])"
   ]
  },
  {
   "cell_type": "code",
   "execution_count": null,
   "metadata": {},
   "outputs": [],
   "source": []
  },
  {
   "cell_type": "code",
   "execution_count": 226,
   "metadata": {},
   "outputs": [],
   "source": [
    "dn3.sort_values(by=['freq'],ascending=False,inplace=True)"
   ]
  },
  {
   "cell_type": "code",
   "execution_count": 247,
   "metadata": {},
   "outputs": [],
   "source": [
    "dn2.reset_index(inplace = True) "
   ]
  },
  {
   "cell_type": "code",
   "execution_count": 249,
   "metadata": {},
   "outputs": [],
   "source": [
    "dn3.reset_index(inplace = True) "
   ]
  },
  {
   "cell_type": "code",
   "execution_count": 753,
   "metadata": {},
   "outputs": [],
   "source": [
    "cuisine2=dn35[\"Cuisine\"]\n",
    "rate=dn35[\"rating\"]"
   ]
  },
  {
   "cell_type": "code",
   "execution_count": 761,
   "metadata": {},
   "outputs": [
    {
     "data": {
      "text/plain": [
       "3.416388068550583"
      ]
     },
     "execution_count": 761,
     "metadata": {},
     "output_type": "execute_result"
    }
   ],
   "source": [
    "rate_mean=sum(rate)/len(rate)\n",
    "rate_mean"
   ]
  },
  {
   "cell_type": "code",
   "execution_count": 752,
   "metadata": {},
   "outputs": [],
   "source": [
    "dn35.sort_values(by='rating', ascending=False,inplace=True)"
   ]
  },
  {
   "cell_type": "code",
   "execution_count": 250,
   "metadata": {},
   "outputs": [],
   "source": [
    "new_sample_top1=dn2[\"Cuisine\"]\n",
    "new_sample_freq1=dn2[\"freq\"]\n",
    "new_sample_top2=dn3[\"Cuisine\"]\n",
    "new_sample_freq2=dn3[\"freq\"]"
   ]
  },
  {
   "cell_type": "code",
   "execution_count": 253,
   "metadata": {},
   "outputs": [],
   "source": [
    "top_ncr=[]\n",
    "top_ncr_freq=[]\n",
    "top_rest=[]\n",
    "top_rest_freq=[]\n",
    "for i in range(10):\n",
    "    top_ncr.append(new_sample_top1[i])\n",
    "    top_ncr_freq.append(new_sample_freq1[i])\n",
    "    top_rest.append(new_sample_top2[i])\n",
    "    top_rest_freq.append(new_sample_freq2[i])"
   ]
  },
  {
   "cell_type": "code",
   "execution_count": 1308,
   "metadata": {},
   "outputs": [
    {
     "data": {
      "text/plain": [
       "['Vietnamese',\n",
       " 'Biryani',\n",
       " 'Hyderabadi',\n",
       " 'European',\n",
       " 'Drinks Only',\n",
       " 'Modern Indian',\n",
       " 'Continental',\n",
       " 'North Indian',\n",
       " 'Chettinad',\n",
       " 'Pakistani']"
      ]
     },
     "execution_count": 1308,
     "metadata": {},
     "output_type": "execute_result"
    }
   ],
   "source": [
    "top_ncr"
   ]
  },
  {
   "cell_type": "code",
   "execution_count": 284,
   "metadata": {},
   "outputs": [],
   "source": [
    "sample_freq=[]\n",
    "for i in range(10):\n",
    "    for j in range(len(new_sample_top2)):\n",
    "        if top_ncr[i]==new_sample_top2[j]:\n",
    "            sample_freq.append(new_sample_freq2[j])"
   ]
  },
  {
   "cell_type": "code",
   "execution_count": 285,
   "metadata": {},
   "outputs": [],
   "source": [
    "sample_freq2=[]\n",
    "for i in range(10):\n",
    "    for j in range(len(new_sample_top1)):\n",
    "        if top_rest[i]==new_sample_top1[j]:\n",
    "            sample_freq2.append(new_sample_freq1[j])"
   ]
  },
  {
   "cell_type": "code",
   "execution_count": null,
   "metadata": {},
   "outputs": [],
   "source": []
  },
  {
   "cell_type": "code",
   "execution_count": 320,
   "metadata": {},
   "outputs": [
    {
     "data": {
      "text/plain": [
       "[690, 2392, 572, 690, 213, 180, 2, 110, 0, 0]"
      ]
     },
     "execution_count": 320,
     "metadata": {},
     "output_type": "execute_result"
    }
   ],
   "source": [
    "sample_freq2"
   ]
  },
  {
   "cell_type": "code",
   "execution_count": 3,
   "metadata": {},
   "outputs": [
    {
     "ename": "NameError",
     "evalue": "name 'top_rest_freq' is not defined",
     "output_type": "error",
     "traceback": [
      "\u001b[1;31m---------------------------------------------------------------------------\u001b[0m",
      "\u001b[1;31mNameError\u001b[0m                                 Traceback (most recent call last)",
      "\u001b[1;32m<ipython-input-3-0bf3b4c04752>\u001b[0m in \u001b[0;36m<module>\u001b[1;34m\u001b[0m\n\u001b[1;32m----> 1\u001b[1;33m \u001b[0mtop_rest_freq\u001b[0m\u001b[1;33m\u001b[0m\u001b[1;33m\u001b[0m\u001b[0m\n\u001b[0m",
      "\u001b[1;31mNameError\u001b[0m: name 'top_rest_freq' is not defined"
     ]
    }
   ],
   "source": [
    "top_rest_freq"
   ]
  },
  {
   "cell_type": "code",
   "execution_count": 769,
   "metadata": {},
   "outputs": [
    {
     "data": {
      "image/png": "[encoded data removed]",
      "text/plain": [
       "<Figure size 1000x500 with 1 Axes>"
      ]
     },
     "metadata": {},
     "output_type": "display_data"
    }
   ],
   "source": [
    "\n",
    "N = 10\n",
    "ind = np.arange(N)\n",
    "plt.figure(figsize=(10,5))\n",
    "width = 0.3 \n",
    "plt.bar(ind, top_ncr_freq , width, label='NCR',color='Navy')\n",
    "plt.bar(ind + width, sample_freq, width, label='Rest Of India',color=\"orange\")\n",
    "plt.xlabel('Top 10 Cuisines')\n",
    "plt.ylabel('No. of restraunt serving Cuisines')\n",
    "plt.title('Top 10 Cuisines NCR Vs Same Cuisines in Rest Of India')\n",
    "plt.xticks(ind + width / 2, top_ncr,rotation=90)\n",
    "plt.legend(loc='best')\n",
    "plt.show()"
   ]
  },
  {
   "cell_type": "code",
   "execution_count": 331,
   "metadata": {},
   "outputs": [
    {
     "data": {
      "image/png": "[encoded data removed]",
      "text/plain": [
       "<Figure size 1000x500 with 1 Axes>"
      ]
     },
     "metadata": {},
     "output_type": "display_data"
    }
   ],
   "source": [
    "\n",
    "N = 10\n",
    "ind = np.arange(N)\n",
    "plt.figure(figsize=(10,5))\n",
    "width = 0.3       \n",
    "plt.bar(ind, top_rest_freq , width, label='Rest Of India',color=\"orange\")\n",
    "plt.bar(ind + width, sample_freq2, width, label='NCR',color=\"Navy\")\n",
    "plt.ylabel('No. of restraunt serving Cuisines')\n",
    "plt.xlabel('Top 10 Cuisines')\n",
    "plt.title('Top 10 Cuisines Rest Of India Vs Same Cuisines in NCR')\n",
    "plt.xticks(ind + width / 2, top_rest,rotation=90)\n",
    "plt.legend(loc='best')\n",
    "plt.show()"
   ]
  },
  {
   "cell_type": "markdown",
   "metadata": {},
   "source": [
    "# User Rating of a restaurant plays a crucial role in selecting a restaurant or ordering the food from the restaurant.\n",
    "Write a short detail analysis of how the rating is affected by restaurant due following features: Plot a suitable graph to explain your inference.\n",
    "Number of Votes given Restaurant\n",
    "Restaurant serving more number of cuisines.\n",
    "Average Cost of Restaurant\n",
    "Restaurant serving some specific cuisines.\n",
    "Find the weighted restaurant rating of each locality and find out the top 10 localities with more weighted restaurant rating?\n",
    "Weighted Restaurant Rating=Σ (number of votes * rating) / Σ (number of votes) ."
   ]
  },
  {
   "cell_type": "code",
   "execution_count": 454,
   "metadata": {},
   "outputs": [],
   "source": [
    "rating=data[\"Aggregate rating\"]\n",
    "votes=data[\"Votes\"]"
   ]
  },
  {
   "cell_type": "code",
   "execution_count": 360,
   "metadata": {},
   "outputs": [
    {
     "data": {
      "text/plain": [
       "0.0"
      ]
     },
     "execution_count": 360,
     "metadata": {},
     "output_type": "execute_result"
    }
   ],
   "source": [
    "rating.min()"
   ]
  },
  {
   "cell_type": "code",
   "execution_count": 363,
   "metadata": {},
   "outputs": [],
   "source": [
    "ratings1=[]\n",
    "ratings2=[]\n",
    "ratings3=[]\n",
    "count=0\n",
    "count2=0\n",
    "count3=0\n",
    "rating_mean=sum(rating)/len(rating)\n",
    "votes_mean=sum(votes)//len(votes)\n",
    "for i in range (len(votes)):\n",
    "    if votes[i]<156:\n",
    "        count+=1\n",
    "        ratings1.append(rating[i])\n",
    "    elif votes[i]==156:\n",
    "        count2+=1\n",
    "        ratings2.append(rating[i])\n",
    "    else:\n",
    "        count3+=1\n",
    "        ratings3.append(rating[i])"
   ]
  },
  {
   "cell_type": "code",
   "execution_count": 365,
   "metadata": {},
   "outputs": [],
   "source": [
    "ratings1_mean=sum(ratings1)/len(ratings1)\n",
    "ratings2_mean=sum(ratings2)/len(ratings2)\n",
    "ratings3_mean=sum(ratings3)/len(ratings3)"
   ]
  },
  {
   "cell_type": "code",
   "execution_count": 413,
   "metadata": {},
   "outputs": [
    {
     "data": {
      "text/plain": [
       "(7461, 9, 2081, 156)"
      ]
     },
     "execution_count": 413,
     "metadata": {},
     "output_type": "execute_result"
    }
   ],
   "source": [
    "count,count2,count3,votes_mean"
   ]
  },
  {
   "cell_type": "code",
   "execution_count": 368,
   "metadata": {},
   "outputs": [
    {
     "data": {
      "text/plain": [
       "(2.312330786757812, 3.8666666666666663, 3.9305141758769793)"
      ]
     },
     "execution_count": 368,
     "metadata": {},
     "output_type": "execute_result"
    }
   ],
   "source": [
    "ratings1_mean,ratings2_mean,ratings3_mean"
   ]
  },
  {
   "cell_type": "code",
   "execution_count": 372,
   "metadata": {},
   "outputs": [
    {
     "data": {
      "text/plain": [
       "([2.312330786757812, 3.8666666666666663, 3.9305141758769793], [7461, 9, 2081])"
      ]
     },
     "execution_count": 372,
     "metadata": {},
     "output_type": "execute_result"
    }
   ],
   "source": [
    "ratinglist=[]\n",
    "counts=[]\n",
    "counts.append(count)\n",
    "counts.append(count2)\n",
    "counts.append(count3)\n",
    "ratinglist.append(ratings1_mean)\n",
    "ratinglist.append(ratings2_mean)\n",
    "ratinglist.append(ratings3_mean)\n",
    "ratinglist,counts"
   ]
  },
  {
   "cell_type": "code",
   "execution_count": 514,
   "metadata": {},
   "outputs": [
    {
     "data": {
      "image/png": "[encoded data removed]",
      "text/plain": [
       "<Figure size 640x480 with 1 Axes>"
      ]
     },
     "metadata": {},
     "output_type": "display_data"
    }
   ],
   "source": [
    "plt.plot(ratinglist,counts,\"y\")\n",
    "plt.scatter(ratinglist,counts,color=\"Red\")\n",
    "plt.text(2.3,7600, \"A\", fontsize= 12)\n",
    "plt.text(3.77,7, \"B\", fontsize= 12) \n",
    "plt.text(3.9,2320, \"c\", fontsize= 12)\n",
    "plt.ylabel(\"no.of restraunt\")\n",
    "plt.xlabel(\"Ratings\")\n",
    "plt.title(\"A = Mean Rating for no. of votes less than mean no. of votes, B = Mean Rating for no. of votes equal to mean no. of votes, C = Mean Rating for no. of votes more than mean no. of votes\")\n",
    "plt.show()"
   ]
  },
  {
   "cell_type": "markdown",
   "metadata": {},
   "source": [
    "# This shows that if no. of vates are greater then mean no. of votes i'e 156 the rating also increases this implies that rating is affected by number of votes"
   ]
  },
  {
   "cell_type": "code",
   "execution_count": 482,
   "metadata": {},
   "outputs": [],
   "source": [
    "data['Average Cost for two'].dropna(inplace=True)"
   ]
  },
  {
   "cell_type": "code",
   "execution_count": 445,
   "metadata": {},
   "outputs": [],
   "source": [
    "lnp=[]\n",
    "for i in Cuisines_all:\n",
    "    lnp.append(i.strip(',').split(','))"
   ]
  },
  {
   "cell_type": "code",
   "execution_count": 448,
   "metadata": {},
   "outputs": [],
   "source": [
    "no_of_cuisines=[]\n",
    "for i in lnp:\n",
    "    no_of_cuisines.append(len(i))"
   ]
  },
  {
   "cell_type": "code",
   "execution_count": 453,
   "metadata": {},
   "outputs": [
    {
     "data": {
      "text/plain": [
       "2"
      ]
     },
     "execution_count": 453,
     "metadata": {},
     "output_type": "execute_result"
    }
   ],
   "source": [
    "no_of_cuisines_mean=sum(no_of_cuisines)//len(no_of_cuisines)\n",
    "no_of_cuisines_mean"
   ]
  },
  {
   "cell_type": "code",
   "execution_count": 487,
   "metadata": {},
   "outputs": [],
   "source": [
    "ratings4=[]\n",
    "ratings5=[]\n",
    "ratings6=[]\n",
    "count4=0\n",
    "count5=0\n",
    "count6=0\n",
    "for i in range(len(no_of_cuisines)):\n",
    "    if no_of_cuisines[i] < no_of_cuisines_mean:\n",
    "        count4+=1\n",
    "        ratings4.append(rating[i])\n",
    "    elif no_of_cuisines[i]==no_of_cuisines_mean:\n",
    "        count5+=1\n",
    "        ratings5.append(rating[i])\n",
    "    else:\n",
    "        count6+=1\n",
    "        ratings6.append(rating[i])"
   ]
  },
  {
   "cell_type": "code",
   "execution_count": 488,
   "metadata": {},
   "outputs": [],
   "source": [
    "ratings4_mean=sum(ratings4)/len(ratings4)\n",
    "ratings5_mean=sum(ratings5)/len(ratings5)\n",
    "ratings6_mean=sum(ratings6)/len(ratings6)"
   ]
  },
  {
   "cell_type": "code",
   "execution_count": 502,
   "metadata": {},
   "outputs": [
    {
     "data": {
      "text/plain": [
       "([2.4276664702416073, 2.6507549361207956, 2.9809911242603473],\n",
       " [3394, 3444, 2704])"
      ]
     },
     "execution_count": 502,
     "metadata": {},
     "output_type": "execute_result"
    }
   ],
   "source": [
    "ratinglist2=[]\n",
    "counts2=[]\n",
    "counts2.append(count4)\n",
    "counts2.append(count5)\n",
    "counts2.append(count6)\n",
    "ratinglist2.append(ratings4_mean)\n",
    "ratinglist2.append(ratings5_mean)\n",
    "ratinglist2.append(ratings6_mean)\n",
    "ratinglist2,counts2"
   ]
  },
  {
   "cell_type": "code",
   "execution_count": 506,
   "metadata": {},
   "outputs": [
    {
     "data": {
      "image/png": "[encoded data removed]",
      "text/plain": [
       "<Figure size 640x480 with 1 Axes>"
      ]
     },
     "metadata": {},
     "output_type": "display_data"
    }
   ],
   "source": [
    "plt.plot(ratinglist2,counts2)\n",
    "plt.scatter(ratinglist2,counts2,color=\"Red\")\n",
    "plt.text(2.4,3400, \"A\", fontsize= 12)\n",
    "plt.text(2.64,3450, \"B\", fontsize= 12) \n",
    "plt.text(2.96,2704,\"C\",fontsize= 12)\n",
    "plt.ylabel(\"No. of restraunt\")\n",
    "plt.xlabel(\"Ratings\")\n",
    "# plt.title(\"A = Mean Rating for no. of Cuisines less than mean no. of Cuisines, B = Mean Rating for no. of Cuisines equal to mean no. of Cuisines, C = Mean Rating for no. of Cuisines more than mean no. of Cuisines\")\n",
    "plt.show()"
   ]
  },
  {
   "cell_type": "markdown",
   "metadata": {},
   "source": [
    "# This shows that if no. of cuisines are greater then mean no. of cuisines i'e 2 the rating also increases this implies that rating is affected by number of votes"
   ]
  },
  {
   "cell_type": "markdown",
   "metadata": {},
   "source": [
    "kisore bhai bhavnagar"
   ]
  },
  {
   "cell_type": "code",
   "execution_count": 483,
   "metadata": {},
   "outputs": [],
   "source": [
    "cost=data[\"Average Cost for two\"]"
   ]
  },
  {
   "cell_type": "code",
   "execution_count": 484,
   "metadata": {},
   "outputs": [
    {
     "data": {
      "text/plain": [
       "1199.2107632708617"
      ]
     },
     "execution_count": 484,
     "metadata": {},
     "output_type": "execute_result"
    }
   ],
   "source": [
    "average_cost=sum(cost)/len(cost)\n",
    "average_cost"
   ]
  },
  {
   "cell_type": "code",
   "execution_count": 496,
   "metadata": {},
   "outputs": [],
   "source": [
    "ratings7=[]\n",
    "ratings8=[]\n",
    "ratings9=[]\n",
    "count7=0\n",
    "count8=0\n",
    "count9=0\n",
    "for i in range(len(cost)):\n",
    "    if cost[i] < average_cost:\n",
    "        count7+=1\n",
    "        ratings7.append(rating[i])\n",
    "    elif cost[i]==average_cost:\n",
    "        count8+=1\n",
    "        ratings8.append(rating[i])\n",
    "    else:\n",
    "        count9+=1\n",
    "        ratings9.append(rating[i])"
   ]
  },
  {
   "cell_type": "code",
   "execution_count": 500,
   "metadata": {},
   "outputs": [
    {
     "data": {
      "text/plain": [
       "0"
      ]
     },
     "execution_count": 500,
     "metadata": {},
     "output_type": "execute_result"
    }
   ],
   "source": [
    "count8"
   ]
  },
  {
   "cell_type": "code",
   "execution_count": 499,
   "metadata": {},
   "outputs": [],
   "source": [
    "ratings7_mean=sum(ratings7)/len(ratings7)\n",
    "ratings9_mean=sum(ratings9)/len(ratings9)"
   ]
  },
  {
   "cell_type": "code",
   "execution_count": 503,
   "metadata": {},
   "outputs": [
    {
     "data": {
      "text/plain": [
       "([2.535732860520096, 3.679376718606786], [8460, 1091])"
      ]
     },
     "execution_count": 503,
     "metadata": {},
     "output_type": "execute_result"
    }
   ],
   "source": [
    "ratinglist3=[]\n",
    "counts3=[]\n",
    "counts3.append(count7)\n",
    "counts3.append(count9)\n",
    "ratinglist3.append(ratings7_mean)\n",
    "ratinglist3.append(ratings9_mean)\n",
    "ratinglist3,counts3"
   ]
  },
  {
   "cell_type": "code",
   "execution_count": 515,
   "metadata": {},
   "outputs": [
    {
     "data": {
      "image/png": "[encoded data removed]",
      "text/plain": [
       "<Figure size 640x480 with 1 Axes>"
      ]
     },
     "metadata": {},
     "output_type": "display_data"
    }
   ],
   "source": [
    "plt.plot(ratinglist3,counts3,\"g\")\n",
    "plt.scatter(ratinglist3,counts3,color=\"Red\")\n",
    "plt.text(2.49,8500, \"A\", fontsize= 12)\n",
    "plt.text(3.6,999, \"B\", fontsize= 12) \n",
    "plt.ylabel(\"No. of restraunts\")\n",
    "plt.xlabel(\"Ratings\")\n",
    "# plt.title(\"A = Mean Rating for no. of Cuisines less than mean no. of Cuisines, B = Mean Rating for no. of Cuisines equal to mean no. of Cuisines, C = Mean Rating for no. of Cuisines more than mean no. of Cuisines\")\n",
    "plt.show()"
   ]
  },
  {
   "cell_type": "markdown",
   "metadata": {},
   "source": [
    "# This shows that if average cost of two is greater then mean average cost of two i'e 1200 rs the rating also increases "
   ]
  },
  {
   "cell_type": "code",
   "execution_count": 665,
   "metadata": {},
   "outputs": [],
   "source": [
    "lnps=[]\n",
    "for i in range(len(lnp)):\n",
    "    for j in range(len(lnp[i])):\n",
    "        lnps.append((lnp[i][j]).strip())\n"
   ]
  },
  {
   "cell_type": "code",
   "execution_count": 666,
   "metadata": {},
   "outputs": [],
   "source": [
    "cuisines1 = list( dict.fromkeys(lnps) )"
   ]
  },
  {
   "cell_type": "code",
   "execution_count": 568,
   "metadata": {},
   "outputs": [],
   "source": [
    "rnt=[[]]*len(lnp)"
   ]
  },
  {
   "cell_type": "code",
   "execution_count": 675,
   "metadata": {},
   "outputs": [],
   "source": [
    "frequency=[0]*len(cuisines1)\n",
    "# rnt=[0]*cuisines1\n",
    "for i in range(len(cuisines1)):\n",
    "    c=cuisines1[i]\n",
    "    for j in range(len(lnp)):\n",
    "        if c in lnp[j]:\n",
    "            frequency[i]+=1"
   ]
  },
  {
   "cell_type": "code",
   "execution_count": 676,
   "metadata": {},
   "outputs": [
    {
     "data": {
      "text/plain": [
       "(145, 145)"
      ]
     },
     "execution_count": 676,
     "metadata": {},
     "output_type": "execute_result"
    }
   ],
   "source": [
    "len(frequency),len(cuisines1)"
   ]
  },
  {
   "cell_type": "code",
   "execution_count": 679,
   "metadata": {},
   "outputs": [
    {
     "data": {
      "text/plain": [
       "9542"
      ]
     },
     "execution_count": 679,
     "metadata": {},
     "output_type": "execute_result"
    }
   ],
   "source": [
    "sum(frequency)"
   ]
  },
  {
   "cell_type": "code",
   "execution_count": 682,
   "metadata": {},
   "outputs": [],
   "source": [
    "for i in range (len(frequency)):\n",
    "    if frequency[i]==0:\n",
    "        frequency[i]=1"
   ]
  },
  {
   "cell_type": "code",
   "execution_count": 545,
   "metadata": {},
   "outputs": [],
   "source": [
    "for i in range(len(frequency)):\n",
    "    if frequency[i]==0:\n",
    "        cuisines1.pop(i)\n",
    "        frequency.pop(i)"
   ]
  },
  {
   "cell_type": "code",
   "execution_count": 578,
   "metadata": {},
   "outputs": [],
   "source": [
    "t=set(tuple(element) for element in lnp)\n",
    "xx=list(set(t))\n"
   ]
  },
  {
   "cell_type": "code",
   "execution_count": 684,
   "metadata": {},
   "outputs": [],
   "source": [
    "data['Cuisines'].dropna(inplace=True)\n",
    "rating=data[\"Aggregate rating\"]"
   ]
  },
  {
   "cell_type": "code",
   "execution_count": 685,
   "metadata": {},
   "outputs": [],
   "source": [
    "ratings=[]\n",
    "for i in rating:\n",
    "    ratings.append(i)"
   ]
  },
  {
   "cell_type": "code",
   "execution_count": 637,
   "metadata": {},
   "outputs": [
    {
     "data": {
      "text/plain": [
       "3.7"
      ]
     },
     "execution_count": 637,
     "metadata": {},
     "output_type": "execute_result"
    }
   ],
   "source": [
    "ratings.pop(9542)"
   ]
  },
  {
   "cell_type": "code",
   "execution_count": 701,
   "metadata": {},
   "outputs": [
    {
     "data": {
      "text/plain": [
       "(145, 9551, 9551)"
      ]
     },
     "execution_count": 701,
     "metadata": {},
     "output_type": "execute_result"
    }
   ],
   "source": [
    "len(cuisines1),len(lnp),len(ratings)"
   ]
  },
  {
   "cell_type": "code",
   "execution_count": 700,
   "metadata": {},
   "outputs": [],
   "source": [
    "lnp.append(\"0\")"
   ]
  },
  {
   "cell_type": "code",
   "execution_count": 588,
   "metadata": {},
   "outputs": [],
   "source": [
    "count=[0]*len(cuisines1)"
   ]
  },
  {
   "cell_type": "code",
   "execution_count": 663,
   "metadata": {},
   "outputs": [
    {
     "data": {
      "text/plain": [
       "572"
      ]
     },
     "execution_count": 663,
     "metadata": {},
     "output_type": "execute_result"
    }
   ],
   "source": [
    "freq[1]"
   ]
  },
  {
   "cell_type": "code",
   "execution_count": 664,
   "metadata": {},
   "outputs": [
    {
     "data": {
      "text/plain": [
       "4.171428571428572"
      ]
     },
     "execution_count": 664,
     "metadata": {},
     "output_type": "execute_result"
    }
   ],
   "source": [
    "rry[0]/14"
   ]
  },
  {
   "cell_type": "code",
   "execution_count": 687,
   "metadata": {},
   "outputs": [],
   "source": [
    "rry=[0]*145"
   ]
  },
  {
   "cell_type": "code",
   "execution_count": 739,
   "metadata": {},
   "outputs": [],
   "source": [
    "ind=[]\n",
    "for i in range(115):\n",
    "    if rry[i]==0:\n",
    "        ind.append(i)\n",
    "        "
   ]
  },
  {
   "cell_type": "code",
   "execution_count": 740,
   "metadata": {},
   "outputs": [
    {
     "data": {
      "text/plain": [
       "[112]"
      ]
     },
     "execution_count": 740,
     "metadata": {},
     "output_type": "execute_result"
    }
   ],
   "source": [
    "ind"
   ]
  },
  {
   "cell_type": "code",
   "execution_count": 702,
   "metadata": {},
   "outputs": [],
   "source": [
    "for i in range(len(cuisines1)):\n",
    "    for j in range(len(lnp)):\n",
    "        if cuisines1[i] in lnp[j]:\n",
    "            rry[i]=rry[i]+ratings[j]"
   ]
  },
  {
   "cell_type": "code",
   "execution_count": 724,
   "metadata": {},
   "outputs": [],
   "source": [
    "index=[]\n",
    "for i in range(120):\n",
    "    if rry[i]==0:\n",
    "        index.append(i)"
   ]
  },
  {
   "cell_type": "code",
   "execution_count": 741,
   "metadata": {},
   "outputs": [
    {
     "data": {
      "text/plain": [
       "'Durban'"
      ]
     },
     "execution_count": 741,
     "metadata": {},
     "output_type": "execute_result"
    }
   ],
   "source": [
    "rry.pop(112)\n",
    "cuisines1.pop(112)"
   ]
  },
  {
   "cell_type": "code",
   "execution_count": 706,
   "metadata": {},
   "outputs": [],
   "source": [
    "for i in range (len(rry)):\n",
    "    rry[i]=rry[i]/frequency[i]"
   ]
  },
  {
   "cell_type": "code",
   "execution_count": 1219,
   "metadata": {},
   "outputs": [
    {
     "name": "stdout",
     "output_type": "stream",
     "text": [
      "French\n",
      "Japanese\n",
      "Seafood\n",
      "Asian\n",
      "Filipino\n",
      "Indian\n",
      "Sushi\n",
      "European\n",
      "Mexican\n",
      "American\n",
      "Mediterranean\n",
      "Brazilian\n",
      "Arabian\n",
      "Bar Food\n",
      "Grill\n",
      "International\n",
      "Peruvian\n",
      "Latin American\n",
      "Sandwich\n",
      "Steak\n",
      "BBQ\n",
      "Gourmet Fast Food\n",
      "Coffee and Tea\n",
      "Tapas\n",
      "Breakfast\n",
      "Southern\n",
      "Spanish\n",
      "Argentine\n",
      "Caribbean\n",
      "German\n",
      "Modern Australian\n",
      "Cajun\n",
      "Tex-Mex\n",
      "Middle Eastern\n",
      "Greek\n",
      "Australian\n",
      "Cuban\n",
      "Hawaiian\n",
      "Irish\n",
      "Pub Food\n",
      "Persian\n",
      "Singaporean\n",
      "Western\n",
      "British\n",
      "Indonesian\n",
      "Pakistani\n",
      "Goan\n",
      "African\n",
      "Gujarati\n",
      "Charcoal Grill\n",
      "Burmese\n",
      "Oriya\n",
      "Andhra\n",
      "Cuisine Varies\n",
      "Sri Lankan\n",
      "Peranakan\n",
      "Sunda\n",
      "Ramen\n",
      "Kiwi\n",
      "Asian Fusion\n",
      "Taiwanese\n",
      "Contemporary\n",
      "World Cuisine\n",
      "Restaurant Cafe\n"
     ]
    },
    {
     "data": {
      "image/png": "[encoded data removed]",
      "text/plain": [
       "<Figure size 1800x2000 with 1 Axes>"
      ]
     },
     "metadata": {},
     "output_type": "display_data"
    }
   ],
   "source": [
    "#libraries\n",
    "import matplotlib\n",
    "import matplotlib.pyplot as plt\n",
    "import pandas as pd\n",
    "import squarify # pip install squarify (algorithm for treemap)&lt;/pre&gt;\n",
    "plt.figure(figsize=(18,20))\n",
    "# Create a dataset:\n",
    "my_values=[i**3 for i in range(1,100)]\n",
    " \n",
    "# create a color palette, mapped to these values\n",
    "cmap = matplotlib.cm.Reds\n",
    "mini=min(rate)\n",
    "maxi=max(rate)\n",
    "norm = matplotlib.colors.Normalize(vmin=mini, vmax=maxi)\n",
    "colors = [cmap(norm(value)) for value in rate]\n",
    "for i in range(len(cuisine2)):\n",
    "    if rate[i]>rate_mean:\n",
    "        print(cuisine2[i])\n",
    "# Change color\n",
    "squarify.plot(sizes=rate, alpha=.8, color=colors,label=cuisine2,edgecolor=\"Black\")\n",
    "plt.grid()\n",
    "plt.axis('off')\n",
    "plt.show()\n"
   ]
  },
  {
   "cell_type": "code",
   "execution_count": 798,
   "metadata": {},
   "outputs": [],
   "source": [
    "data[\"Locality\"].dropna(inplace=True)"
   ]
  },
  {
   "cell_type": "code",
   "execution_count": 799,
   "metadata": {},
   "outputs": [],
   "source": [
    "data[\"Aggregate rating\"].dropna(inplace=True)"
   ]
  },
  {
   "cell_type": "code",
   "execution_count": 800,
   "metadata": {},
   "outputs": [],
   "source": [
    "data[\"Votes\"].dropna(inplace=True)"
   ]
  },
  {
   "cell_type": "code",
   "execution_count": 872,
   "metadata": {},
   "outputs": [],
   "source": [
    "locality=data[\"Locality\"]\n",
    "ratingw=data[\"Aggregate rating\"]\n",
    "no_of_votes=data[\"Votes\"]"
   ]
  },
  {
   "cell_type": "code",
   "execution_count": 873,
   "metadata": {},
   "outputs": [],
   "source": [
    "locality_main = list( dict.fromkeys(locality) )"
   ]
  },
  {
   "cell_type": "code",
   "execution_count": 874,
   "metadata": {},
   "outputs": [
    {
     "data": {
      "text/plain": [
       "1208"
      ]
     },
     "execution_count": 874,
     "metadata": {},
     "output_type": "execute_result"
    }
   ],
   "source": [
    "len(locality_main)"
   ]
  },
  {
   "cell_type": "markdown",
   "metadata": {},
   "source": [
    "# eighted Restaurant Rating=Σ (number of votes * rating) / Σ (number of votes) ."
   ]
  },
  {
   "cell_type": "code",
   "execution_count": 876,
   "metadata": {},
   "outputs": [],
   "source": [
    "sum_votes_m_rating=[0]*len(locality_main)\n",
    "sum_votes=[0]*len(locality_main)"
   ]
  },
  {
   "cell_type": "code",
   "execution_count": 877,
   "metadata": {},
   "outputs": [
    {
     "data": {
      "text/plain": [
       "(1208, 1208, 1208)"
      ]
     },
     "execution_count": 877,
     "metadata": {},
     "output_type": "execute_result"
    }
   ],
   "source": [
    "len(locality_main),len(sum_votes),len(sum_votes_m_rating)"
   ]
  },
  {
   "cell_type": "code",
   "execution_count": 878,
   "metadata": {},
   "outputs": [],
   "source": [
    "l23=locality_main"
   ]
  },
  {
   "cell_type": "code",
   "execution_count": 844,
   "metadata": {},
   "outputs": [],
   "source": [
    "weighted_rating=[]"
   ]
  },
  {
   "cell_type": "code",
   "execution_count": 1026,
   "metadata": {},
   "outputs": [
    {
     "data": {
      "text/plain": [
       "0"
      ]
     },
     "execution_count": 1026,
     "metadata": {},
     "output_type": "execute_result"
    }
   ],
   "source": [
    "len(index0)"
   ]
  },
  {
   "cell_type": "code",
   "execution_count": 879,
   "metadata": {},
   "outputs": [],
   "source": [
    "for i in range(len(locality_main)):\n",
    "    for j in range(len(locality)):\n",
    "        if locality_main[i]==locality[j]:\n",
    "            sum_votes_m_rating[i]=sum_votes_m_rating[i]+(no_of_votes[i]*ratingw[i])\n",
    "            sum_votes[i]=sum_votes[i]+no_of_votes[i]"
   ]
  },
  {
   "cell_type": "code",
   "execution_count": 880,
   "metadata": {},
   "outputs": [],
   "source": [
    "sample=sum_votes_m_rating\n",
    "sample2=sum_votes"
   ]
  },
  {
   "cell_type": "code",
   "execution_count": 1025,
   "metadata": {},
   "outputs": [],
   "source": [
    "index0=[]\n",
    "for i in range(len(sample2)):\n",
    "    if sum_votes[i]==0:\n",
    "        index0.append(i)"
   ]
  },
  {
   "cell_type": "code",
   "execution_count": 1024,
   "metadata": {},
   "outputs": [],
   "source": [
    "for i in index0:\n",
    "    sample2.pop(i)\n",
    "    sample.pop(i)\n",
    "    l23.pop(i)\n",
    "    break"
   ]
  },
  {
   "cell_type": "code",
   "execution_count": 2,
   "metadata": {},
   "outputs": [
    {
     "ename": "NameError",
     "evalue": "name 'sum_votes_m_rating' is not defined",
     "output_type": "error",
     "traceback": [
      "\u001b[1;31m---------------------------------------------------------------------------\u001b[0m",
      "\u001b[1;31mNameError\u001b[0m                                 Traceback (most recent call last)",
      "\u001b[1;32m<ipython-input-2-1f156c8a2ff3>\u001b[0m in \u001b[0;36m<module>\u001b[1;34m\u001b[0m\n\u001b[1;32m----> 1\u001b[1;33m \u001b[1;32mfor\u001b[0m \u001b[0mi\u001b[0m \u001b[1;32min\u001b[0m \u001b[0mrange\u001b[0m\u001b[1;33m(\u001b[0m\u001b[0mlen\u001b[0m\u001b[1;33m(\u001b[0m\u001b[0msum_votes_m_rating\u001b[0m\u001b[1;33m)\u001b[0m\u001b[1;33m)\u001b[0m\u001b[1;33m:\u001b[0m\u001b[1;33m\u001b[0m\u001b[1;33m\u001b[0m\u001b[0m\n\u001b[0m\u001b[0;32m      2\u001b[0m     \u001b[0mweighted_rating\u001b[0m\u001b[1;33m.\u001b[0m\u001b[0mappend\u001b[0m\u001b[1;33m(\u001b[0m\u001b[0msample\u001b[0m\u001b[1;33m[\u001b[0m\u001b[0mi\u001b[0m\u001b[1;33m]\u001b[0m\u001b[1;33m/\u001b[0m\u001b[0msample2\u001b[0m\u001b[1;33m[\u001b[0m\u001b[0mi\u001b[0m\u001b[1;33m]\u001b[0m\u001b[1;33m)\u001b[0m\u001b[1;33m\u001b[0m\u001b[1;33m\u001b[0m\u001b[0m\n",
      "\u001b[1;31mNameError\u001b[0m: name 'sum_votes_m_rating' is not defined"
     ]
    }
   ],
   "source": [
    "for i in range(len(sum_votes_m_rating)):\n",
    "    weighted_rating.append(sample[i]/sample2[i])"
   ]
  },
  {
   "cell_type": "code",
   "execution_count": 1,
   "metadata": {},
   "outputs": [
    {
     "ename": "NameError",
     "evalue": "name 'weighted_rating' is not defined",
     "output_type": "error",
     "traceback": [
      "\u001b[1;31m---------------------------------------------------------------------------\u001b[0m",
      "\u001b[1;31mNameError\u001b[0m                                 Traceback (most recent call last)",
      "\u001b[1;32m<ipython-input-1-011fc32d6b7d>\u001b[0m in \u001b[0;36m<module>\u001b[1;34m\u001b[0m\n\u001b[1;32m----> 1\u001b[1;33m \u001b[1;32mfor\u001b[0m \u001b[0mi\u001b[0m \u001b[1;32min\u001b[0m \u001b[0mrange\u001b[0m\u001b[1;33m(\u001b[0m\u001b[0mlen\u001b[0m\u001b[1;33m(\u001b[0m\u001b[0mweighted_rating\u001b[0m\u001b[1;33m)\u001b[0m\u001b[1;33m)\u001b[0m\u001b[1;33m:\u001b[0m\u001b[1;33m\u001b[0m\u001b[1;33m\u001b[0m\u001b[0m\n\u001b[0m\u001b[0;32m      2\u001b[0m     \u001b[0mprint\u001b[0m\u001b[1;33m(\u001b[0m\u001b[0ml23\u001b[0m\u001b[1;33m[\u001b[0m\u001b[0mi\u001b[0m\u001b[1;33m]\u001b[0m\u001b[1;33m,\u001b[0m\u001b[1;34m\"{:.2f}\"\u001b[0m\u001b[1;33m.\u001b[0m\u001b[0mformat\u001b[0m\u001b[1;33m(\u001b[0m\u001b[0mweighted_rating\u001b[0m\u001b[1;33m[\u001b[0m\u001b[0mi\u001b[0m\u001b[1;33m]\u001b[0m\u001b[1;33m)\u001b[0m\u001b[1;33m)\u001b[0m\u001b[1;33m\u001b[0m\u001b[1;33m\u001b[0m\u001b[0m\n",
      "\u001b[1;31mNameError\u001b[0m: name 'weighted_rating' is not defined"
     ]
    }
   ],
   "source": [
    "for i in range(len(weighted_rating)):\n",
    "    print(l23[i],\"{:.2f}\".format(weighted_rating[i]))"
   ]
  },
  {
   "cell_type": "code",
   "execution_count": 1030,
   "metadata": {},
   "outputs": [],
   "source": [
    "data[\"Restaurant Name\"].dropna(inplace=True)"
   ]
  },
  {
   "cell_type": "code",
   "execution_count": 1067,
   "metadata": {},
   "outputs": [],
   "source": [
    "res=np.array(data[\"Restaurant Name\"])"
   ]
  },
  {
   "cell_type": "code",
   "execution_count": 1097,
   "metadata": {},
   "outputs": [],
   "source": [
    "data[\"Votes\"].dropna(inplace=True)"
   ]
  },
  {
   "cell_type": "code",
   "execution_count": 1098,
   "metadata": {},
   "outputs": [],
   "source": [
    "votes1=np.array(data[\"Votes\"])"
   ]
  },
  {
   "cell_type": "code",
   "execution_count": 1100,
   "metadata": {},
   "outputs": [
    {
     "data": {
      "text/plain": [
       "(9551, 9551)"
      ]
     },
     "execution_count": 1100,
     "metadata": {},
     "output_type": "execute_result"
    }
   ],
   "source": [
    "len(votes),len(res)"
   ]
  },
  {
   "cell_type": "code",
   "execution_count": 1101,
   "metadata": {},
   "outputs": [],
   "source": [
    "vc=np.array([0]*len(restaurant))"
   ]
  },
  {
   "cell_type": "code",
   "execution_count": 1068,
   "metadata": {},
   "outputs": [],
   "source": [
    "restaurant = np.array(list( dict.fromkeys(res) ))"
   ]
  },
  {
   "cell_type": "code",
   "execution_count": 1069,
   "metadata": {},
   "outputs": [],
   "source": [
    "freq=np.array([0]*len(restaurant))"
   ]
  },
  {
   "cell_type": "code",
   "execution_count": 1070,
   "metadata": {},
   "outputs": [],
   "source": [
    "for i in range(len(restaurant)):\n",
    "    for j  in range(len(res)):\n",
    "        if restaurant[i]==res[j]:\n",
    "            freq[i]+=1"
   ]
  },
  {
   "cell_type": "code",
   "execution_count": 1102,
   "metadata": {},
   "outputs": [],
   "source": [
    "for i in range(len(restaurant)):\n",
    "    for j  in range(len(res)):\n",
    "        if restaurant[i]==res[j]:\n",
    "            vc[i]=vc[i]+votes1[j]"
   ]
  },
  {
   "cell_type": "code",
   "execution_count": 1104,
   "metadata": {},
   "outputs": [
    {
     "data": {
      "text/plain": [
       "7446"
      ]
     },
     "execution_count": 1104,
     "metadata": {},
     "output_type": "execute_result"
    }
   ],
   "source": [
    "len(vc)"
   ]
  },
  {
   "cell_type": "code",
   "execution_count": 1072,
   "metadata": {},
   "outputs": [
    {
     "data": {
      "text/plain": [
       "7446"
      ]
     },
     "execution_count": 1072,
     "metadata": {},
     "output_type": "execute_result"
    }
   ],
   "source": [
    "len(freq)"
   ]
  },
  {
   "cell_type": "code",
   "execution_count": 1059,
   "metadata": {},
   "outputs": [],
   "source": [
    "freq1=freq"
   ]
  },
  {
   "cell_type": "code",
   "execution_count": 1073,
   "metadata": {},
   "outputs": [],
   "source": [
    "data_tuples3 = list(zip(restaurant,freq))"
   ]
  },
  {
   "cell_type": "code",
   "execution_count": 1105,
   "metadata": {},
   "outputs": [],
   "source": [
    "data_tuples7 = list(zip(restaurant,vc))"
   ]
  },
  {
   "cell_type": "code",
   "execution_count": 1106,
   "metadata": {},
   "outputs": [],
   "source": [
    "drn=pd.DataFrame(data_tuples7, columns=['restaurant','vc'])"
   ]
  },
  {
   "cell_type": "code",
   "execution_count": 1107,
   "metadata": {},
   "outputs": [],
   "source": [
    "drn.sort_values(by=['vc'],ascending=False,inplace=True)"
   ]
  },
  {
   "cell_type": "code",
   "execution_count": 1108,
   "metadata": {},
   "outputs": [],
   "source": [
    "drn.reset_index(inplace=True)"
   ]
  },
  {
   "cell_type": "code",
   "execution_count": 1084,
   "metadata": {},
   "outputs": [],
   "source": [
    "top=dr[\"restaurant\"]\n",
    "fr=dr[\"freq\"]\n"
   ]
  },
  {
   "cell_type": "code",
   "execution_count": 1110,
   "metadata": {},
   "outputs": [],
   "source": [
    "top1=drn[\"restaurant\"]\n",
    "vc1=drn[\"vc\"]"
   ]
  },
  {
   "cell_type": "code",
   "execution_count": 1111,
   "metadata": {},
   "outputs": [],
   "source": [
    "top10=[]\n",
    "top10_vc=[]\n",
    "for i in range(10):\n",
    "    top10.append(top1[i])\n",
    "    top10_vc.append(vc1[i])"
   ]
  },
  {
   "cell_type": "code",
   "execution_count": 1116,
   "metadata": {},
   "outputs": [
    {
     "data": {
      "image/png": "[encoded data removed]",
      "text/plain": [
       "<Figure size 1000x500 with 1 Axes>"
      ]
     },
     "metadata": {},
     "output_type": "display_data"
    }
   ],
   "source": [
    "N = 10\n",
    "ind = np.arange(N)\n",
    "plt.figure(figsize=(10,5))\n",
    "width = 0.3       \n",
    "plt.bar(ind, top10_vc , width, label='Vote Counts',color=\"Green\")\n",
    "plt.ylabel('Vote Counts')\n",
    "plt.xlabel('Name')\n",
    "plt.title('Top 10 restraunt in terms of no. of Votes')\n",
    "plt.xticks(ind + width / 2, top10,rotation=90)\n",
    "plt.grid()\n",
    "plt.legend(loc='best')\n",
    "plt.show()"
   ]
  },
  {
   "cell_type": "code",
   "execution_count": 1087,
   "metadata": {},
   "outputs": [],
   "source": [
    "top15=[]\n",
    "top15_fr=[]\n",
    "for i in range(15):\n",
    "    top15.append(top[i])\n",
    "    top15_fr.append(fr[i])"
   ]
  },
  {
   "cell_type": "code",
   "execution_count": 1291,
   "metadata": {},
   "outputs": [
    {
     "data": {
      "image/png": "[encoded data removed]",
      "text/plain": [
       "<Figure size 1000x500 with 1 Axes>"
      ]
     },
     "metadata": {},
     "output_type": "display_data"
    }
   ],
   "source": [
    "\n",
    "N = 15\n",
    "ind = np.arange(N)\n",
    "plt.figure(figsize=(10,5))\n",
    "\n",
    "# Width of a bar \n",
    "width = 0.3       \n",
    "\n",
    "# Plotting\n",
    "plt.bar(ind, top15_fr , width, label='outlets',color=\"orange\")\n",
    "plt.ylabel('No. of outlets')\n",
    "plt.xlabel('Name')\n",
    "plt.title('Top 15 restraunt in terms of no. of Outlets')\n",
    "\n",
    "# xticks()\n",
    "# First argument - A list of positions at which ticks should be placed\n",
    "# Second argument -  A list of labels to place at the given locations\n",
    "plt.xticks(ind + width / 2, top15,rotation=90)\n",
    "\n",
    "# Finding the best position for legends and putting it\n",
    "plt.grid()\n",
    "plt.legend(loc='best')\n",
    "plt.show()"
   ]
  },
  {
   "cell_type": "code",
   "execution_count": 1167,
   "metadata": {},
   "outputs": [],
   "source": [
    "data[\"Cuisines\"].dropna(inplace=True)"
   ]
  },
  {
   "cell_type": "code",
   "execution_count": 1127,
   "metadata": {},
   "outputs": [],
   "source": [
    "data[\"Country Code\"].dropna(inplace=True)"
   ]
  },
  {
   "cell_type": "code",
   "execution_count": 1168,
   "metadata": {},
   "outputs": [],
   "source": [
    "data.reset_index(inplace=True)"
   ]
  },
  {
   "cell_type": "code",
   "execution_count": 1169,
   "metadata": {},
   "outputs": [],
   "source": [
    "c_code=data[\"Country Code\"]"
   ]
  },
  {
   "cell_type": "code",
   "execution_count": 1170,
   "metadata": {},
   "outputs": [],
   "source": [
    "all_c=data[\"Cuisines\"]\n",
    "cin_us=[]"
   ]
  },
  {
   "cell_type": "code",
   "execution_count": 1153,
   "metadata": {},
   "outputs": [
    {
     "data": {
      "text/plain": [
       "0                       French, Japanese, Desserts\n",
       "1                                         Japanese\n",
       "2                 Seafood, Asian, Filipino, Indian\n",
       "3                                  Japanese, Sushi\n",
       "4                                 Japanese, Korean\n",
       "5                                          Chinese\n",
       "6                                  Asian, European\n",
       "7               Seafood, Filipino, Asian, European\n",
       "8                          European, Asian, Indian\n",
       "9                                         Filipino\n",
       "10                               Filipino, Mexican\n",
       "11                   American, Ice Cream, Desserts\n",
       "12                               Filipino, Mexican\n",
       "13                                        Filipino\n",
       "14                                          Korean\n",
       "15               Cafe, American, Italian, Filipino\n",
       "16                                  Italian, Pizza\n",
       "17                                        Filipino\n",
       "18                          Cafe, Korean, Desserts\n",
       "19                 Cafe, Bakery, American, Italian\n",
       "20      Seafood, American, Mediterranean, Japanese\n",
       "21               American, Asian, Italian, Seafood\n",
       "22                               Fast Food, French\n",
       "23                                            Cafe\n",
       "24                                          Bakery\n",
       "25                                       Brazilian\n",
       "26                                           Pizza\n",
       "27                                        Japanese\n",
       "28                                         Arabian\n",
       "29                                        Japanese\n",
       "                           ...                    \n",
       "9521                    Patisserie, Coffee and Tea\n",
       "9522                                         Kebab\n",
       "9523                                 Kebab, Izgara\n",
       "9524                                 World Cuisine\n",
       "9525               World Cuisine, Mexican, Italian\n",
       "9526                                         Steak\n",
       "9527                          Kebab, Turkish Pizza\n",
       "9528                                          Cafe\n",
       "9529                          Kebab, Turkish Pizza\n",
       "9530                  Kebab, Turkish Pizza, Dí_ner\n",
       "9531                                          Cafe\n",
       "9532                          Kebab, Turkish Pizza\n",
       "9533                                 Turkish Pizza\n",
       "9534                Kebab, Desserts, Turkish Pizza\n",
       "9535                Kebab, Desserts, Turkish Pizza\n",
       "9536                                         Pizza\n",
       "9537                                      Desserts\n",
       "9538                                          Cafe\n",
       "9539                     Restaurant Cafe, Desserts\n",
       "9540                                      Bar Food\n",
       "9541            Restaurant Cafe, Turkish, Desserts\n",
       "9542                               Restaurant Cafe\n",
       "9543                                          Cafe\n",
       "9544                              Desserts, Bí_rek\n",
       "9545                                Burger, Izgara\n",
       "9546                                       Turkish\n",
       "9547               World Cuisine, Patisserie, Cafe\n",
       "9548                        Italian, World Cuisine\n",
       "9549                               Restaurant Cafe\n",
       "9550                                          Cafe\n",
       "Name: Cuisines, Length: 9551, dtype: object"
      ]
     },
     "execution_count": 1153,
     "metadata": {},
     "output_type": "execute_result"
    }
   ],
   "source": [
    "all_c"
   ]
  },
  {
   "cell_type": "code",
   "execution_count": 1171,
   "metadata": {},
   "outputs": [],
   "source": [
    "for i in range(len(c_code)):\n",
    "    if c_code[i]==216:\n",
    "        cin_us.append(all_c[i])"
   ]
  },
  {
   "cell_type": "code",
   "execution_count": 1183,
   "metadata": {},
   "outputs": [],
   "source": [
    "cleanedList = [x for x in cin_us if str(x) != 'nan']"
   ]
  },
  {
   "cell_type": "code",
   "execution_count": 1185,
   "metadata": {},
   "outputs": [
    {
     "data": {
      "text/plain": [
       "['BBQ, Burger, Seafood',\n",
       " 'American, BBQ',\n",
       " 'Mexican',\n",
       " 'Coffee and Tea, Sandwich',\n",
       " 'Fast Food',\n",
       " 'Asian, Chinese, Vegetarian',\n",
       " 'Pizza, Bar Food, Sandwich',\n",
       " 'Steak, Tapas, Bar Food',\n",
       " 'Chinese, Seafood, Vegetarian',\n",
       " 'Chinese',\n",
       " 'American, Burger, Sandwich',\n",
       " 'American, Steak',\n",
       " 'Japanese, Steak, Sushi',\n",
       " 'Japanese, Steak, Sushi',\n",
       " 'Seafood, Tapas, Bar Food',\n",
       " 'Italian, Pizza',\n",
       " 'American, Breakfast, Diner',\n",
       " 'American, Southern, Southwestern',\n",
       " 'Southern',\n",
       " 'Mexican',\n",
       " 'Japanese, Korean',\n",
       " 'Breakfast, Burger, Sandwich',\n",
       " 'Breakfast, Sandwich',\n",
       " 'American, Burger, Sandwich',\n",
       " 'American, Italian, Pizza',\n",
       " 'American, Italian, Pizza',\n",
       " 'American',\n",
       " 'International, Southern, Vegetarian',\n",
       " 'Sandwich',\n",
       " 'Italian',\n",
       " 'Asian, Japanese, Sushi',\n",
       " 'Mexican, Spanish',\n",
       " 'International, Southern',\n",
       " 'Bar Food',\n",
       " 'Italian, Pizza, Sandwich',\n",
       " 'Burger, Bar Food',\n",
       " 'Desserts, Latin American, Argentine',\n",
       " 'Chinese, Steak',\n",
       " 'American, Caribbean, Seafood',\n",
       " 'International, Tapas, Vegetarian',\n",
       " 'Desserts, Sandwich, Southern',\n",
       " 'American, Burger',\n",
       " 'Breakfast, French',\n",
       " 'BBQ',\n",
       " 'American',\n",
       " 'Desserts, Italian, Pizza',\n",
       " 'Italian, Pizza, Sandwich',\n",
       " 'Mexican',\n",
       " 'Bar Food, Sandwich, Seafood',\n",
       " 'Mexican, Southwestern, Sushi',\n",
       " 'Steak',\n",
       " 'Indian',\n",
       " 'German',\n",
       " 'Vietnamese',\n",
       " 'Burger, Seafood',\n",
       " 'Thai',\n",
       " 'Mexican',\n",
       " 'American, Bar Food',\n",
       " 'Italian, Pizza',\n",
       " 'Breakfast, Sandwich',\n",
       " 'American, Seafood, Steak',\n",
       " 'European, Spanish',\n",
       " 'Latin American, Steak',\n",
       " 'American, Burger, Sandwich',\n",
       " 'American, Bar Food',\n",
       " 'American, Burger',\n",
       " 'Pizza',\n",
       " 'American, Burger',\n",
       " 'Pizza',\n",
       " 'Mexican',\n",
       " 'Italian, Seafood, Vegetarian',\n",
       " 'Sushi, Thai',\n",
       " 'Japanese, Sushi, Teriyaki',\n",
       " 'Breakfast',\n",
       " 'Brazilian',\n",
       " 'American, BBQ, Steak',\n",
       " 'American',\n",
       " 'American, Mediterranean, Seafood',\n",
       " 'Italian, Pizza',\n",
       " 'Mexican',\n",
       " 'American, Breakfast, Burger',\n",
       " 'American, BBQ, Burger',\n",
       " 'Indian',\n",
       " 'Chinese, Sushi, Thai',\n",
       " 'Chinese',\n",
       " 'American, Italian, Pizza',\n",
       " 'Indian',\n",
       " 'Burger',\n",
       " 'American, Breakfast, Burger',\n",
       " 'Breakfast, Diner',\n",
       " 'American, International, Sushi',\n",
       " 'Pizza',\n",
       " 'International',\n",
       " 'American, Breakfast',\n",
       " 'Mediterranean, Tapas, Vegetarian',\n",
       " 'BBQ',\n",
       " 'Pizza, Sandwich',\n",
       " 'American, Breakfast, Desserts',\n",
       " 'Asian, Japanese',\n",
       " 'Asian, Vietnamese',\n",
       " 'American, Seafood, Cajun',\n",
       " 'American',\n",
       " 'Burger, Bar Food, Southern',\n",
       " 'Pizza, Bar Food',\n",
       " 'Japanese, Steak',\n",
       " 'Breakfast, Diner, Southern',\n",
       " 'Japanese, Steak, Sushi',\n",
       " 'Japanese, Sushi, Thai',\n",
       " 'Seafood, Steak, Vegetarian',\n",
       " 'Steak',\n",
       " 'Chinese',\n",
       " 'BBQ, Southern',\n",
       " 'Italian, Pizza',\n",
       " 'Pizza',\n",
       " 'American, Tapas',\n",
       " 'Asian, Chinese',\n",
       " 'American',\n",
       " 'Italian, Mediterranean, Pizza',\n",
       " 'American, Seafood, Steak',\n",
       " 'American, BBQ, Southern',\n",
       " 'Desserts, Sandwich',\n",
       " 'BBQ',\n",
       " 'Mexican, Tex-Mex',\n",
       " 'BBQ, Breakfast, Southern',\n",
       " 'American',\n",
       " 'Japanese, Sushi',\n",
       " 'Mexican',\n",
       " 'Italian',\n",
       " 'American, Burger',\n",
       " 'Fast Food',\n",
       " 'Mexican',\n",
       " 'American, Japanese, Sushi',\n",
       " 'Japanese',\n",
       " 'Thai',\n",
       " 'Desserts, Sandwich',\n",
       " 'BBQ',\n",
       " 'American, Diner, Southern',\n",
       " 'American, BBQ, Southern',\n",
       " 'Italian, Pizza',\n",
       " 'Indian, Mediterranean, Middle Eastern',\n",
       " 'Sushi, Teriyaki',\n",
       " 'Burger, Pizza',\n",
       " 'American, Breakfast, Greek',\n",
       " 'Italian',\n",
       " 'American, Breakfast',\n",
       " 'Asian',\n",
       " 'Fast Food',\n",
       " 'American, French',\n",
       " 'American, Bar Food, BBQ',\n",
       " 'Mexican',\n",
       " 'Mexican',\n",
       " 'Chinese',\n",
       " 'Thai',\n",
       " 'American',\n",
       " 'American',\n",
       " 'Mexican',\n",
       " 'American',\n",
       " 'Japanese, Sushi',\n",
       " 'American, BBQ, Steak',\n",
       " 'BBQ, Burger, Desserts',\n",
       " 'American, Coffee and Tea',\n",
       " 'BBQ, Caribbean, Cajun',\n",
       " 'Asian, Sushi, Thai',\n",
       " 'Asian, Chinese',\n",
       " 'Latin American, Mexican',\n",
       " 'Italian, Pizza',\n",
       " 'Chinese, Pizza',\n",
       " 'Asian, Vegetarian, Vietnamese, Bubble Tea',\n",
       " 'American, Pizza, Bar Food',\n",
       " 'French',\n",
       " 'Japanese, Sushi',\n",
       " 'Burger, Desserts, Vegetarian',\n",
       " 'American, Italian',\n",
       " 'Chinese',\n",
       " 'Breakfast, Mexican, Southwestern',\n",
       " 'American, BBQ',\n",
       " 'American, Breakfast',\n",
       " 'Latin American',\n",
       " 'Seafood, Sushi',\n",
       " 'Breakfast',\n",
       " 'Seafood',\n",
       " 'Mexican',\n",
       " 'American, BBQ, Seafood',\n",
       " 'Italian',\n",
       " 'American, Burger, Sandwich',\n",
       " 'Mexican',\n",
       " 'Desserts, Pizza, Ice Cream',\n",
       " 'American, Burger',\n",
       " 'Japanese, Steak, Sushi',\n",
       " 'American, Burger',\n",
       " 'International, Pizza',\n",
       " 'Mexican',\n",
       " 'Breakfast, Pizza',\n",
       " 'American, Italian',\n",
       " 'American',\n",
       " 'Italian, Pizza',\n",
       " 'American, Breakfast, Burger',\n",
       " 'American, Burger, Pizza, Cafe',\n",
       " 'American, Seafood, Steak',\n",
       " 'Mexican',\n",
       " 'American, Sandwich, Seafood',\n",
       " 'BBQ, Burger, Seafood',\n",
       " 'American, Burger, Cajun',\n",
       " 'BBQ',\n",
       " 'Chinese, Japanese, Thai',\n",
       " 'Bar Food, Seafood, Vegetarian',\n",
       " 'Seafood',\n",
       " 'American, Southern',\n",
       " 'BBQ, Sandwich',\n",
       " 'Sandwich, Seafood, Cajun',\n",
       " 'Thai',\n",
       " 'BBQ',\n",
       " 'American, European, Sandwich',\n",
       " 'Southern',\n",
       " 'American, Southern',\n",
       " 'German',\n",
       " 'German, Ice Cream',\n",
       " 'Burger, German, Sandwich',\n",
       " 'Italian, Pizza, Sandwich',\n",
       " 'Burger, Desserts, Sandwich',\n",
       " 'Thai',\n",
       " 'Coffee and Tea, Cuban, Latin American',\n",
       " 'Pizza, Sandwich',\n",
       " 'Seafood',\n",
       " 'Chinese, Thai',\n",
       " 'Burger, Desserts, Bar Food',\n",
       " 'American, Seafood',\n",
       " 'Steak',\n",
       " 'Desserts, Greek, Sandwich',\n",
       " 'European, Italian, Mediterranean',\n",
       " 'Greek, Mediterranean, Vegetarian',\n",
       " 'American, Chinese, Sushi',\n",
       " 'Italian',\n",
       " 'Japanese, Sushi, Thai',\n",
       " 'Pizza, Sandwich, Vegetarian',\n",
       " 'Mexican',\n",
       " 'American, Greek, Seafood',\n",
       " 'BBQ',\n",
       " 'Japanese, Sushi, Thai',\n",
       " 'Japanese, Steak, Sushi',\n",
       " 'Breakfast, Burger',\n",
       " 'Italian, Pizza',\n",
       " 'American, International, Southwestern',\n",
       " 'Spanish, Tapas',\n",
       " 'Hawaiian',\n",
       " 'American, Sandwich, Salad',\n",
       " 'Irish',\n",
       " 'New American, Tapas',\n",
       " 'Brazilian, Steak',\n",
       " 'Caribbean',\n",
       " 'Italian',\n",
       " 'Asian, Thai',\n",
       " 'Asian, Latin American, Vegetarian',\n",
       " 'American',\n",
       " 'German',\n",
       " 'American, Sandwich, Tea',\n",
       " 'American, BBQ, Sandwich',\n",
       " 'Cajun',\n",
       " 'Southern, Cajun, Soul Food',\n",
       " 'Mediterranean, Turkish',\n",
       " 'American, Breakfast, Vegetarian',\n",
       " 'Pub Food',\n",
       " 'Mexican, Southwestern, Tex-Mex',\n",
       " 'Burger, Bar Food, Steak',\n",
       " 'Italian, Pizza, Sandwich',\n",
       " 'Asian, Vietnamese',\n",
       " 'Italian, Pizza, Seafood',\n",
       " 'Tapas',\n",
       " 'Burger, Bar Food',\n",
       " 'Latin American, Mexican, Southwestern',\n",
       " 'Seafood, Sushi',\n",
       " 'European, International, Tapas',\n",
       " 'Japanese, Sushi',\n",
       " 'American, Seafood, Sushi',\n",
       " 'Italian, Mediterranean, Pizza',\n",
       " 'Seafood',\n",
       " 'Caribbean, Seafood, Steak',\n",
       " 'Breakfast, Burger',\n",
       " 'Burger, Sandwich, Seafood',\n",
       " 'Caribbean, Seafood',\n",
       " 'Greek',\n",
       " 'Sandwich, Seafood, Cajun',\n",
       " 'Burger, Fast Food',\n",
       " 'American, BBQ, Steak',\n",
       " 'Asian, Thai',\n",
       " 'Pizza, Bar Food',\n",
       " 'Italian, Pizza, Sandwich',\n",
       " 'American, Breakfast',\n",
       " 'Chinese',\n",
       " 'Coffee and Tea, Sandwich',\n",
       " 'Pizza, Sandwich',\n",
       " 'American, Greek',\n",
       " 'Burger, Pizza, Sandwich',\n",
       " 'American, Pizza',\n",
       " 'American, Seafood, Steak',\n",
       " 'Mexican',\n",
       " 'Asian, Sushi, Vegetarian',\n",
       " 'Indian, International, Vegetarian',\n",
       " 'Desserts, Thai',\n",
       " 'New American',\n",
       " 'Indian, Persian',\n",
       " 'Mexican',\n",
       " 'American, BBQ, Burger',\n",
       " 'Seafood',\n",
       " 'Seafood',\n",
       " 'American, Pizza, Bar Food',\n",
       " 'Seafood',\n",
       " 'American, Hawaiian',\n",
       " 'Burger',\n",
       " 'Japanese, Seafood, Sushi',\n",
       " 'Asian',\n",
       " 'Asian, Breakfast, Hawaiian',\n",
       " 'Breakfast, Burger',\n",
       " 'Hawaiian, Seafood, Steak',\n",
       " 'Hawaiian, Seafood, Steak',\n",
       " 'Hawaiian, Seafood',\n",
       " 'Japanese',\n",
       " 'American, Asian, Burger',\n",
       " 'American',\n",
       " 'Hawaiian, Seafood, Steak',\n",
       " 'Breakfast',\n",
       " 'Asian, European, Seafood',\n",
       " 'American, Breakfast, Hawaiian',\n",
       " 'Southern',\n",
       " 'Burger',\n",
       " 'Desserts, Sandwich, Ice Cream',\n",
       " 'American, Southern',\n",
       " 'International, Mediterranean, Sandwich',\n",
       " 'American, Bar Food, Sandwich',\n",
       " 'American, Seafood, Steak',\n",
       " 'American, Breakfast',\n",
       " 'American, Bar Food',\n",
       " 'Breakfast, Vegetarian',\n",
       " 'American, Breakfast',\n",
       " 'Breakfast, Cajun',\n",
       " 'Breakfast, Diner, Sandwich',\n",
       " 'Coffee and Tea, Desserts',\n",
       " 'Pizza, Seafood, Steak',\n",
       " 'Cafe, Sandwich, Southern',\n",
       " 'American, Seafood, Southern',\n",
       " 'American',\n",
       " 'Seafood',\n",
       " 'Burger, Seafood, Steak',\n",
       " 'American, Pizza, Bar Food',\n",
       " 'Asian, Vegetarian, Vietnamese',\n",
       " 'BBQ',\n",
       " 'Japanese, Sushi',\n",
       " 'Asian, Chinese',\n",
       " 'Chinese',\n",
       " 'Pizza',\n",
       " 'Burger',\n",
       " 'American, Desserts, Diner',\n",
       " 'American',\n",
       " 'American, Fast Food',\n",
       " 'American, Seafood, Steak',\n",
       " 'Mexican',\n",
       " 'Caribbean, Mexican, Cajun',\n",
       " 'Japanese, Steak, Sushi',\n",
       " 'Asian, Thai, Vegetarian',\n",
       " 'Pizza',\n",
       " 'Italian',\n",
       " 'American, Seafood, Steak',\n",
       " 'BBQ, Caribbean, Seafood',\n",
       " 'Latin American, Mexican, Southwestern',\n",
       " 'American, Italian, Seafood',\n",
       " 'Spanish, Tapas',\n",
       " 'British, Bar Food, Sandwich',\n",
       " 'American, Desserts, Steak',\n",
       " 'Breakfast',\n",
       " 'International',\n",
       " 'Breakfast, Spanish, Tapas',\n",
       " 'American, Burger',\n",
       " 'American, Seafood, Steak',\n",
       " 'Italian, Deli',\n",
       " 'Sandwich, Seafood, Steak',\n",
       " 'European, German',\n",
       " 'Breakfast, Mexican',\n",
       " 'Desserts, Bar Food',\n",
       " 'International, Italian, Southern',\n",
       " 'Mexican, Vegetarian',\n",
       " 'Seafood, Steak',\n",
       " 'Cuban, Spanish',\n",
       " 'Bar Food',\n",
       " 'Mexican',\n",
       " 'Seafood, Southern',\n",
       " 'Burger, Seafood, Steak',\n",
       " 'Asian, Chinese, Thai',\n",
       " 'Pizza, Sandwich',\n",
       " 'Burger, Bar Food, Vegetarian',\n",
       " 'Fast Food, Seafood',\n",
       " 'American',\n",
       " 'Mexican',\n",
       " 'American, Southern',\n",
       " 'Greek, Italian',\n",
       " 'Mexican',\n",
       " 'Japanese, Sushi',\n",
       " 'Italian',\n",
       " 'Japanese, Steak, Sushi',\n",
       " 'Indian, Middle Eastern',\n",
       " 'Mexican',\n",
       " 'Southern',\n",
       " 'BBQ',\n",
       " 'Coffee and Tea, Mediterranean',\n",
       " 'Indian, Middle Eastern',\n",
       " 'Italian, Pizza, Vegetarian',\n",
       " 'Desserts',\n",
       " 'Chinese',\n",
       " 'Asian, Chinese',\n",
       " 'American, Breakfast',\n",
       " 'American, Italian, Seafood',\n",
       " 'Burger, Pizza, Sandwich',\n",
       " 'Japanese, Sushi',\n",
       " 'Coffee and Tea, Desserts, Beverages',\n",
       " 'Sandwich, Sushi, Tapas',\n",
       " 'American, BBQ, Steak',\n",
       " 'Pizza, Sandwich',\n",
       " 'Mexican',\n",
       " 'American',\n",
       " 'Chinese',\n",
       " 'Mexican',\n",
       " 'American, Bar Food',\n",
       " 'Thai',\n",
       " 'Japanese, Steak, Sushi',\n",
       " 'Burger, Greek, Sandwich',\n",
       " 'Burger, Seafood, Steak']"
      ]
     },
     "execution_count": 1185,
     "metadata": {},
     "output_type": "execute_result"
    }
   ],
   "source": [
    "cleanedList"
   ]
  },
  {
   "cell_type": "code",
   "execution_count": 1187,
   "metadata": {},
   "outputs": [],
   "source": [
    "clist=[]\n",
    "for i in cleanedList:\n",
    "    clist.append(i.strip(',').split(','))"
   ]
  },
  {
   "cell_type": "code",
   "execution_count": 1188,
   "metadata": {},
   "outputs": [
    {
     "data": {
      "text/plain": [
       "[['BBQ', ' Burger', ' Seafood'],\n",
       " ['American', ' BBQ'],\n",
       " ['Mexican'],\n",
       " ['Coffee and Tea', ' Sandwich'],\n",
       " ['Fast Food'],\n",
       " ['Asian', ' Chinese', ' Vegetarian'],\n",
       " ['Pizza', ' Bar Food', ' Sandwich'],\n",
       " ['Steak', ' Tapas', ' Bar Food'],\n",
       " ['Chinese', ' Seafood', ' Vegetarian'],\n",
       " ['Chinese'],\n",
       " ['American', ' Burger', ' Sandwich'],\n",
       " ['American', ' Steak'],\n",
       " ['Japanese', ' Steak', ' Sushi'],\n",
       " ['Japanese', ' Steak', ' Sushi'],\n",
       " ['Seafood', ' Tapas', ' Bar Food'],\n",
       " ['Italian', ' Pizza'],\n",
       " ['American', ' Breakfast', ' Diner'],\n",
       " ['American', ' Southern', ' Southwestern'],\n",
       " ['Southern'],\n",
       " ['Mexican'],\n",
       " ['Japanese', ' Korean'],\n",
       " ['Breakfast', ' Burger', ' Sandwich'],\n",
       " ['Breakfast', ' Sandwich'],\n",
       " ['American', ' Burger', ' Sandwich'],\n",
       " ['American', ' Italian', ' Pizza'],\n",
       " ['American', ' Italian', ' Pizza'],\n",
       " ['American'],\n",
       " ['International', ' Southern', ' Vegetarian'],\n",
       " ['Sandwich'],\n",
       " ['Italian'],\n",
       " ['Asian', ' Japanese', ' Sushi'],\n",
       " ['Mexican', ' Spanish'],\n",
       " ['International', ' Southern'],\n",
       " ['Bar Food'],\n",
       " ['Italian', ' Pizza', ' Sandwich'],\n",
       " ['Burger', ' Bar Food'],\n",
       " ['Desserts', ' Latin American', ' Argentine'],\n",
       " ['Chinese', ' Steak'],\n",
       " ['American', ' Caribbean', ' Seafood'],\n",
       " ['International', ' Tapas', ' Vegetarian'],\n",
       " ['Desserts', ' Sandwich', ' Southern'],\n",
       " ['American', ' Burger'],\n",
       " ['Breakfast', ' French'],\n",
       " ['BBQ'],\n",
       " ['American'],\n",
       " ['Desserts', ' Italian', ' Pizza'],\n",
       " ['Italian', ' Pizza', ' Sandwich'],\n",
       " ['Mexican'],\n",
       " ['Bar Food', ' Sandwich', ' Seafood'],\n",
       " ['Mexican', ' Southwestern', ' Sushi'],\n",
       " ['Steak'],\n",
       " ['Indian'],\n",
       " ['German'],\n",
       " ['Vietnamese'],\n",
       " ['Burger', ' Seafood'],\n",
       " ['Thai'],\n",
       " ['Mexican'],\n",
       " ['American', ' Bar Food'],\n",
       " ['Italian', ' Pizza'],\n",
       " ['Breakfast', ' Sandwich'],\n",
       " ['American', ' Seafood', ' Steak'],\n",
       " ['European', ' Spanish'],\n",
       " ['Latin American', ' Steak'],\n",
       " ['American', ' Burger', ' Sandwich'],\n",
       " ['American', ' Bar Food'],\n",
       " ['American', ' Burger'],\n",
       " ['Pizza'],\n",
       " ['American', ' Burger'],\n",
       " ['Pizza'],\n",
       " ['Mexican'],\n",
       " ['Italian', ' Seafood', ' Vegetarian'],\n",
       " ['Sushi', ' Thai'],\n",
       " ['Japanese', ' Sushi', ' Teriyaki'],\n",
       " ['Breakfast'],\n",
       " ['Brazilian'],\n",
       " ['American', ' BBQ', ' Steak'],\n",
       " ['American'],\n",
       " ['American', ' Mediterranean', ' Seafood'],\n",
       " ['Italian', ' Pizza'],\n",
       " ['Mexican'],\n",
       " ['American', ' Breakfast', ' Burger'],\n",
       " ['American', ' BBQ', ' Burger'],\n",
       " ['Indian'],\n",
       " ['Chinese', ' Sushi', ' Thai'],\n",
       " ['Chinese'],\n",
       " ['American', ' Italian', ' Pizza'],\n",
       " ['Indian'],\n",
       " ['Burger'],\n",
       " ['American', ' Breakfast', ' Burger'],\n",
       " ['Breakfast', ' Diner'],\n",
       " ['American', ' International', ' Sushi'],\n",
       " ['Pizza'],\n",
       " ['International'],\n",
       " ['American', ' Breakfast'],\n",
       " ['Mediterranean', ' Tapas', ' Vegetarian'],\n",
       " ['BBQ'],\n",
       " ['Pizza', ' Sandwich'],\n",
       " ['American', ' Breakfast', ' Desserts'],\n",
       " ['Asian', ' Japanese'],\n",
       " ['Asian', ' Vietnamese'],\n",
       " ['American', ' Seafood', ' Cajun'],\n",
       " ['American'],\n",
       " ['Burger', ' Bar Food', ' Southern'],\n",
       " ['Pizza', ' Bar Food'],\n",
       " ['Japanese', ' Steak'],\n",
       " ['Breakfast', ' Diner', ' Southern'],\n",
       " ['Japanese', ' Steak', ' Sushi'],\n",
       " ['Japanese', ' Sushi', ' Thai'],\n",
       " ['Seafood', ' Steak', ' Vegetarian'],\n",
       " ['Steak'],\n",
       " ['Chinese'],\n",
       " ['BBQ', ' Southern'],\n",
       " ['Italian', ' Pizza'],\n",
       " ['Pizza'],\n",
       " ['American', ' Tapas'],\n",
       " ['Asian', ' Chinese'],\n",
       " ['American'],\n",
       " ['Italian', ' Mediterranean', ' Pizza'],\n",
       " ['American', ' Seafood', ' Steak'],\n",
       " ['American', ' BBQ', ' Southern'],\n",
       " ['Desserts', ' Sandwich'],\n",
       " ['BBQ'],\n",
       " ['Mexican', ' Tex-Mex'],\n",
       " ['BBQ', ' Breakfast', ' Southern'],\n",
       " ['American'],\n",
       " ['Japanese', ' Sushi'],\n",
       " ['Mexican'],\n",
       " ['Italian'],\n",
       " ['American', ' Burger'],\n",
       " ['Fast Food'],\n",
       " ['Mexican'],\n",
       " ['American', ' Japanese', ' Sushi'],\n",
       " ['Japanese'],\n",
       " ['Thai'],\n",
       " ['Desserts', ' Sandwich'],\n",
       " ['BBQ'],\n",
       " ['American', ' Diner', ' Southern'],\n",
       " ['American', ' BBQ', ' Southern'],\n",
       " ['Italian', ' Pizza'],\n",
       " ['Indian', ' Mediterranean', ' Middle Eastern'],\n",
       " ['Sushi', ' Teriyaki'],\n",
       " ['Burger', ' Pizza'],\n",
       " ['American', ' Breakfast', ' Greek'],\n",
       " ['Italian'],\n",
       " ['American', ' Breakfast'],\n",
       " ['Asian'],\n",
       " ['Fast Food'],\n",
       " ['American', ' French'],\n",
       " ['American', ' Bar Food', ' BBQ'],\n",
       " ['Mexican'],\n",
       " ['Mexican'],\n",
       " ['Chinese'],\n",
       " ['Thai'],\n",
       " ['American'],\n",
       " ['American'],\n",
       " ['Mexican'],\n",
       " ['American'],\n",
       " ['Japanese', ' Sushi'],\n",
       " ['American', ' BBQ', ' Steak'],\n",
       " ['BBQ', ' Burger', ' Desserts'],\n",
       " ['American', ' Coffee and Tea'],\n",
       " ['BBQ', ' Caribbean', ' Cajun'],\n",
       " ['Asian', ' Sushi', ' Thai'],\n",
       " ['Asian', ' Chinese'],\n",
       " ['Latin American', ' Mexican'],\n",
       " ['Italian', ' Pizza'],\n",
       " ['Chinese', ' Pizza'],\n",
       " ['Asian', ' Vegetarian', ' Vietnamese', ' Bubble Tea'],\n",
       " ['American', ' Pizza', ' Bar Food'],\n",
       " ['French'],\n",
       " ['Japanese', ' Sushi'],\n",
       " ['Burger', ' Desserts', ' Vegetarian'],\n",
       " ['American', ' Italian'],\n",
       " ['Chinese'],\n",
       " ['Breakfast', ' Mexican', ' Southwestern'],\n",
       " ['American', ' BBQ'],\n",
       " ['American', ' Breakfast'],\n",
       " ['Latin American'],\n",
       " ['Seafood', ' Sushi'],\n",
       " ['Breakfast'],\n",
       " ['Seafood'],\n",
       " ['Mexican'],\n",
       " ['American', ' BBQ', ' Seafood'],\n",
       " ['Italian'],\n",
       " ['American', ' Burger', ' Sandwich'],\n",
       " ['Mexican'],\n",
       " ['Desserts', ' Pizza', ' Ice Cream'],\n",
       " ['American', ' Burger'],\n",
       " ['Japanese', ' Steak', ' Sushi'],\n",
       " ['American', ' Burger'],\n",
       " ['International', ' Pizza'],\n",
       " ['Mexican'],\n",
       " ['Breakfast', ' Pizza'],\n",
       " ['American', ' Italian'],\n",
       " ['American'],\n",
       " ['Italian', ' Pizza'],\n",
       " ['American', ' Breakfast', ' Burger'],\n",
       " ['American', ' Burger', ' Pizza', ' Cafe'],\n",
       " ['American', ' Seafood', ' Steak'],\n",
       " ['Mexican'],\n",
       " ['American', ' Sandwich', ' Seafood'],\n",
       " ['BBQ', ' Burger', ' Seafood'],\n",
       " ['American', ' Burger', ' Cajun'],\n",
       " ['BBQ'],\n",
       " ['Chinese', ' Japanese', ' Thai'],\n",
       " ['Bar Food', ' Seafood', ' Vegetarian'],\n",
       " ['Seafood'],\n",
       " ['American', ' Southern'],\n",
       " ['BBQ', ' Sandwich'],\n",
       " ['Sandwich', ' Seafood', ' Cajun'],\n",
       " ['Thai'],\n",
       " ['BBQ'],\n",
       " ['American', ' European', ' Sandwich'],\n",
       " ['Southern'],\n",
       " ['American', ' Southern'],\n",
       " ['German'],\n",
       " ['German', ' Ice Cream'],\n",
       " ['Burger', ' German', ' Sandwich'],\n",
       " ['Italian', ' Pizza', ' Sandwich'],\n",
       " ['Burger', ' Desserts', ' Sandwich'],\n",
       " ['Thai'],\n",
       " ['Coffee and Tea', ' Cuban', ' Latin American'],\n",
       " ['Pizza', ' Sandwich'],\n",
       " ['Seafood'],\n",
       " ['Chinese', ' Thai'],\n",
       " ['Burger', ' Desserts', ' Bar Food'],\n",
       " ['American', ' Seafood'],\n",
       " ['Steak'],\n",
       " ['Desserts', ' Greek', ' Sandwich'],\n",
       " ['European', ' Italian', ' Mediterranean'],\n",
       " ['Greek', ' Mediterranean', ' Vegetarian'],\n",
       " ['American', ' Chinese', ' Sushi'],\n",
       " ['Italian'],\n",
       " ['Japanese', ' Sushi', ' Thai'],\n",
       " ['Pizza', ' Sandwich', ' Vegetarian'],\n",
       " ['Mexican'],\n",
       " ['American', ' Greek', ' Seafood'],\n",
       " ['BBQ'],\n",
       " ['Japanese', ' Sushi', ' Thai'],\n",
       " ['Japanese', ' Steak', ' Sushi'],\n",
       " ['Breakfast', ' Burger'],\n",
       " ['Italian', ' Pizza'],\n",
       " ['American', ' International', ' Southwestern'],\n",
       " ['Spanish', ' Tapas'],\n",
       " ['Hawaiian'],\n",
       " ['American', ' Sandwich', ' Salad'],\n",
       " ['Irish'],\n",
       " ['New American', ' Tapas'],\n",
       " ['Brazilian', ' Steak'],\n",
       " ['Caribbean'],\n",
       " ['Italian'],\n",
       " ['Asian', ' Thai'],\n",
       " ['Asian', ' Latin American', ' Vegetarian'],\n",
       " ['American'],\n",
       " ['German'],\n",
       " ['American', ' Sandwich', ' Tea'],\n",
       " ['American', ' BBQ', ' Sandwich'],\n",
       " ['Cajun'],\n",
       " ['Southern', ' Cajun', ' Soul Food'],\n",
       " ['Mediterranean', ' Turkish'],\n",
       " ['American', ' Breakfast', ' Vegetarian'],\n",
       " ['Pub Food'],\n",
       " ['Mexican', ' Southwestern', ' Tex-Mex'],\n",
       " ['Burger', ' Bar Food', ' Steak'],\n",
       " ['Italian', ' Pizza', ' Sandwich'],\n",
       " ['Asian', ' Vietnamese'],\n",
       " ['Italian', ' Pizza', ' Seafood'],\n",
       " ['Tapas'],\n",
       " ['Burger', ' Bar Food'],\n",
       " ['Latin American', ' Mexican', ' Southwestern'],\n",
       " ['Seafood', ' Sushi'],\n",
       " ['European', ' International', ' Tapas'],\n",
       " ['Japanese', ' Sushi'],\n",
       " ['American', ' Seafood', ' Sushi'],\n",
       " ['Italian', ' Mediterranean', ' Pizza'],\n",
       " ['Seafood'],\n",
       " ['Caribbean', ' Seafood', ' Steak'],\n",
       " ['Breakfast', ' Burger'],\n",
       " ['Burger', ' Sandwich', ' Seafood'],\n",
       " ['Caribbean', ' Seafood'],\n",
       " ['Greek'],\n",
       " ['Sandwich', ' Seafood', ' Cajun'],\n",
       " ['Burger', ' Fast Food'],\n",
       " ['American', ' BBQ', ' Steak'],\n",
       " ['Asian', ' Thai'],\n",
       " ['Pizza', ' Bar Food'],\n",
       " ['Italian', ' Pizza', ' Sandwich'],\n",
       " ['American', ' Breakfast'],\n",
       " ['Chinese'],\n",
       " ['Coffee and Tea', ' Sandwich'],\n",
       " ['Pizza', ' Sandwich'],\n",
       " ['American', ' Greek'],\n",
       " ['Burger', ' Pizza', ' Sandwich'],\n",
       " ['American', ' Pizza'],\n",
       " ['American', ' Seafood', ' Steak'],\n",
       " ['Mexican'],\n",
       " ['Asian', ' Sushi', ' Vegetarian'],\n",
       " ['Indian', ' International', ' Vegetarian'],\n",
       " ['Desserts', ' Thai'],\n",
       " ['New American'],\n",
       " ['Indian', ' Persian'],\n",
       " ['Mexican'],\n",
       " ['American', ' BBQ', ' Burger'],\n",
       " ['Seafood'],\n",
       " ['Seafood'],\n",
       " ['American', ' Pizza', ' Bar Food'],\n",
       " ['Seafood'],\n",
       " ['American', ' Hawaiian'],\n",
       " ['Burger'],\n",
       " ['Japanese', ' Seafood', ' Sushi'],\n",
       " ['Asian'],\n",
       " ['Asian', ' Breakfast', ' Hawaiian'],\n",
       " ['Breakfast', ' Burger'],\n",
       " ['Hawaiian', ' Seafood', ' Steak'],\n",
       " ['Hawaiian', ' Seafood', ' Steak'],\n",
       " ['Hawaiian', ' Seafood'],\n",
       " ['Japanese'],\n",
       " ['American', ' Asian', ' Burger'],\n",
       " ['American'],\n",
       " ['Hawaiian', ' Seafood', ' Steak'],\n",
       " ['Breakfast'],\n",
       " ['Asian', ' European', ' Seafood'],\n",
       " ['American', ' Breakfast', ' Hawaiian'],\n",
       " ['Southern'],\n",
       " ['Burger'],\n",
       " ['Desserts', ' Sandwich', ' Ice Cream'],\n",
       " ['American', ' Southern'],\n",
       " ['International', ' Mediterranean', ' Sandwich'],\n",
       " ['American', ' Bar Food', ' Sandwich'],\n",
       " ['American', ' Seafood', ' Steak'],\n",
       " ['American', ' Breakfast'],\n",
       " ['American', ' Bar Food'],\n",
       " ['Breakfast', ' Vegetarian'],\n",
       " ['American', ' Breakfast'],\n",
       " ['Breakfast', ' Cajun'],\n",
       " ['Breakfast', ' Diner', ' Sandwich'],\n",
       " ['Coffee and Tea', ' Desserts'],\n",
       " ['Pizza', ' Seafood', ' Steak'],\n",
       " ['Cafe', ' Sandwich', ' Southern'],\n",
       " ['American', ' Seafood', ' Southern'],\n",
       " ['American'],\n",
       " ['Seafood'],\n",
       " ['Burger', ' Seafood', ' Steak'],\n",
       " ['American', ' Pizza', ' Bar Food'],\n",
       " ['Asian', ' Vegetarian', ' Vietnamese'],\n",
       " ['BBQ'],\n",
       " ['Japanese', ' Sushi'],\n",
       " ['Asian', ' Chinese'],\n",
       " ['Chinese'],\n",
       " ['Pizza'],\n",
       " ['Burger'],\n",
       " ['American', ' Desserts', ' Diner'],\n",
       " ['American'],\n",
       " ['American', ' Fast Food'],\n",
       " ['American', ' Seafood', ' Steak'],\n",
       " ['Mexican'],\n",
       " ['Caribbean', ' Mexican', ' Cajun'],\n",
       " ['Japanese', ' Steak', ' Sushi'],\n",
       " ['Asian', ' Thai', ' Vegetarian'],\n",
       " ['Pizza'],\n",
       " ['Italian'],\n",
       " ['American', ' Seafood', ' Steak'],\n",
       " ['BBQ', ' Caribbean', ' Seafood'],\n",
       " ['Latin American', ' Mexican', ' Southwestern'],\n",
       " ['American', ' Italian', ' Seafood'],\n",
       " ['Spanish', ' Tapas'],\n",
       " ['British', ' Bar Food', ' Sandwich'],\n",
       " ['American', ' Desserts', ' Steak'],\n",
       " ['Breakfast'],\n",
       " ['International'],\n",
       " ['Breakfast', ' Spanish', ' Tapas'],\n",
       " ['American', ' Burger'],\n",
       " ['American', ' Seafood', ' Steak'],\n",
       " ['Italian', ' Deli'],\n",
       " ['Sandwich', ' Seafood', ' Steak'],\n",
       " ['European', ' German'],\n",
       " ['Breakfast', ' Mexican'],\n",
       " ['Desserts', ' Bar Food'],\n",
       " ['International', ' Italian', ' Southern'],\n",
       " ['Mexican', ' Vegetarian'],\n",
       " ['Seafood', ' Steak'],\n",
       " ['Cuban', ' Spanish'],\n",
       " ['Bar Food'],\n",
       " ['Mexican'],\n",
       " ['Seafood', ' Southern'],\n",
       " ['Burger', ' Seafood', ' Steak'],\n",
       " ['Asian', ' Chinese', ' Thai'],\n",
       " ['Pizza', ' Sandwich'],\n",
       " ['Burger', ' Bar Food', ' Vegetarian'],\n",
       " ['Fast Food', ' Seafood'],\n",
       " ['American'],\n",
       " ['Mexican'],\n",
       " ['American', ' Southern'],\n",
       " ['Greek', ' Italian'],\n",
       " ['Mexican'],\n",
       " ['Japanese', ' Sushi'],\n",
       " ['Italian'],\n",
       " ['Japanese', ' Steak', ' Sushi'],\n",
       " ['Indian', ' Middle Eastern'],\n",
       " ['Mexican'],\n",
       " ['Southern'],\n",
       " ['BBQ'],\n",
       " ['Coffee and Tea', ' Mediterranean'],\n",
       " ['Indian', ' Middle Eastern'],\n",
       " ['Italian', ' Pizza', ' Vegetarian'],\n",
       " ['Desserts'],\n",
       " ['Chinese'],\n",
       " ['Asian', ' Chinese'],\n",
       " ['American', ' Breakfast'],\n",
       " ['American', ' Italian', ' Seafood'],\n",
       " ['Burger', ' Pizza', ' Sandwich'],\n",
       " ['Japanese', ' Sushi'],\n",
       " ['Coffee and Tea', ' Desserts', ' Beverages'],\n",
       " ['Sandwich', ' Sushi', ' Tapas'],\n",
       " ['American', ' BBQ', ' Steak'],\n",
       " ['Pizza', ' Sandwich'],\n",
       " ['Mexican'],\n",
       " ['American'],\n",
       " ['Chinese'],\n",
       " ['Mexican'],\n",
       " ['American', ' Bar Food'],\n",
       " ['Thai'],\n",
       " ['Japanese', ' Steak', ' Sushi'],\n",
       " ['Burger', ' Greek', ' Sandwich'],\n",
       " ['Burger', ' Seafood', ' Steak']]"
      ]
     },
     "execution_count": 1188,
     "metadata": {},
     "output_type": "execute_result"
    }
   ],
   "source": [
    "clist"
   ]
  },
  {
   "cell_type": "code",
   "execution_count": 1189,
   "metadata": {},
   "outputs": [],
   "source": [
    "l9=[]\n",
    "for i in range(len(clist)):\n",
    "    for j in range(len(clist[i])):\n",
    "        l9.append((clist[i][j]).strip())"
   ]
  },
  {
   "cell_type": "code",
   "execution_count": 1191,
   "metadata": {},
   "outputs": [],
   "source": [
    "cuisines_us = list( dict.fromkeys(l9) )"
   ]
  },
  {
   "cell_type": "code",
   "execution_count": 1193,
   "metadata": {},
   "outputs": [],
   "source": [
    "no_of_res=np.array([0]*len(cuisines_us))"
   ]
  },
  {
   "cell_type": "code",
   "execution_count": 1194,
   "metadata": {},
   "outputs": [],
   "source": [
    "for i in range(len(cuisines_us)):\n",
    "    for j in range(len(clist)):\n",
    "        if cuisines_us[i] in clist[j]:\n",
    "            no_of_res[i]+=1"
   ]
  },
  {
   "cell_type": "code",
   "execution_count": 1195,
   "metadata": {},
   "outputs": [
    {
     "data": {
      "text/plain": [
       "array([ 17,  23,  14, 112,  30,   6,   5,   4,  22,  15,   0,  16,   4,\n",
       "         4,   1,  24,   2,  27,  20,   0,   5,   0,   0,   8,   2,  11,\n",
       "         5,   0,   4,   1,   8,   4,   1,   6,   4,   0,   2,   2,   1,\n",
       "         0,   0,   3,   0,   0,   1,   1,   5,   0,   1,   2,   0,   0,\n",
       "         0,   1,   0,   1,   0,   0])"
      ]
     },
     "execution_count": 1195,
     "metadata": {},
     "output_type": "execute_result"
    }
   ],
   "source": [
    "no_of_res"
   ]
  },
  {
   "cell_type": "code",
   "execution_count": 1197,
   "metadata": {},
   "outputs": [],
   "source": [
    "data_tuples8 = list(zip(cuisines_us,no_of_res))"
   ]
  },
  {
   "cell_type": "code",
   "execution_count": 1198,
   "metadata": {},
   "outputs": [],
   "source": [
    "drn2=pd.DataFrame(data_tuples8, columns=['c_us','res_count'])"
   ]
  },
  {
   "cell_type": "code",
   "execution_count": 1199,
   "metadata": {},
   "outputs": [],
   "source": [
    "drn2.sort_values(by=['res_count'],ascending=False,inplace=True)"
   ]
  },
  {
   "cell_type": "code",
   "execution_count": 1200,
   "metadata": {},
   "outputs": [],
   "source": [
    "drn2.reset_index(inplace=True)"
   ]
  },
  {
   "cell_type": "code",
   "execution_count": 1202,
   "metadata": {},
   "outputs": [],
   "source": [
    "c_us=drn2[\"c_us\"]\n",
    "res_count=drn2[\"res_count\"]"
   ]
  },
  {
   "cell_type": "code",
   "execution_count": 1203,
   "metadata": {},
   "outputs": [],
   "source": [
    "c_us10=[]\n",
    "res_count10=[]\n",
    "for i in range(10):\n",
    "    c_us10.append(c_us[i])\n",
    "    res_count10.append(res_count[i])"
   ]
  },
  {
   "cell_type": "code",
   "execution_count": 1212,
   "metadata": {},
   "outputs": [
    {
     "data": {
      "image/png": "[encoded data removed]",
      "text/plain": [
       "<Figure size 1000x500 with 1 Axes>"
      ]
     },
     "metadata": {},
     "output_type": "display_data"
    }
   ],
   "source": [
    "explode=np.array([0.1,0.03,0.03,0.03,0.03,0.03,0.03,0.03,0.03,0.03])\n",
    "plt.figure(figsize=(10,5))\n",
    "cmap = matplotlib.cm.Purples\n",
    "mini=min(res_count10)\n",
    "maxi=max(res_count10)\n",
    "norm = matplotlib.colors.Normalize(vmin=mini, vmax=maxi)\n",
    "colors = [cmap(norm(value)) for value in res_count10]\n",
    "plt.pie(res_count10,labels=c_us10, autopct=\"%.1f%%\",explode=explode,colors=colors)\n",
    "plt.show()"
   ]
  },
  {
   "cell_type": "markdown",
   "metadata": {},
   "source": [
    "# Weighted Restaurant Rating=Σ (number of votes * rating) / Σ (number of votes) ."
   ]
  },
  {
   "cell_type": "code",
   "execution_count": 1227,
   "metadata": {},
   "outputs": [],
   "source": [
    "data2=data"
   ]
  },
  {
   "cell_type": "code",
   "execution_count": 1231,
   "metadata": {},
   "outputs": [],
   "source": [
    "data2.drop(['level_0', 'index'], axis=1,inplace=True)"
   ]
  },
  {
   "cell_type": "code",
   "execution_count": 1232,
   "metadata": {},
   "outputs": [
    {
     "data": {
      "text/html": [
       "<div>\n",
       "<style scoped>\n",
       "    .dataframe tbody tr th:only-of-type {\n",
       "        vertical-align: middle;\n",
       "    }\n",
       "\n",
       "    .dataframe tbody tr th {\n",
       "        vertical-align: top;\n",
       "    }\n",
       "\n",
       "    .dataframe thead th {\n",
       "        text-align: right;\n",
       "    }\n",
       "</style>\n",
       "<table border=\"1\" class=\"dataframe\">\n",
       "  <thead>\n",
       "    <tr style=\"text-align: right;\">\n",
       "      <th></th>\n",
       "      <th>Restaurant ID</th>\n",
       "      <th>Restaurant Name</th>\n",
       "      <th>Country Code</th>\n",
       "      <th>City</th>\n",
       "      <th>Address</th>\n",
       "      <th>Locality</th>\n",
       "      <th>Locality Verbose</th>\n",
       "      <th>Longitude</th>\n",
       "      <th>Latitude</th>\n",
       "      <th>Cuisines</th>\n",
       "      <th>...</th>\n",
       "      <th>Currency</th>\n",
       "      <th>Has Table booking</th>\n",
       "      <th>Has Online delivery</th>\n",
       "      <th>Is delivering now</th>\n",
       "      <th>Switch to order menu</th>\n",
       "      <th>Price range</th>\n",
       "      <th>Aggregate rating</th>\n",
       "      <th>Rating color</th>\n",
       "      <th>Rating text</th>\n",
       "      <th>Votes</th>\n",
       "    </tr>\n",
       "  </thead>\n",
       "  <tbody>\n",
       "    <tr>\n",
       "      <th>0</th>\n",
       "      <td>6317637</td>\n",
       "      <td>Le Petit Souffle</td>\n",
       "      <td>162</td>\n",
       "      <td>Makati City</td>\n",
       "      <td>Third Floor, Century City Mall, Kalayaan Avenu...</td>\n",
       "      <td>Century City Mall, Poblacion, Makati City</td>\n",
       "      <td>Century City Mall, Poblacion, Makati City, Mak...</td>\n",
       "      <td>121.027535</td>\n",
       "      <td>14.565443</td>\n",
       "      <td>French, Japanese, Desserts</td>\n",
       "      <td>...</td>\n",
       "      <td>Botswana Pula(P)</td>\n",
       "      <td>Yes</td>\n",
       "      <td>No</td>\n",
       "      <td>No</td>\n",
       "      <td>No</td>\n",
       "      <td>3</td>\n",
       "      <td>4.8</td>\n",
       "      <td>Dark Green</td>\n",
       "      <td>Excellent</td>\n",
       "      <td>314</td>\n",
       "    </tr>\n",
       "    <tr>\n",
       "      <th>1</th>\n",
       "      <td>6304287</td>\n",
       "      <td>Izakaya Kikufuji</td>\n",
       "      <td>162</td>\n",
       "      <td>Makati City</td>\n",
       "      <td>Little Tokyo, 2277 Chino Roces Avenue, Legaspi...</td>\n",
       "      <td>Little Tokyo, Legaspi Village, Makati City</td>\n",
       "      <td>Little Tokyo, Legaspi Village, Makati City, Ma...</td>\n",
       "      <td>121.014101</td>\n",
       "      <td>14.553708</td>\n",
       "      <td>Japanese</td>\n",
       "      <td>...</td>\n",
       "      <td>Botswana Pula(P)</td>\n",
       "      <td>Yes</td>\n",
       "      <td>No</td>\n",
       "      <td>No</td>\n",
       "      <td>No</td>\n",
       "      <td>3</td>\n",
       "      <td>4.5</td>\n",
       "      <td>Dark Green</td>\n",
       "      <td>Excellent</td>\n",
       "      <td>591</td>\n",
       "    </tr>\n",
       "    <tr>\n",
       "      <th>2</th>\n",
       "      <td>6300002</td>\n",
       "      <td>Heat - Edsa Shangri-La</td>\n",
       "      <td>162</td>\n",
       "      <td>Mandaluyong City</td>\n",
       "      <td>Edsa Shangri-La, 1 Garden Way, Ortigas, Mandal...</td>\n",
       "      <td>Edsa Shangri-La, Ortigas, Mandaluyong City</td>\n",
       "      <td>Edsa Shangri-La, Ortigas, Mandaluyong City, Ma...</td>\n",
       "      <td>121.056831</td>\n",
       "      <td>14.581404</td>\n",
       "      <td>Seafood, Asian, Filipino, Indian</td>\n",
       "      <td>...</td>\n",
       "      <td>Botswana Pula(P)</td>\n",
       "      <td>Yes</td>\n",
       "      <td>No</td>\n",
       "      <td>No</td>\n",
       "      <td>No</td>\n",
       "      <td>4</td>\n",
       "      <td>4.4</td>\n",
       "      <td>Green</td>\n",
       "      <td>Very Good</td>\n",
       "      <td>270</td>\n",
       "    </tr>\n",
       "    <tr>\n",
       "      <th>3</th>\n",
       "      <td>6318506</td>\n",
       "      <td>Ooma</td>\n",
       "      <td>162</td>\n",
       "      <td>Mandaluyong City</td>\n",
       "      <td>Third Floor, Mega Fashion Hall, SM Megamall, O...</td>\n",
       "      <td>SM Megamall, Ortigas, Mandaluyong City</td>\n",
       "      <td>SM Megamall, Ortigas, Mandaluyong City, Mandal...</td>\n",
       "      <td>121.056475</td>\n",
       "      <td>14.585318</td>\n",
       "      <td>Japanese, Sushi</td>\n",
       "      <td>...</td>\n",
       "      <td>Botswana Pula(P)</td>\n",
       "      <td>No</td>\n",
       "      <td>No</td>\n",
       "      <td>No</td>\n",
       "      <td>No</td>\n",
       "      <td>4</td>\n",
       "      <td>4.9</td>\n",
       "      <td>Dark Green</td>\n",
       "      <td>Excellent</td>\n",
       "      <td>365</td>\n",
       "    </tr>\n",
       "    <tr>\n",
       "      <th>4</th>\n",
       "      <td>6314302</td>\n",
       "      <td>Sambo Kojin</td>\n",
       "      <td>162</td>\n",
       "      <td>Mandaluyong City</td>\n",
       "      <td>Third Floor, Mega Atrium, SM Megamall, Ortigas...</td>\n",
       "      <td>SM Megamall, Ortigas, Mandaluyong City</td>\n",
       "      <td>SM Megamall, Ortigas, Mandaluyong City, Mandal...</td>\n",
       "      <td>121.057508</td>\n",
       "      <td>14.584450</td>\n",
       "      <td>Japanese, Korean</td>\n",
       "      <td>...</td>\n",
       "      <td>Botswana Pula(P)</td>\n",
       "      <td>Yes</td>\n",
       "      <td>No</td>\n",
       "      <td>No</td>\n",
       "      <td>No</td>\n",
       "      <td>4</td>\n",
       "      <td>4.8</td>\n",
       "      <td>Dark Green</td>\n",
       "      <td>Excellent</td>\n",
       "      <td>229</td>\n",
       "    </tr>\n",
       "    <tr>\n",
       "      <th>5</th>\n",
       "      <td>18189371</td>\n",
       "      <td>Din Tai Fung</td>\n",
       "      <td>162</td>\n",
       "      <td>Mandaluyong City</td>\n",
       "      <td>Ground Floor, Mega Fashion Hall, SM Megamall, ...</td>\n",
       "      <td>SM Megamall, Ortigas, Mandaluyong City</td>\n",
       "      <td>SM Megamall, Ortigas, Mandaluyong City, Mandal...</td>\n",
       "      <td>121.056314</td>\n",
       "      <td>14.583764</td>\n",
       "      <td>Chinese</td>\n",
       "      <td>...</td>\n",
       "      <td>Botswana Pula(P)</td>\n",
       "      <td>No</td>\n",
       "      <td>No</td>\n",
       "      <td>No</td>\n",
       "      <td>No</td>\n",
       "      <td>3</td>\n",
       "      <td>4.4</td>\n",
       "      <td>Green</td>\n",
       "      <td>Very Good</td>\n",
       "      <td>336</td>\n",
       "    </tr>\n",
       "    <tr>\n",
       "      <th>6</th>\n",
       "      <td>6300781</td>\n",
       "      <td>Buffet 101</td>\n",
       "      <td>162</td>\n",
       "      <td>Pasay City</td>\n",
       "      <td>Building K, SM By The Bay, Sunset Boulevard, M...</td>\n",
       "      <td>SM by the Bay, Mall of Asia Complex, Pasay City</td>\n",
       "      <td>SM by the Bay, Mall of Asia Complex, Pasay Cit...</td>\n",
       "      <td>120.979667</td>\n",
       "      <td>14.531333</td>\n",
       "      <td>Asian, European</td>\n",
       "      <td>...</td>\n",
       "      <td>Botswana Pula(P)</td>\n",
       "      <td>Yes</td>\n",
       "      <td>No</td>\n",
       "      <td>No</td>\n",
       "      <td>No</td>\n",
       "      <td>4</td>\n",
       "      <td>4.0</td>\n",
       "      <td>Green</td>\n",
       "      <td>Very Good</td>\n",
       "      <td>520</td>\n",
       "    </tr>\n",
       "    <tr>\n",
       "      <th>7</th>\n",
       "      <td>6301290</td>\n",
       "      <td>Vikings</td>\n",
       "      <td>162</td>\n",
       "      <td>Pasay City</td>\n",
       "      <td>Building B, By The Bay, Seaside Boulevard, Mal...</td>\n",
       "      <td>SM by the Bay, Mall of Asia Complex, Pasay City</td>\n",
       "      <td>SM by the Bay, Mall of Asia Complex, Pasay Cit...</td>\n",
       "      <td>120.979333</td>\n",
       "      <td>14.540000</td>\n",
       "      <td>Seafood, Filipino, Asian, European</td>\n",
       "      <td>...</td>\n",
       "      <td>Botswana Pula(P)</td>\n",
       "      <td>Yes</td>\n",
       "      <td>No</td>\n",
       "      <td>No</td>\n",
       "      <td>No</td>\n",
       "      <td>4</td>\n",
       "      <td>4.2</td>\n",
       "      <td>Green</td>\n",
       "      <td>Very Good</td>\n",
       "      <td>677</td>\n",
       "    </tr>\n",
       "    <tr>\n",
       "      <th>8</th>\n",
       "      <td>6300010</td>\n",
       "      <td>Spiral - Sofitel Philippine Plaza Manila</td>\n",
       "      <td>162</td>\n",
       "      <td>Pasay City</td>\n",
       "      <td>Plaza Level, Sofitel Philippine Plaza Manila, ...</td>\n",
       "      <td>Sofitel Philippine Plaza Manila, Pasay City</td>\n",
       "      <td>Sofitel Philippine Plaza Manila, Pasay City, P...</td>\n",
       "      <td>120.980090</td>\n",
       "      <td>14.552990</td>\n",
       "      <td>European, Asian, Indian</td>\n",
       "      <td>...</td>\n",
       "      <td>Botswana Pula(P)</td>\n",
       "      <td>Yes</td>\n",
       "      <td>No</td>\n",
       "      <td>No</td>\n",
       "      <td>No</td>\n",
       "      <td>4</td>\n",
       "      <td>4.9</td>\n",
       "      <td>Dark Green</td>\n",
       "      <td>Excellent</td>\n",
       "      <td>621</td>\n",
       "    </tr>\n",
       "    <tr>\n",
       "      <th>9</th>\n",
       "      <td>6314987</td>\n",
       "      <td>Locavore</td>\n",
       "      <td>162</td>\n",
       "      <td>Pasig City</td>\n",
       "      <td>Brixton Technology Center, 10 Brixton Street, ...</td>\n",
       "      <td>Kapitolyo</td>\n",
       "      <td>Kapitolyo, Pasig City</td>\n",
       "      <td>121.056532</td>\n",
       "      <td>14.572041</td>\n",
       "      <td>Filipino</td>\n",
       "      <td>...</td>\n",
       "      <td>Botswana Pula(P)</td>\n",
       "      <td>Yes</td>\n",
       "      <td>No</td>\n",
       "      <td>No</td>\n",
       "      <td>No</td>\n",
       "      <td>3</td>\n",
       "      <td>4.8</td>\n",
       "      <td>Dark Green</td>\n",
       "      <td>Excellent</td>\n",
       "      <td>532</td>\n",
       "    </tr>\n",
       "    <tr>\n",
       "      <th>10</th>\n",
       "      <td>6309903</td>\n",
       "      <td>Silantro Fil-Mex</td>\n",
       "      <td>162</td>\n",
       "      <td>Pasig City</td>\n",
       "      <td>75 East Capitol Drive, Kapitolyo, Pasig City</td>\n",
       "      <td>Kapitolyo</td>\n",
       "      <td>Kapitolyo, Pasig City</td>\n",
       "      <td>121.057916</td>\n",
       "      <td>14.567689</td>\n",
       "      <td>Filipino, Mexican</td>\n",
       "      <td>...</td>\n",
       "      <td>Botswana Pula(P)</td>\n",
       "      <td>No</td>\n",
       "      <td>No</td>\n",
       "      <td>No</td>\n",
       "      <td>No</td>\n",
       "      <td>3</td>\n",
       "      <td>4.9</td>\n",
       "      <td>Dark Green</td>\n",
       "      <td>Excellent</td>\n",
       "      <td>1070</td>\n",
       "    </tr>\n",
       "    <tr>\n",
       "      <th>11</th>\n",
       "      <td>6309455</td>\n",
       "      <td>Mad Mark's Creamery &amp; Good Eats</td>\n",
       "      <td>162</td>\n",
       "      <td>Pasig City</td>\n",
       "      <td>23 East Capitol Drive, Kapitolyo, Pasig City</td>\n",
       "      <td>Kapitolyo</td>\n",
       "      <td>Kapitolyo, Pasig City</td>\n",
       "      <td>121.060820</td>\n",
       "      <td>14.570849</td>\n",
       "      <td>American, Ice Cream, Desserts</td>\n",
       "      <td>...</td>\n",
       "      <td>Botswana Pula(P)</td>\n",
       "      <td>Yes</td>\n",
       "      <td>No</td>\n",
       "      <td>No</td>\n",
       "      <td>No</td>\n",
       "      <td>3</td>\n",
       "      <td>4.2</td>\n",
       "      <td>Green</td>\n",
       "      <td>Very Good</td>\n",
       "      <td>488</td>\n",
       "    </tr>\n",
       "    <tr>\n",
       "      <th>12</th>\n",
       "      <td>6318433</td>\n",
       "      <td>Silantro Fil-Mex</td>\n",
       "      <td>162</td>\n",
       "      <td>Quezon City</td>\n",
       "      <td>Second Floor, UP Town Center, Katipunan Avenue...</td>\n",
       "      <td>UP Town Center, Diliman, Quezon City</td>\n",
       "      <td>UP Town Center, Diliman, Quezon City, Quezon City</td>\n",
       "      <td>121.075419</td>\n",
       "      <td>14.649503</td>\n",
       "      <td>Filipino, Mexican</td>\n",
       "      <td>...</td>\n",
       "      <td>Botswana Pula(P)</td>\n",
       "      <td>No</td>\n",
       "      <td>No</td>\n",
       "      <td>No</td>\n",
       "      <td>No</td>\n",
       "      <td>3</td>\n",
       "      <td>4.8</td>\n",
       "      <td>Dark Green</td>\n",
       "      <td>Excellent</td>\n",
       "      <td>294</td>\n",
       "    </tr>\n",
       "    <tr>\n",
       "      <th>13</th>\n",
       "      <td>6310470</td>\n",
       "      <td>Guevarra's</td>\n",
       "      <td>162</td>\n",
       "      <td>San Juan City</td>\n",
       "      <td>387 P. Guevarra Corner Argonne Street, Additio...</td>\n",
       "      <td>Addition Hills</td>\n",
       "      <td>Addition Hills, San Juan City</td>\n",
       "      <td>121.033592</td>\n",
       "      <td>14.593450</td>\n",
       "      <td>Filipino</td>\n",
       "      <td>...</td>\n",
       "      <td>Botswana Pula(P)</td>\n",
       "      <td>Yes</td>\n",
       "      <td>No</td>\n",
       "      <td>No</td>\n",
       "      <td>No</td>\n",
       "      <td>3</td>\n",
       "      <td>4.2</td>\n",
       "      <td>Green</td>\n",
       "      <td>Very Good</td>\n",
       "      <td>458</td>\n",
       "    </tr>\n",
       "    <tr>\n",
       "      <th>14</th>\n",
       "      <td>6314605</td>\n",
       "      <td>Sodam Korean Restaurant</td>\n",
       "      <td>162</td>\n",
       "      <td>San Juan City</td>\n",
       "      <td>17 J. Abad Santos Drive, Little Baguio, San Ju...</td>\n",
       "      <td>Little Baguio</td>\n",
       "      <td>Little Baguio, San Juan City</td>\n",
       "      <td>121.038110</td>\n",
       "      <td>14.598890</td>\n",
       "      <td>Korean</td>\n",
       "      <td>...</td>\n",
       "      <td>Botswana Pula(P)</td>\n",
       "      <td>No</td>\n",
       "      <td>No</td>\n",
       "      <td>No</td>\n",
       "      <td>No</td>\n",
       "      <td>3</td>\n",
       "      <td>4.3</td>\n",
       "      <td>Green</td>\n",
       "      <td>Very Good</td>\n",
       "      <td>223</td>\n",
       "    </tr>\n",
       "    <tr>\n",
       "      <th>15</th>\n",
       "      <td>18185059</td>\n",
       "      <td>Cafe Arabelle</td>\n",
       "      <td>162</td>\n",
       "      <td>Santa Rosa</td>\n",
       "      <td>Ayala Mall, Solenad, Nuvali, Santa Rosa - Taga...</td>\n",
       "      <td>Nuvali, Don Jose, Santa Rosa</td>\n",
       "      <td>Nuvali, Don Jose, Santa Rosa, Santa Rosa</td>\n",
       "      <td>121.057040</td>\n",
       "      <td>14.237082</td>\n",
       "      <td>Cafe, American, Italian, Filipino</td>\n",
       "      <td>...</td>\n",
       "      <td>Botswana Pula(P)</td>\n",
       "      <td>No</td>\n",
       "      <td>No</td>\n",
       "      <td>No</td>\n",
       "      <td>No</td>\n",
       "      <td>3</td>\n",
       "      <td>3.6</td>\n",
       "      <td>Yellow</td>\n",
       "      <td>Good</td>\n",
       "      <td>29</td>\n",
       "    </tr>\n",
       "    <tr>\n",
       "      <th>16</th>\n",
       "      <td>18182702</td>\n",
       "      <td>Nonna's Pasta &amp; Pizzeria</td>\n",
       "      <td>162</td>\n",
       "      <td>Santa Rosa</td>\n",
       "      <td>Ground Floor, Building G, Solenad 3, Nuvali, D...</td>\n",
       "      <td>Solenad 3, Don Jose, Santa Rosa</td>\n",
       "      <td>Solenad 3, Don Jose, Santa Rosa, Santa Rosa</td>\n",
       "      <td>121.056587</td>\n",
       "      <td>14.237679</td>\n",
       "      <td>Italian, Pizza</td>\n",
       "      <td>...</td>\n",
       "      <td>Botswana Pula(P)</td>\n",
       "      <td>No</td>\n",
       "      <td>No</td>\n",
       "      <td>No</td>\n",
       "      <td>No</td>\n",
       "      <td>3</td>\n",
       "      <td>4.0</td>\n",
       "      <td>Green</td>\n",
       "      <td>Very Good</td>\n",
       "      <td>72</td>\n",
       "    </tr>\n",
       "    <tr>\n",
       "      <th>17</th>\n",
       "      <td>6318213</td>\n",
       "      <td>Balay Dako</td>\n",
       "      <td>162</td>\n",
       "      <td>Tagaytay City</td>\n",
       "      <td>Aguinaldo Highway, Tagaytay City</td>\n",
       "      <td>Tagaytay City</td>\n",
       "      <td>Tagaytay City, Tagaytay City</td>\n",
       "      <td>120.951589</td>\n",
       "      <td>14.101834</td>\n",
       "      <td>Filipino</td>\n",
       "      <td>...</td>\n",
       "      <td>Botswana Pula(P)</td>\n",
       "      <td>Yes</td>\n",
       "      <td>No</td>\n",
       "      <td>No</td>\n",
       "      <td>No</td>\n",
       "      <td>3</td>\n",
       "      <td>4.5</td>\n",
       "      <td>Dark Green</td>\n",
       "      <td>Excellent</td>\n",
       "      <td>211</td>\n",
       "    </tr>\n",
       "    <tr>\n",
       "      <th>18</th>\n",
       "      <td>18255654</td>\n",
       "      <td>Hobing Korean Dessert Cafe</td>\n",
       "      <td>162</td>\n",
       "      <td>Taguig City</td>\n",
       "      <td>Third Floor, BGC Stopover Pavillion, Rizal Dri...</td>\n",
       "      <td>BGC Stopover Pavillion, Bonifacio Global City</td>\n",
       "      <td>BGC Stopover Pavillion, Bonifacio Global City,...</td>\n",
       "      <td>121.045878</td>\n",
       "      <td>14.554360</td>\n",
       "      <td>Cafe, Korean, Desserts</td>\n",
       "      <td>...</td>\n",
       "      <td>Botswana Pula(P)</td>\n",
       "      <td>No</td>\n",
       "      <td>No</td>\n",
       "      <td>No</td>\n",
       "      <td>No</td>\n",
       "      <td>2</td>\n",
       "      <td>4.5</td>\n",
       "      <td>Dark Green</td>\n",
       "      <td>Excellent</td>\n",
       "      <td>118</td>\n",
       "    </tr>\n",
       "    <tr>\n",
       "      <th>19</th>\n",
       "      <td>6308205</td>\n",
       "      <td>Wildflour Cafe + Bakery</td>\n",
       "      <td>162</td>\n",
       "      <td>Taguig City</td>\n",
       "      <td>Ground Floor, Netlima Building, 4th Avenue Cor...</td>\n",
       "      <td>Bonifacio Global City</td>\n",
       "      <td>Bonifacio Global City, Taguig City</td>\n",
       "      <td>121.046220</td>\n",
       "      <td>14.549337</td>\n",
       "      <td>Cafe, Bakery, American, Italian</td>\n",
       "      <td>...</td>\n",
       "      <td>Botswana Pula(P)</td>\n",
       "      <td>Yes</td>\n",
       "      <td>No</td>\n",
       "      <td>No</td>\n",
       "      <td>No</td>\n",
       "      <td>4</td>\n",
       "      <td>4.4</td>\n",
       "      <td>Green</td>\n",
       "      <td>Very Good</td>\n",
       "      <td>392</td>\n",
       "    </tr>\n",
       "    <tr>\n",
       "      <th>20</th>\n",
       "      <td>6315438</td>\n",
       "      <td>NIU by Vikings</td>\n",
       "      <td>162</td>\n",
       "      <td>Taguig City</td>\n",
       "      <td>Sixth Floor, SM Aura Premier, C5 Road Corner 2...</td>\n",
       "      <td>SM Aura Premier, Bonifacio Global City, Taguig...</td>\n",
       "      <td>SM Aura Premier, Bonifacio Global City, Taguig...</td>\n",
       "      <td>121.053725</td>\n",
       "      <td>14.545858</td>\n",
       "      <td>Seafood, American, Mediterranean, Japanese</td>\n",
       "      <td>...</td>\n",
       "      <td>Botswana Pula(P)</td>\n",
       "      <td>Yes</td>\n",
       "      <td>No</td>\n",
       "      <td>No</td>\n",
       "      <td>No</td>\n",
       "      <td>4</td>\n",
       "      <td>4.7</td>\n",
       "      <td>Dark Green</td>\n",
       "      <td>Excellent</td>\n",
       "      <td>535</td>\n",
       "    </tr>\n",
       "    <tr>\n",
       "      <th>21</th>\n",
       "      <td>6310406</td>\n",
       "      <td>The Food Hall by Todd English</td>\n",
       "      <td>162</td>\n",
       "      <td>Taguig City</td>\n",
       "      <td>Fifth Floor, SM Aura Premier, C5 Corner 26th S...</td>\n",
       "      <td>SM Aura Premier, Bonifacio Global City, Taguig...</td>\n",
       "      <td>SM Aura Premier, Bonifacio Global City, Taguig...</td>\n",
       "      <td>121.053500</td>\n",
       "      <td>14.545655</td>\n",
       "      <td>American, Asian, Italian, Seafood</td>\n",
       "      <td>...</td>\n",
       "      <td>Botswana Pula(P)</td>\n",
       "      <td>Yes</td>\n",
       "      <td>No</td>\n",
       "      <td>No</td>\n",
       "      <td>No</td>\n",
       "      <td>4</td>\n",
       "      <td>4.5</td>\n",
       "      <td>Dark Green</td>\n",
       "      <td>Excellent</td>\n",
       "      <td>618</td>\n",
       "    </tr>\n",
       "    <tr>\n",
       "      <th>22</th>\n",
       "      <td>6600681</td>\n",
       "      <td>Chez Michou</td>\n",
       "      <td>30</td>\n",
       "      <td>Brasí_lia</td>\n",
       "      <td>SCLN, 208, Bloco A, Loja 30, Asa Norte, Brasí_lia</td>\n",
       "      <td>Asa Norte</td>\n",
       "      <td>Asa Norte, Brasí_lia</td>\n",
       "      <td>-47.881789</td>\n",
       "      <td>-15.764142</td>\n",
       "      <td>Fast Food, French</td>\n",
       "      <td>...</td>\n",
       "      <td>Brazilian Real(R$)</td>\n",
       "      <td>No</td>\n",
       "      <td>No</td>\n",
       "      <td>No</td>\n",
       "      <td>No</td>\n",
       "      <td>2</td>\n",
       "      <td>3.0</td>\n",
       "      <td>Orange</td>\n",
       "      <td>Average</td>\n",
       "      <td>6</td>\n",
       "    </tr>\n",
       "    <tr>\n",
       "      <th>23</th>\n",
       "      <td>6601005</td>\n",
       "      <td>Cafí© Daniel Briand</td>\n",
       "      <td>30</td>\n",
       "      <td>Brasí_lia</td>\n",
       "      <td>SCLN 104, Bloco A, Loja 26, Asa Norte, Brasí_lia</td>\n",
       "      <td>Asa Norte</td>\n",
       "      <td>Asa Norte, Brasí_lia</td>\n",
       "      <td>-47.882667</td>\n",
       "      <td>-15.777500</td>\n",
       "      <td>Cafe</td>\n",
       "      <td>...</td>\n",
       "      <td>Brazilian Real(R$)</td>\n",
       "      <td>No</td>\n",
       "      <td>No</td>\n",
       "      <td>No</td>\n",
       "      <td>No</td>\n",
       "      <td>1</td>\n",
       "      <td>3.8</td>\n",
       "      <td>Yellow</td>\n",
       "      <td>Good</td>\n",
       "      <td>9</td>\n",
       "    </tr>\n",
       "    <tr>\n",
       "      <th>24</th>\n",
       "      <td>6600292</td>\n",
       "      <td>Casa do Biscoito Mineiro</td>\n",
       "      <td>30</td>\n",
       "      <td>Brasí_lia</td>\n",
       "      <td>SCLN 210, Bloco D, Loja 36/48, Asa Norte, Bras...</td>\n",
       "      <td>Asa Norte</td>\n",
       "      <td>Asa Norte, Brasí_lia</td>\n",
       "      <td>-47.882136</td>\n",
       "      <td>-15.757472</td>\n",
       "      <td>Bakery</td>\n",
       "      <td>...</td>\n",
       "      <td>Brazilian Real(R$)</td>\n",
       "      <td>No</td>\n",
       "      <td>No</td>\n",
       "      <td>No</td>\n",
       "      <td>No</td>\n",
       "      <td>2</td>\n",
       "      <td>3.7</td>\n",
       "      <td>Yellow</td>\n",
       "      <td>Good</td>\n",
       "      <td>11</td>\n",
       "    </tr>\n",
       "    <tr>\n",
       "      <th>25</th>\n",
       "      <td>6600441</td>\n",
       "      <td>Maori</td>\n",
       "      <td>30</td>\n",
       "      <td>Brasí_lia</td>\n",
       "      <td>CLN 110, Bloco D, Loja 28, Asa Norte, Brasí_lia</td>\n",
       "      <td>Asa Norte</td>\n",
       "      <td>Asa Norte, Brasí_lia</td>\n",
       "      <td>-47.888167</td>\n",
       "      <td>-15.758833</td>\n",
       "      <td>Brazilian</td>\n",
       "      <td>...</td>\n",
       "      <td>Brazilian Real(R$)</td>\n",
       "      <td>No</td>\n",
       "      <td>No</td>\n",
       "      <td>No</td>\n",
       "      <td>No</td>\n",
       "      <td>3</td>\n",
       "      <td>3.8</td>\n",
       "      <td>Yellow</td>\n",
       "      <td>Good</td>\n",
       "      <td>11</td>\n",
       "    </tr>\n",
       "    <tr>\n",
       "      <th>26</th>\n",
       "      <td>6600970</td>\n",
       "      <td>Pizza íæ Bessa</td>\n",
       "      <td>30</td>\n",
       "      <td>Brasí_lia</td>\n",
       "      <td>SCS 214, Bloco C, Loja 40, Asa Sul, Brasí_lia</td>\n",
       "      <td>Asa Sul</td>\n",
       "      <td>Asa Sul, Brasí_lia</td>\n",
       "      <td>-47.915667</td>\n",
       "      <td>-15.831167</td>\n",
       "      <td>Pizza</td>\n",
       "      <td>...</td>\n",
       "      <td>Brazilian Real(R$)</td>\n",
       "      <td>No</td>\n",
       "      <td>No</td>\n",
       "      <td>No</td>\n",
       "      <td>No</td>\n",
       "      <td>2</td>\n",
       "      <td>3.2</td>\n",
       "      <td>Orange</td>\n",
       "      <td>Average</td>\n",
       "      <td>11</td>\n",
       "    </tr>\n",
       "    <tr>\n",
       "      <th>27</th>\n",
       "      <td>6600379</td>\n",
       "      <td>Sushi Loko</td>\n",
       "      <td>30</td>\n",
       "      <td>Brasí_lia</td>\n",
       "      <td>SCS 213, Bloco C, Loja 35, Asa Sul, Brasí_lia</td>\n",
       "      <td>Asa Sul</td>\n",
       "      <td>Asa Sul, Brasí_lia</td>\n",
       "      <td>-47.915667</td>\n",
       "      <td>-15.831000</td>\n",
       "      <td>Japanese</td>\n",
       "      <td>...</td>\n",
       "      <td>Brazilian Real(R$)</td>\n",
       "      <td>No</td>\n",
       "      <td>No</td>\n",
       "      <td>No</td>\n",
       "      <td>No</td>\n",
       "      <td>3</td>\n",
       "      <td>3.1</td>\n",
       "      <td>Orange</td>\n",
       "      <td>Average</td>\n",
       "      <td>10</td>\n",
       "    </tr>\n",
       "    <tr>\n",
       "      <th>28</th>\n",
       "      <td>6600214</td>\n",
       "      <td>Beirute</td>\n",
       "      <td>30</td>\n",
       "      <td>Brasí_lia</td>\n",
       "      <td>CLS 109, Bloco A, Loja 2/6, Asa Sul, Brasí_lia</td>\n",
       "      <td>Asa Sul</td>\n",
       "      <td>Asa Sul, Brasí_lia</td>\n",
       "      <td>-47.907500</td>\n",
       "      <td>-15.820000</td>\n",
       "      <td>Arabian</td>\n",
       "      <td>...</td>\n",
       "      <td>Brazilian Real(R$)</td>\n",
       "      <td>No</td>\n",
       "      <td>No</td>\n",
       "      <td>No</td>\n",
       "      <td>No</td>\n",
       "      <td>3</td>\n",
       "      <td>3.7</td>\n",
       "      <td>Yellow</td>\n",
       "      <td>Good</td>\n",
       "      <td>8</td>\n",
       "    </tr>\n",
       "    <tr>\n",
       "      <th>29</th>\n",
       "      <td>6601218</td>\n",
       "      <td>New Koto</td>\n",
       "      <td>30</td>\n",
       "      <td>Brasí_lia</td>\n",
       "      <td>SCS 212, Bloco B, Loja 26, Asa Sul, Brasí_lia</td>\n",
       "      <td>Asa Sul</td>\n",
       "      <td>Asa Sul, Brasí_lia</td>\n",
       "      <td>-47.910167</td>\n",
       "      <td>-15.827333</td>\n",
       "      <td>Japanese</td>\n",
       "      <td>...</td>\n",
       "      <td>Brazilian Real(R$)</td>\n",
       "      <td>No</td>\n",
       "      <td>No</td>\n",
       "      <td>No</td>\n",
       "      <td>No</td>\n",
       "      <td>4</td>\n",
       "      <td>3.7</td>\n",
       "      <td>Yellow</td>\n",
       "      <td>Good</td>\n",
       "      <td>5</td>\n",
       "    </tr>\n",
       "    <tr>\n",
       "      <th>...</th>\n",
       "      <td>...</td>\n",
       "      <td>...</td>\n",
       "      <td>...</td>\n",
       "      <td>...</td>\n",
       "      <td>...</td>\n",
       "      <td>...</td>\n",
       "      <td>...</td>\n",
       "      <td>...</td>\n",
       "      <td>...</td>\n",
       "      <td>...</td>\n",
       "      <td>...</td>\n",
       "      <td>...</td>\n",
       "      <td>...</td>\n",
       "      <td>...</td>\n",
       "      <td>...</td>\n",
       "      <td>...</td>\n",
       "      <td>...</td>\n",
       "      <td>...</td>\n",
       "      <td>...</td>\n",
       "      <td>...</td>\n",
       "      <td>...</td>\n",
       "    </tr>\n",
       "    <tr>\n",
       "      <th>9521</th>\n",
       "      <td>6003426</td>\n",
       "      <td>Liva</td>\n",
       "      <td>208</td>\n",
       "      <td>Ankara</td>\n",
       "      <td>íˆukurambar Mahallesi, Muhsin YazÛ±cÛ±oÛôlu Ca...</td>\n",
       "      <td>íˆukurambar</td>\n",
       "      <td>íˆukurambar, Ankara</td>\n",
       "      <td>32.809146</td>\n",
       "      <td>39.904709</td>\n",
       "      <td>Patisserie, Coffee and Tea</td>\n",
       "      <td>...</td>\n",
       "      <td>Turkish Lira(TL)</td>\n",
       "      <td>No</td>\n",
       "      <td>No</td>\n",
       "      <td>No</td>\n",
       "      <td>No</td>\n",
       "      <td>2</td>\n",
       "      <td>3.4</td>\n",
       "      <td>Orange</td>\n",
       "      <td>Average</td>\n",
       "      <td>115</td>\n",
       "    </tr>\n",
       "    <tr>\n",
       "      <th>9522</th>\n",
       "      <td>6000549</td>\n",
       "      <td>Me�ôhur TavacÛ± Recep Usta</td>\n",
       "      <td>208</td>\n",
       "      <td>Ankara</td>\n",
       "      <td>Gí_zeltepe Mahallesi, Dikmen Vadisi, Ho�ôdere ...</td>\n",
       "      <td>Dikmen</td>\n",
       "      <td>Dikmen, Ankara</td>\n",
       "      <td>32.846189</td>\n",
       "      <td>39.884872</td>\n",
       "      <td>Kebab</td>\n",
       "      <td>...</td>\n",
       "      <td>Turkish Lira(TL)</td>\n",
       "      <td>No</td>\n",
       "      <td>No</td>\n",
       "      <td>No</td>\n",
       "      <td>No</td>\n",
       "      <td>3</td>\n",
       "      <td>4.5</td>\n",
       "      <td>Dark Green</td>\n",
       "      <td>Excellent</td>\n",
       "      <td>231</td>\n",
       "    </tr>\n",
       "    <tr>\n",
       "      <th>9523</th>\n",
       "      <td>6000871</td>\n",
       "      <td>íˆukuraÛôa SofrasÛ±</td>\n",
       "      <td>208</td>\n",
       "      <td>Ankara</td>\n",
       "      <td>Emek Mahallesi, Bosna Hersek Caddesi, No 22/C,...</td>\n",
       "      <td>Emek</td>\n",
       "      <td>Emek, Ankara</td>\n",
       "      <td>32.818833</td>\n",
       "      <td>39.916667</td>\n",
       "      <td>Kebab, Izgara</td>\n",
       "      <td>...</td>\n",
       "      <td>Turkish Lira(TL)</td>\n",
       "      <td>No</td>\n",
       "      <td>No</td>\n",
       "      <td>No</td>\n",
       "      <td>No</td>\n",
       "      <td>3</td>\n",
       "      <td>4.4</td>\n",
       "      <td>Green</td>\n",
       "      <td>Very Good</td>\n",
       "      <td>296</td>\n",
       "    </tr>\n",
       "    <tr>\n",
       "      <th>9524</th>\n",
       "      <td>6004011</td>\n",
       "      <td>Gaga Manjero</td>\n",
       "      <td>208</td>\n",
       "      <td>Ankara</td>\n",
       "      <td>Gazi Osman Pa�ôa Mahallesi, Filistin Caddesi, ...</td>\n",
       "      <td>Gazi Osman Pa�ôa</td>\n",
       "      <td>Gazi Osman Pa�ôa, Ankara</td>\n",
       "      <td>32.869800</td>\n",
       "      <td>39.898239</td>\n",
       "      <td>World Cuisine</td>\n",
       "      <td>...</td>\n",
       "      <td>Turkish Lira(TL)</td>\n",
       "      <td>No</td>\n",
       "      <td>No</td>\n",
       "      <td>No</td>\n",
       "      <td>No</td>\n",
       "      <td>3</td>\n",
       "      <td>4.9</td>\n",
       "      <td>Dark Green</td>\n",
       "      <td>Excellent</td>\n",
       "      <td>95</td>\n",
       "    </tr>\n",
       "    <tr>\n",
       "      <th>9525</th>\n",
       "      <td>6000409</td>\n",
       "      <td>Cafemiz</td>\n",
       "      <td>208</td>\n",
       "      <td>Ankara</td>\n",
       "      <td>Gaziosmanpa�ôa Mahallesi, Arjantin Caddesi, No...</td>\n",
       "      <td>Gazi Osman Pa�ôa</td>\n",
       "      <td>Gazi Osman Pa�ôa, Ankara</td>\n",
       "      <td>32.865683</td>\n",
       "      <td>39.897872</td>\n",
       "      <td>World Cuisine, Mexican, Italian</td>\n",
       "      <td>...</td>\n",
       "      <td>Turkish Lira(TL)</td>\n",
       "      <td>No</td>\n",
       "      <td>No</td>\n",
       "      <td>No</td>\n",
       "      <td>No</td>\n",
       "      <td>4</td>\n",
       "      <td>4.4</td>\n",
       "      <td>Green</td>\n",
       "      <td>Very Good</td>\n",
       "      <td>115</td>\n",
       "    </tr>\n",
       "    <tr>\n",
       "      <th>9526</th>\n",
       "      <td>6000019</td>\n",
       "      <td>Nusr-Et</td>\n",
       "      <td>208</td>\n",
       "      <td>Ankara</td>\n",
       "      <td>Gaziosmanpa�ôa Mahallesi, �_ehit í_mer Haluk S...</td>\n",
       "      <td>Gazi Osman Pa�ôa</td>\n",
       "      <td>Gazi Osman Pa�ôa, Ankara</td>\n",
       "      <td>32.864833</td>\n",
       "      <td>39.899667</td>\n",
       "      <td>Steak</td>\n",
       "      <td>...</td>\n",
       "      <td>Turkish Lira(TL)</td>\n",
       "      <td>No</td>\n",
       "      <td>No</td>\n",
       "      <td>No</td>\n",
       "      <td>No</td>\n",
       "      <td>4</td>\n",
       "      <td>4.1</td>\n",
       "      <td>Green</td>\n",
       "      <td>Very Good</td>\n",
       "      <td>97</td>\n",
       "    </tr>\n",
       "    <tr>\n",
       "      <th>9527</th>\n",
       "      <td>6001537</td>\n",
       "      <td>Kebap 49</td>\n",
       "      <td>208</td>\n",
       "      <td>Ankara</td>\n",
       "      <td>Remzi OÛôuz ArÛ±k Mahallesi, TunalÛ± Hilmi Cad...</td>\n",
       "      <td>KavaklÛ±dere</td>\n",
       "      <td>KavaklÛ±dere, Ankara</td>\n",
       "      <td>32.860144</td>\n",
       "      <td>39.907272</td>\n",
       "      <td>Kebab, Turkish Pizza</td>\n",
       "      <td>...</td>\n",
       "      <td>Turkish Lira(TL)</td>\n",
       "      <td>No</td>\n",
       "      <td>No</td>\n",
       "      <td>No</td>\n",
       "      <td>No</td>\n",
       "      <td>3</td>\n",
       "      <td>4.3</td>\n",
       "      <td>Green</td>\n",
       "      <td>Very Good</td>\n",
       "      <td>106</td>\n",
       "    </tr>\n",
       "    <tr>\n",
       "      <th>9528</th>\n",
       "      <td>6003668</td>\n",
       "      <td>Timboo Cafe</td>\n",
       "      <td>208</td>\n",
       "      <td>Ankara</td>\n",
       "      <td>Kentpark AVM, Kat -1, Mustafa Kemal Mahallesi,...</td>\n",
       "      <td>Kentpark AVM, íìniversiteler, íˆankaya</td>\n",
       "      <td>Kentpark AVM, íìniversiteler, íˆankaya, Ankara</td>\n",
       "      <td>32.776255</td>\n",
       "      <td>39.908957</td>\n",
       "      <td>Cafe</td>\n",
       "      <td>...</td>\n",
       "      <td>Turkish Lira(TL)</td>\n",
       "      <td>No</td>\n",
       "      <td>No</td>\n",
       "      <td>No</td>\n",
       "      <td>No</td>\n",
       "      <td>3</td>\n",
       "      <td>4.2</td>\n",
       "      <td>Green</td>\n",
       "      <td>Very Good</td>\n",
       "      <td>79</td>\n",
       "    </tr>\n",
       "    <tr>\n",
       "      <th>9529</th>\n",
       "      <td>6001748</td>\n",
       "      <td>Me�ôhur í_zí_elik Aspava</td>\n",
       "      <td>208</td>\n",
       "      <td>Ankara</td>\n",
       "      <td>Kí_í_í_k Esat Mahallesi, Esat Caddesi, No 110/...</td>\n",
       "      <td>Kí_í_í_k Esat</td>\n",
       "      <td>Kí_í_í_k Esat, Ankara</td>\n",
       "      <td>32.866633</td>\n",
       "      <td>39.906636</td>\n",
       "      <td>Kebab, Turkish Pizza</td>\n",
       "      <td>...</td>\n",
       "      <td>Turkish Lira(TL)</td>\n",
       "      <td>No</td>\n",
       "      <td>No</td>\n",
       "      <td>No</td>\n",
       "      <td>No</td>\n",
       "      <td>2</td>\n",
       "      <td>4.6</td>\n",
       "      <td>Dark Green</td>\n",
       "      <td>Excellent</td>\n",
       "      <td>109</td>\n",
       "    </tr>\n",
       "    <tr>\n",
       "      <th>9530</th>\n",
       "      <td>6001757</td>\n",
       "      <td>YÛ±ldÛ±z Aspava</td>\n",
       "      <td>208</td>\n",
       "      <td>Ankara</td>\n",
       "      <td>Kí_í_í_k Esat Mahallesi, Esat Caddesi, No 110/...</td>\n",
       "      <td>Kí_í_í_k Esat</td>\n",
       "      <td>Kí_í_í_k Esat, Ankara</td>\n",
       "      <td>32.866608</td>\n",
       "      <td>39.906569</td>\n",
       "      <td>Kebab, Turkish Pizza, Dí_ner</td>\n",
       "      <td>...</td>\n",
       "      <td>Turkish Lira(TL)</td>\n",
       "      <td>No</td>\n",
       "      <td>No</td>\n",
       "      <td>No</td>\n",
       "      <td>No</td>\n",
       "      <td>2</td>\n",
       "      <td>4.4</td>\n",
       "      <td>Green</td>\n",
       "      <td>Very Good</td>\n",
       "      <td>72</td>\n",
       "    </tr>\n",
       "    <tr>\n",
       "      <th>9531</th>\n",
       "      <td>6000747</td>\n",
       "      <td>The Bigos</td>\n",
       "      <td>208</td>\n",
       "      <td>Ankara</td>\n",
       "      <td>Mahallesi, Selanik 2 Caddesi, No 61/A, íˆankay...</td>\n",
       "      <td>KÛ±zÛ±lay</td>\n",
       "      <td>KÛ±zÛ±lay, Ankara</td>\n",
       "      <td>32.857917</td>\n",
       "      <td>39.916686</td>\n",
       "      <td>Cafe</td>\n",
       "      <td>...</td>\n",
       "      <td>Turkish Lira(TL)</td>\n",
       "      <td>No</td>\n",
       "      <td>No</td>\n",
       "      <td>No</td>\n",
       "      <td>No</td>\n",
       "      <td>3</td>\n",
       "      <td>3.8</td>\n",
       "      <td>Yellow</td>\n",
       "      <td>Good</td>\n",
       "      <td>123</td>\n",
       "    </tr>\n",
       "    <tr>\n",
       "      <th>9532</th>\n",
       "      <td>6002025</td>\n",
       "      <td>Masaba�ôÛ±</td>\n",
       "      <td>208</td>\n",
       "      <td>Ankara</td>\n",
       "      <td>Kocatepe Mahallesi, Mithatpa�ôa Caddesi, No 62...</td>\n",
       "      <td>KÛ±zÛ±lay</td>\n",
       "      <td>KÛ±zÛ±lay, Ankara</td>\n",
       "      <td>32.859867</td>\n",
       "      <td>39.919144</td>\n",
       "      <td>Kebab, Turkish Pizza</td>\n",
       "      <td>...</td>\n",
       "      <td>Turkish Lira(TL)</td>\n",
       "      <td>No</td>\n",
       "      <td>No</td>\n",
       "      <td>No</td>\n",
       "      <td>No</td>\n",
       "      <td>3</td>\n",
       "      <td>4.2</td>\n",
       "      <td>Green</td>\n",
       "      <td>Very Good</td>\n",
       "      <td>103</td>\n",
       "    </tr>\n",
       "    <tr>\n",
       "      <th>9533</th>\n",
       "      <td>6003879</td>\n",
       "      <td>Zigana Pide</td>\n",
       "      <td>208</td>\n",
       "      <td>Ankara</td>\n",
       "      <td>Macun Mahallesi, Erciyes ÛÁ�ôyerleri Sitesi, 2...</td>\n",
       "      <td>Macunkí_y</td>\n",
       "      <td>Macunkí_y, Ankara</td>\n",
       "      <td>32.763378</td>\n",
       "      <td>39.946278</td>\n",
       "      <td>Turkish Pizza</td>\n",
       "      <td>...</td>\n",
       "      <td>Turkish Lira(TL)</td>\n",
       "      <td>No</td>\n",
       "      <td>No</td>\n",
       "      <td>No</td>\n",
       "      <td>No</td>\n",
       "      <td>2</td>\n",
       "      <td>4.3</td>\n",
       "      <td>Green</td>\n",
       "      <td>Very Good</td>\n",
       "      <td>103</td>\n",
       "    </tr>\n",
       "    <tr>\n",
       "      <th>9534</th>\n",
       "      <td>6004089</td>\n",
       "      <td>Dí_veroÛôlu</td>\n",
       "      <td>208</td>\n",
       "      <td>Ankara</td>\n",
       "      <td>Maltepe Mahallesi, Gení_lik Caddesi, No 28, íˆ...</td>\n",
       "      <td>Maltepe</td>\n",
       "      <td>Maltepe, Ankara</td>\n",
       "      <td>32.842742</td>\n",
       "      <td>39.922536</td>\n",
       "      <td>Kebab, Desserts, Turkish Pizza</td>\n",
       "      <td>...</td>\n",
       "      <td>Turkish Lira(TL)</td>\n",
       "      <td>No</td>\n",
       "      <td>No</td>\n",
       "      <td>No</td>\n",
       "      <td>No</td>\n",
       "      <td>3</td>\n",
       "      <td>4.4</td>\n",
       "      <td>Green</td>\n",
       "      <td>Very Good</td>\n",
       "      <td>131</td>\n",
       "    </tr>\n",
       "    <tr>\n",
       "      <th>9535</th>\n",
       "      <td>6000921</td>\n",
       "      <td>Dí_veroÛôlu</td>\n",
       "      <td>208</td>\n",
       "      <td>Ankara</td>\n",
       "      <td>íìmitkí_y Mahallesi, 2432. Cadde (8. Cadde), N...</td>\n",
       "      <td>íìmitkí_y</td>\n",
       "      <td>íìmitkí_y, Ankara</td>\n",
       "      <td>32.701775</td>\n",
       "      <td>39.891564</td>\n",
       "      <td>Kebab, Desserts, Turkish Pizza</td>\n",
       "      <td>...</td>\n",
       "      <td>Turkish Lira(TL)</td>\n",
       "      <td>No</td>\n",
       "      <td>No</td>\n",
       "      <td>No</td>\n",
       "      <td>No</td>\n",
       "      <td>3</td>\n",
       "      <td>4.2</td>\n",
       "      <td>Green</td>\n",
       "      <td>Very Good</td>\n",
       "      <td>152</td>\n",
       "    </tr>\n",
       "    <tr>\n",
       "      <th>9536</th>\n",
       "      <td>6004813</td>\n",
       "      <td>Pizza ÛÁl Forno</td>\n",
       "      <td>208</td>\n",
       "      <td>Ankara</td>\n",
       "      <td>YÛ±ldÛ±zevler Mahallesi, 720. Sokak, No 2/B, í...</td>\n",
       "      <td>YÛ±ldÛ±zevler</td>\n",
       "      <td>YÛ±ldÛ±zevler, Ankara</td>\n",
       "      <td>32.860217</td>\n",
       "      <td>39.876239</td>\n",
       "      <td>Pizza</td>\n",
       "      <td>...</td>\n",
       "      <td>Turkish Lira(TL)</td>\n",
       "      <td>No</td>\n",
       "      <td>No</td>\n",
       "      <td>No</td>\n",
       "      <td>No</td>\n",
       "      <td>2</td>\n",
       "      <td>4.7</td>\n",
       "      <td>Dark Green</td>\n",
       "      <td>Excellent</td>\n",
       "      <td>104</td>\n",
       "    </tr>\n",
       "    <tr>\n",
       "      <th>9537</th>\n",
       "      <td>5904116</td>\n",
       "      <td>J'adore Chocolatier</td>\n",
       "      <td>208</td>\n",
       "      <td>ÛÁstanbul</td>\n",
       "      <td>AsmalÛ±mescit Mahallesi, ÛÁstiklal Caddesi, Em...</td>\n",
       "      <td>AsmalÛ±mescit</td>\n",
       "      <td>AsmalÛ±mescit, ÛÁstanbul</td>\n",
       "      <td>28.976127</td>\n",
       "      <td>41.033002</td>\n",
       "      <td>Desserts</td>\n",
       "      <td>...</td>\n",
       "      <td>Turkish Lira(TL)</td>\n",
       "      <td>No</td>\n",
       "      <td>No</td>\n",
       "      <td>No</td>\n",
       "      <td>No</td>\n",
       "      <td>2</td>\n",
       "      <td>4.7</td>\n",
       "      <td>Dark Green</td>\n",
       "      <td>Excellent</td>\n",
       "      <td>1311</td>\n",
       "    </tr>\n",
       "    <tr>\n",
       "      <th>9538</th>\n",
       "      <td>5901782</td>\n",
       "      <td>Starbucks</td>\n",
       "      <td>208</td>\n",
       "      <td>ÛÁstanbul</td>\n",
       "      <td>Bebek Mahallesi, Cevdetpa�ôa Caddesi, No 30/A,...</td>\n",
       "      <td>Bebek</td>\n",
       "      <td>Bebek, ÛÁstanbul</td>\n",
       "      <td>29.043734</td>\n",
       "      <td>41.077696</td>\n",
       "      <td>Cafe</td>\n",
       "      <td>...</td>\n",
       "      <td>Turkish Lira(TL)</td>\n",
       "      <td>No</td>\n",
       "      <td>No</td>\n",
       "      <td>No</td>\n",
       "      <td>No</td>\n",
       "      <td>2</td>\n",
       "      <td>4.9</td>\n",
       "      <td>Dark Green</td>\n",
       "      <td>Excellent</td>\n",
       "      <td>1042</td>\n",
       "    </tr>\n",
       "    <tr>\n",
       "      <th>9539</th>\n",
       "      <td>5902117</td>\n",
       "      <td>Valonia</td>\n",
       "      <td>208</td>\n",
       "      <td>ÛÁstanbul</td>\n",
       "      <td>Tí_rkali Mahallesi, Ihlamurdere Caddesi, No 40...</td>\n",
       "      <td>Be�ôikta�ô Merkez</td>\n",
       "      <td>Be�ôikta�ô Merkez, ÛÁstanbul</td>\n",
       "      <td>29.002896</td>\n",
       "      <td>41.044813</td>\n",
       "      <td>Restaurant Cafe, Desserts</td>\n",
       "      <td>...</td>\n",
       "      <td>Turkish Lira(TL)</td>\n",
       "      <td>No</td>\n",
       "      <td>No</td>\n",
       "      <td>No</td>\n",
       "      <td>No</td>\n",
       "      <td>3</td>\n",
       "      <td>4.2</td>\n",
       "      <td>Green</td>\n",
       "      <td>Very Good</td>\n",
       "      <td>874</td>\n",
       "    </tr>\n",
       "    <tr>\n",
       "      <th>9540</th>\n",
       "      <td>5927248</td>\n",
       "      <td>Draft Gastro Pub</td>\n",
       "      <td>208</td>\n",
       "      <td>ÛÁstanbul</td>\n",
       "      <td>Caddebostan Mahallesi, BaÛôdat Caddesi, No 349...</td>\n",
       "      <td>Caddebostan</td>\n",
       "      <td>Caddebostan, ÛÁstanbul</td>\n",
       "      <td>29.074116</td>\n",
       "      <td>40.963935</td>\n",
       "      <td>Bar Food</td>\n",
       "      <td>...</td>\n",
       "      <td>Turkish Lira(TL)</td>\n",
       "      <td>No</td>\n",
       "      <td>No</td>\n",
       "      <td>No</td>\n",
       "      <td>No</td>\n",
       "      <td>4</td>\n",
       "      <td>4.9</td>\n",
       "      <td>Dark Green</td>\n",
       "      <td>Excellent</td>\n",
       "      <td>522</td>\n",
       "    </tr>\n",
       "    <tr>\n",
       "      <th>9541</th>\n",
       "      <td>5905215</td>\n",
       "      <td>Emirgan Sí_ti�ô</td>\n",
       "      <td>208</td>\n",
       "      <td>ÛÁstanbul</td>\n",
       "      <td>Emirgan Mahallesi, SakÛ±p SabancÛ± Caddesi, No...</td>\n",
       "      <td>Emirgí¢n</td>\n",
       "      <td>Emirgí¢n, ÛÁstanbul</td>\n",
       "      <td>29.056620</td>\n",
       "      <td>41.104969</td>\n",
       "      <td>Restaurant Cafe, Turkish, Desserts</td>\n",
       "      <td>...</td>\n",
       "      <td>Turkish Lira(TL)</td>\n",
       "      <td>No</td>\n",
       "      <td>No</td>\n",
       "      <td>No</td>\n",
       "      <td>No</td>\n",
       "      <td>3</td>\n",
       "      <td>4.2</td>\n",
       "      <td>Green</td>\n",
       "      <td>Very Good</td>\n",
       "      <td>877</td>\n",
       "    </tr>\n",
       "    <tr>\n",
       "      <th>9542</th>\n",
       "      <td>5926979</td>\n",
       "      <td>Leman Kí_ltí_r</td>\n",
       "      <td>208</td>\n",
       "      <td>ÛÁstanbul</td>\n",
       "      <td>CaferaÛôa Mahallesi, Ne�ôet í_mer Sokak, No 9/...</td>\n",
       "      <td>KadÛ±kí_y Merkez</td>\n",
       "      <td>KadÛ±kí_y Merkez, ÛÁstanbul</td>\n",
       "      <td>29.022805</td>\n",
       "      <td>40.989705</td>\n",
       "      <td>Restaurant Cafe</td>\n",
       "      <td>...</td>\n",
       "      <td>Turkish Lira(TL)</td>\n",
       "      <td>No</td>\n",
       "      <td>No</td>\n",
       "      <td>No</td>\n",
       "      <td>No</td>\n",
       "      <td>3</td>\n",
       "      <td>3.7</td>\n",
       "      <td>Yellow</td>\n",
       "      <td>Good</td>\n",
       "      <td>506</td>\n",
       "    </tr>\n",
       "    <tr>\n",
       "      <th>9543</th>\n",
       "      <td>5916085</td>\n",
       "      <td>Dem Karakí_y</td>\n",
       "      <td>208</td>\n",
       "      <td>ÛÁstanbul</td>\n",
       "      <td>Kemanke�ô Karamustafa Pa�ôa Mahallesi, Hoca Ta...</td>\n",
       "      <td>Karakí_y</td>\n",
       "      <td>Karakí_y, ÛÁstanbul</td>\n",
       "      <td>28.978236</td>\n",
       "      <td>41.024633</td>\n",
       "      <td>Cafe</td>\n",
       "      <td>...</td>\n",
       "      <td>Turkish Lira(TL)</td>\n",
       "      <td>No</td>\n",
       "      <td>No</td>\n",
       "      <td>No</td>\n",
       "      <td>No</td>\n",
       "      <td>2</td>\n",
       "      <td>4.5</td>\n",
       "      <td>Dark Green</td>\n",
       "      <td>Excellent</td>\n",
       "      <td>761</td>\n",
       "    </tr>\n",
       "    <tr>\n",
       "      <th>9544</th>\n",
       "      <td>5915547</td>\n",
       "      <td>Karakí_y Gí_llí_oÛôlu</td>\n",
       "      <td>208</td>\n",
       "      <td>ÛÁstanbul</td>\n",
       "      <td>Kemanke�ô Karamustafa Pa�ôa Mahallesi, RÛ±htÛ±...</td>\n",
       "      <td>Karakí_y</td>\n",
       "      <td>Karakí_y, ÛÁstanbul</td>\n",
       "      <td>28.977636</td>\n",
       "      <td>41.022904</td>\n",
       "      <td>Desserts, Bí_rek</td>\n",
       "      <td>...</td>\n",
       "      <td>Turkish Lira(TL)</td>\n",
       "      <td>No</td>\n",
       "      <td>No</td>\n",
       "      <td>No</td>\n",
       "      <td>No</td>\n",
       "      <td>2</td>\n",
       "      <td>4.7</td>\n",
       "      <td>Dark Green</td>\n",
       "      <td>Excellent</td>\n",
       "      <td>1305</td>\n",
       "    </tr>\n",
       "    <tr>\n",
       "      <th>9545</th>\n",
       "      <td>5915054</td>\n",
       "      <td>Baltazar</td>\n",
       "      <td>208</td>\n",
       "      <td>ÛÁstanbul</td>\n",
       "      <td>Kemanke�ô Karamustafa Pa�ôa Mahallesi, KÛ±lÛ±í...</td>\n",
       "      <td>Karakí_y</td>\n",
       "      <td>Karakí_y, ÛÁstanbul</td>\n",
       "      <td>28.981103</td>\n",
       "      <td>41.025785</td>\n",
       "      <td>Burger, Izgara</td>\n",
       "      <td>...</td>\n",
       "      <td>Turkish Lira(TL)</td>\n",
       "      <td>No</td>\n",
       "      <td>No</td>\n",
       "      <td>No</td>\n",
       "      <td>No</td>\n",
       "      <td>3</td>\n",
       "      <td>4.3</td>\n",
       "      <td>Green</td>\n",
       "      <td>Very Good</td>\n",
       "      <td>870</td>\n",
       "    </tr>\n",
       "    <tr>\n",
       "      <th>9546</th>\n",
       "      <td>5915730</td>\n",
       "      <td>NamlÛ± Gurme</td>\n",
       "      <td>208</td>\n",
       "      <td>ÛÁstanbul</td>\n",
       "      <td>Kemanke�ô Karamustafa Pa�ôa Mahallesi, RÛ±htÛ±...</td>\n",
       "      <td>Karakí_y</td>\n",
       "      <td>Karakí_y, ÛÁstanbul</td>\n",
       "      <td>28.977392</td>\n",
       "      <td>41.022793</td>\n",
       "      <td>Turkish</td>\n",
       "      <td>...</td>\n",
       "      <td>Turkish Lira(TL)</td>\n",
       "      <td>No</td>\n",
       "      <td>No</td>\n",
       "      <td>No</td>\n",
       "      <td>No</td>\n",
       "      <td>3</td>\n",
       "      <td>4.1</td>\n",
       "      <td>Green</td>\n",
       "      <td>Very Good</td>\n",
       "      <td>788</td>\n",
       "    </tr>\n",
       "    <tr>\n",
       "      <th>9547</th>\n",
       "      <td>5908749</td>\n",
       "      <td>Ceviz AÛôacÛ±</td>\n",
       "      <td>208</td>\n",
       "      <td>ÛÁstanbul</td>\n",
       "      <td>Ko�ôuyolu Mahallesi, Muhittin íìstí_ndaÛô Cadd...</td>\n",
       "      <td>Ko�ôuyolu</td>\n",
       "      <td>Ko�ôuyolu, ÛÁstanbul</td>\n",
       "      <td>29.041297</td>\n",
       "      <td>41.009847</td>\n",
       "      <td>World Cuisine, Patisserie, Cafe</td>\n",
       "      <td>...</td>\n",
       "      <td>Turkish Lira(TL)</td>\n",
       "      <td>No</td>\n",
       "      <td>No</td>\n",
       "      <td>No</td>\n",
       "      <td>No</td>\n",
       "      <td>3</td>\n",
       "      <td>4.2</td>\n",
       "      <td>Green</td>\n",
       "      <td>Very Good</td>\n",
       "      <td>1034</td>\n",
       "    </tr>\n",
       "    <tr>\n",
       "      <th>9548</th>\n",
       "      <td>5915807</td>\n",
       "      <td>Huqqa</td>\n",
       "      <td>208</td>\n",
       "      <td>ÛÁstanbul</td>\n",
       "      <td>Kuruí_e�ôme Mahallesi, Muallim Naci Caddesi, N...</td>\n",
       "      <td>Kuruí_e�ôme</td>\n",
       "      <td>Kuruí_e�ôme, ÛÁstanbul</td>\n",
       "      <td>29.034640</td>\n",
       "      <td>41.055817</td>\n",
       "      <td>Italian, World Cuisine</td>\n",
       "      <td>...</td>\n",
       "      <td>Turkish Lira(TL)</td>\n",
       "      <td>No</td>\n",
       "      <td>No</td>\n",
       "      <td>No</td>\n",
       "      <td>No</td>\n",
       "      <td>4</td>\n",
       "      <td>3.7</td>\n",
       "      <td>Yellow</td>\n",
       "      <td>Good</td>\n",
       "      <td>661</td>\n",
       "    </tr>\n",
       "    <tr>\n",
       "      <th>9549</th>\n",
       "      <td>5916112</td>\n",
       "      <td>A�ô�ôk Kahve</td>\n",
       "      <td>208</td>\n",
       "      <td>ÛÁstanbul</td>\n",
       "      <td>Kuruí_e�ôme Mahallesi, Muallim Naci Caddesi, N...</td>\n",
       "      <td>Kuruí_e�ôme</td>\n",
       "      <td>Kuruí_e�ôme, ÛÁstanbul</td>\n",
       "      <td>29.036019</td>\n",
       "      <td>41.057979</td>\n",
       "      <td>Restaurant Cafe</td>\n",
       "      <td>...</td>\n",
       "      <td>Turkish Lira(TL)</td>\n",
       "      <td>No</td>\n",
       "      <td>No</td>\n",
       "      <td>No</td>\n",
       "      <td>No</td>\n",
       "      <td>4</td>\n",
       "      <td>4.0</td>\n",
       "      <td>Green</td>\n",
       "      <td>Very Good</td>\n",
       "      <td>901</td>\n",
       "    </tr>\n",
       "    <tr>\n",
       "      <th>9550</th>\n",
       "      <td>5927402</td>\n",
       "      <td>Walter's Coffee Roastery</td>\n",
       "      <td>208</td>\n",
       "      <td>ÛÁstanbul</td>\n",
       "      <td>CafeaÛôa Mahallesi, BademaltÛ± Sokak, No 21/B,...</td>\n",
       "      <td>Moda</td>\n",
       "      <td>Moda, ÛÁstanbul</td>\n",
       "      <td>29.026016</td>\n",
       "      <td>40.984776</td>\n",
       "      <td>Cafe</td>\n",
       "      <td>...</td>\n",
       "      <td>Turkish Lira(TL)</td>\n",
       "      <td>No</td>\n",
       "      <td>No</td>\n",
       "      <td>No</td>\n",
       "      <td>No</td>\n",
       "      <td>2</td>\n",
       "      <td>4.0</td>\n",
       "      <td>Green</td>\n",
       "      <td>Very Good</td>\n",
       "      <td>591</td>\n",
       "    </tr>\n",
       "  </tbody>\n",
       "</table>\n",
       "<p>9551 rows × 21 columns</p>\n",
       "</div>"
      ],
      "text/plain": [
       "      Restaurant ID                           Restaurant Name  Country Code  \\\n",
       "0           6317637                          Le Petit Souffle           162   \n",
       "1           6304287                          Izakaya Kikufuji           162   \n",
       "2           6300002                    Heat - Edsa Shangri-La           162   \n",
       "3           6318506                                      Ooma           162   \n",
       "4           6314302                               Sambo Kojin           162   \n",
       "5          18189371                              Din Tai Fung           162   \n",
       "6           6300781                                Buffet 101           162   \n",
       "7           6301290                                   Vikings           162   \n",
       "8           6300010  Spiral - Sofitel Philippine Plaza Manila           162   \n",
       "9           6314987                                  Locavore           162   \n",
       "10          6309903                          Silantro Fil-Mex           162   \n",
       "11          6309455           Mad Mark's Creamery & Good Eats           162   \n",
       "12          6318433                          Silantro Fil-Mex           162   \n",
       "13          6310470                                Guevarra's           162   \n",
       "14          6314605                   Sodam Korean Restaurant           162   \n",
       "15         18185059                             Cafe Arabelle           162   \n",
       "16         18182702                  Nonna's Pasta & Pizzeria           162   \n",
       "17          6318213                                Balay Dako           162   \n",
       "18         18255654                Hobing Korean Dessert Cafe           162   \n",
       "19          6308205                   Wildflour Cafe + Bakery           162   \n",
       "20          6315438                            NIU by Vikings           162   \n",
       "21          6310406             The Food Hall by Todd English           162   \n",
       "22          6600681                               Chez Michou            30   \n",
       "23          6601005                       Cafí© Daniel Briand            30   \n",
       "24          6600292                  Casa do Biscoito Mineiro            30   \n",
       "25          6600441                                     Maori            30   \n",
       "26          6600970                            Pizza íæ Bessa            30   \n",
       "27          6600379                                Sushi Loko            30   \n",
       "28          6600214                                   Beirute            30   \n",
       "29          6601218                                  New Koto            30   \n",
       "...             ...                                       ...           ...   \n",
       "9521        6003426                                      Liva           208   \n",
       "9522        6000549                Me�ôhur TavacÛ± Recep Usta           208   \n",
       "9523        6000871                       íˆukuraÛôa SofrasÛ±           208   \n",
       "9524        6004011                              Gaga Manjero           208   \n",
       "9525        6000409                                   Cafemiz           208   \n",
       "9526        6000019                                   Nusr-Et           208   \n",
       "9527        6001537                                  Kebap 49           208   \n",
       "9528        6003668                               Timboo Cafe           208   \n",
       "9529        6001748                  Me�ôhur í_zí_elik Aspava           208   \n",
       "9530        6001757                           YÛ±ldÛ±z Aspava           208   \n",
       "9531        6000747                                 The Bigos           208   \n",
       "9532        6002025                                Masaba�ôÛ±           208   \n",
       "9533        6003879                               Zigana Pide           208   \n",
       "9534        6004089                               Dí_veroÛôlu           208   \n",
       "9535        6000921                               Dí_veroÛôlu           208   \n",
       "9536        6004813                           Pizza ÛÁl Forno           208   \n",
       "9537        5904116                       J'adore Chocolatier           208   \n",
       "9538        5901782                                 Starbucks           208   \n",
       "9539        5902117                                   Valonia           208   \n",
       "9540        5927248                          Draft Gastro Pub           208   \n",
       "9541        5905215                           Emirgan Sí_ti�ô           208   \n",
       "9542        5926979                            Leman Kí_ltí_r           208   \n",
       "9543        5916085                              Dem Karakí_y           208   \n",
       "9544        5915547                     Karakí_y Gí_llí_oÛôlu           208   \n",
       "9545        5915054                                  Baltazar           208   \n",
       "9546        5915730                              NamlÛ± Gurme           208   \n",
       "9547        5908749                             Ceviz AÛôacÛ±           208   \n",
       "9548        5915807                                     Huqqa           208   \n",
       "9549        5916112                              A�ô�ôk Kahve           208   \n",
       "9550        5927402                  Walter's Coffee Roastery           208   \n",
       "\n",
       "                  City                                            Address  \\\n",
       "0          Makati City  Third Floor, Century City Mall, Kalayaan Avenu...   \n",
       "1          Makati City  Little Tokyo, 2277 Chino Roces Avenue, Legaspi...   \n",
       "2     Mandaluyong City  Edsa Shangri-La, 1 Garden Way, Ortigas, Mandal...   \n",
       "3     Mandaluyong City  Third Floor, Mega Fashion Hall, SM Megamall, O...   \n",
       "4     Mandaluyong City  Third Floor, Mega Atrium, SM Megamall, Ortigas...   \n",
       "5     Mandaluyong City  Ground Floor, Mega Fashion Hall, SM Megamall, ...   \n",
       "6           Pasay City  Building K, SM By The Bay, Sunset Boulevard, M...   \n",
       "7           Pasay City  Building B, By The Bay, Seaside Boulevard, Mal...   \n",
       "8           Pasay City  Plaza Level, Sofitel Philippine Plaza Manila, ...   \n",
       "9           Pasig City  Brixton Technology Center, 10 Brixton Street, ...   \n",
       "10          Pasig City       75 East Capitol Drive, Kapitolyo, Pasig City   \n",
       "11          Pasig City       23 East Capitol Drive, Kapitolyo, Pasig City   \n",
       "12         Quezon City  Second Floor, UP Town Center, Katipunan Avenue...   \n",
       "13       San Juan City  387 P. Guevarra Corner Argonne Street, Additio...   \n",
       "14       San Juan City  17 J. Abad Santos Drive, Little Baguio, San Ju...   \n",
       "15          Santa Rosa  Ayala Mall, Solenad, Nuvali, Santa Rosa - Taga...   \n",
       "16          Santa Rosa  Ground Floor, Building G, Solenad 3, Nuvali, D...   \n",
       "17       Tagaytay City                   Aguinaldo Highway, Tagaytay City   \n",
       "18         Taguig City  Third Floor, BGC Stopover Pavillion, Rizal Dri...   \n",
       "19         Taguig City  Ground Floor, Netlima Building, 4th Avenue Cor...   \n",
       "20         Taguig City  Sixth Floor, SM Aura Premier, C5 Road Corner 2...   \n",
       "21         Taguig City  Fifth Floor, SM Aura Premier, C5 Corner 26th S...   \n",
       "22           Brasí_lia  SCLN, 208, Bloco A, Loja 30, Asa Norte, Brasí_lia   \n",
       "23           Brasí_lia   SCLN 104, Bloco A, Loja 26, Asa Norte, Brasí_lia   \n",
       "24           Brasí_lia  SCLN 210, Bloco D, Loja 36/48, Asa Norte, Bras...   \n",
       "25           Brasí_lia    CLN 110, Bloco D, Loja 28, Asa Norte, Brasí_lia   \n",
       "26           Brasí_lia      SCS 214, Bloco C, Loja 40, Asa Sul, Brasí_lia   \n",
       "27           Brasí_lia      SCS 213, Bloco C, Loja 35, Asa Sul, Brasí_lia   \n",
       "28           Brasí_lia     CLS 109, Bloco A, Loja 2/6, Asa Sul, Brasí_lia   \n",
       "29           Brasí_lia      SCS 212, Bloco B, Loja 26, Asa Sul, Brasí_lia   \n",
       "...                ...                                                ...   \n",
       "9521            Ankara  íˆukurambar Mahallesi, Muhsin YazÛ±cÛ±oÛôlu Ca...   \n",
       "9522            Ankara  Gí_zeltepe Mahallesi, Dikmen Vadisi, Ho�ôdere ...   \n",
       "9523            Ankara  Emek Mahallesi, Bosna Hersek Caddesi, No 22/C,...   \n",
       "9524            Ankara  Gazi Osman Pa�ôa Mahallesi, Filistin Caddesi, ...   \n",
       "9525            Ankara  Gaziosmanpa�ôa Mahallesi, Arjantin Caddesi, No...   \n",
       "9526            Ankara  Gaziosmanpa�ôa Mahallesi, �_ehit í_mer Haluk S...   \n",
       "9527            Ankara  Remzi OÛôuz ArÛ±k Mahallesi, TunalÛ± Hilmi Cad...   \n",
       "9528            Ankara  Kentpark AVM, Kat -1, Mustafa Kemal Mahallesi,...   \n",
       "9529            Ankara  Kí_í_í_k Esat Mahallesi, Esat Caddesi, No 110/...   \n",
       "9530            Ankara  Kí_í_í_k Esat Mahallesi, Esat Caddesi, No 110/...   \n",
       "9531            Ankara  Mahallesi, Selanik 2 Caddesi, No 61/A, íˆankay...   \n",
       "9532            Ankara  Kocatepe Mahallesi, Mithatpa�ôa Caddesi, No 62...   \n",
       "9533            Ankara  Macun Mahallesi, Erciyes ÛÁ�ôyerleri Sitesi, 2...   \n",
       "9534            Ankara  Maltepe Mahallesi, Gení_lik Caddesi, No 28, íˆ...   \n",
       "9535            Ankara  íìmitkí_y Mahallesi, 2432. Cadde (8. Cadde), N...   \n",
       "9536            Ankara  YÛ±ldÛ±zevler Mahallesi, 720. Sokak, No 2/B, í...   \n",
       "9537         ÛÁstanbul  AsmalÛ±mescit Mahallesi, ÛÁstiklal Caddesi, Em...   \n",
       "9538         ÛÁstanbul  Bebek Mahallesi, Cevdetpa�ôa Caddesi, No 30/A,...   \n",
       "9539         ÛÁstanbul  Tí_rkali Mahallesi, Ihlamurdere Caddesi, No 40...   \n",
       "9540         ÛÁstanbul  Caddebostan Mahallesi, BaÛôdat Caddesi, No 349...   \n",
       "9541         ÛÁstanbul  Emirgan Mahallesi, SakÛ±p SabancÛ± Caddesi, No...   \n",
       "9542         ÛÁstanbul  CaferaÛôa Mahallesi, Ne�ôet í_mer Sokak, No 9/...   \n",
       "9543         ÛÁstanbul  Kemanke�ô Karamustafa Pa�ôa Mahallesi, Hoca Ta...   \n",
       "9544         ÛÁstanbul  Kemanke�ô Karamustafa Pa�ôa Mahallesi, RÛ±htÛ±...   \n",
       "9545         ÛÁstanbul  Kemanke�ô Karamustafa Pa�ôa Mahallesi, KÛ±lÛ±í...   \n",
       "9546         ÛÁstanbul  Kemanke�ô Karamustafa Pa�ôa Mahallesi, RÛ±htÛ±...   \n",
       "9547         ÛÁstanbul  Ko�ôuyolu Mahallesi, Muhittin íìstí_ndaÛô Cadd...   \n",
       "9548         ÛÁstanbul  Kuruí_e�ôme Mahallesi, Muallim Naci Caddesi, N...   \n",
       "9549         ÛÁstanbul  Kuruí_e�ôme Mahallesi, Muallim Naci Caddesi, N...   \n",
       "9550         ÛÁstanbul  CafeaÛôa Mahallesi, BademaltÛ± Sokak, No 21/B,...   \n",
       "\n",
       "                                               Locality  \\\n",
       "0             Century City Mall, Poblacion, Makati City   \n",
       "1            Little Tokyo, Legaspi Village, Makati City   \n",
       "2            Edsa Shangri-La, Ortigas, Mandaluyong City   \n",
       "3                SM Megamall, Ortigas, Mandaluyong City   \n",
       "4                SM Megamall, Ortigas, Mandaluyong City   \n",
       "5                SM Megamall, Ortigas, Mandaluyong City   \n",
       "6       SM by the Bay, Mall of Asia Complex, Pasay City   \n",
       "7       SM by the Bay, Mall of Asia Complex, Pasay City   \n",
       "8           Sofitel Philippine Plaza Manila, Pasay City   \n",
       "9                                             Kapitolyo   \n",
       "10                                            Kapitolyo   \n",
       "11                                            Kapitolyo   \n",
       "12                 UP Town Center, Diliman, Quezon City   \n",
       "13                                       Addition Hills   \n",
       "14                                        Little Baguio   \n",
       "15                         Nuvali, Don Jose, Santa Rosa   \n",
       "16                      Solenad 3, Don Jose, Santa Rosa   \n",
       "17                                        Tagaytay City   \n",
       "18        BGC Stopover Pavillion, Bonifacio Global City   \n",
       "19                                Bonifacio Global City   \n",
       "20    SM Aura Premier, Bonifacio Global City, Taguig...   \n",
       "21    SM Aura Premier, Bonifacio Global City, Taguig...   \n",
       "22                                            Asa Norte   \n",
       "23                                            Asa Norte   \n",
       "24                                            Asa Norte   \n",
       "25                                            Asa Norte   \n",
       "26                                              Asa Sul   \n",
       "27                                              Asa Sul   \n",
       "28                                              Asa Sul   \n",
       "29                                              Asa Sul   \n",
       "...                                                 ...   \n",
       "9521                                        íˆukurambar   \n",
       "9522                                             Dikmen   \n",
       "9523                                               Emek   \n",
       "9524                                   Gazi Osman Pa�ôa   \n",
       "9525                                   Gazi Osman Pa�ôa   \n",
       "9526                                   Gazi Osman Pa�ôa   \n",
       "9527                                       KavaklÛ±dere   \n",
       "9528             Kentpark AVM, íìniversiteler, íˆankaya   \n",
       "9529                                      Kí_í_í_k Esat   \n",
       "9530                                      Kí_í_í_k Esat   \n",
       "9531                                          KÛ±zÛ±lay   \n",
       "9532                                          KÛ±zÛ±lay   \n",
       "9533                                          Macunkí_y   \n",
       "9534                                            Maltepe   \n",
       "9535                                          íìmitkí_y   \n",
       "9536                                      YÛ±ldÛ±zevler   \n",
       "9537                                      AsmalÛ±mescit   \n",
       "9538                                              Bebek   \n",
       "9539                                  Be�ôikta�ô Merkez   \n",
       "9540                                        Caddebostan   \n",
       "9541                                           Emirgí¢n   \n",
       "9542                                   KadÛ±kí_y Merkez   \n",
       "9543                                           Karakí_y   \n",
       "9544                                           Karakí_y   \n",
       "9545                                           Karakí_y   \n",
       "9546                                           Karakí_y   \n",
       "9547                                          Ko�ôuyolu   \n",
       "9548                                        Kuruí_e�ôme   \n",
       "9549                                        Kuruí_e�ôme   \n",
       "9550                                               Moda   \n",
       "\n",
       "                                       Locality Verbose   Longitude  \\\n",
       "0     Century City Mall, Poblacion, Makati City, Mak...  121.027535   \n",
       "1     Little Tokyo, Legaspi Village, Makati City, Ma...  121.014101   \n",
       "2     Edsa Shangri-La, Ortigas, Mandaluyong City, Ma...  121.056831   \n",
       "3     SM Megamall, Ortigas, Mandaluyong City, Mandal...  121.056475   \n",
       "4     SM Megamall, Ortigas, Mandaluyong City, Mandal...  121.057508   \n",
       "5     SM Megamall, Ortigas, Mandaluyong City, Mandal...  121.056314   \n",
       "6     SM by the Bay, Mall of Asia Complex, Pasay Cit...  120.979667   \n",
       "7     SM by the Bay, Mall of Asia Complex, Pasay Cit...  120.979333   \n",
       "8     Sofitel Philippine Plaza Manila, Pasay City, P...  120.980090   \n",
       "9                                 Kapitolyo, Pasig City  121.056532   \n",
       "10                                Kapitolyo, Pasig City  121.057916   \n",
       "11                                Kapitolyo, Pasig City  121.060820   \n",
       "12    UP Town Center, Diliman, Quezon City, Quezon City  121.075419   \n",
       "13                        Addition Hills, San Juan City  121.033592   \n",
       "14                         Little Baguio, San Juan City  121.038110   \n",
       "15             Nuvali, Don Jose, Santa Rosa, Santa Rosa  121.057040   \n",
       "16          Solenad 3, Don Jose, Santa Rosa, Santa Rosa  121.056587   \n",
       "17                         Tagaytay City, Tagaytay City  120.951589   \n",
       "18    BGC Stopover Pavillion, Bonifacio Global City,...  121.045878   \n",
       "19                   Bonifacio Global City, Taguig City  121.046220   \n",
       "20    SM Aura Premier, Bonifacio Global City, Taguig...  121.053725   \n",
       "21    SM Aura Premier, Bonifacio Global City, Taguig...  121.053500   \n",
       "22                                 Asa Norte, Brasí_lia  -47.881789   \n",
       "23                                 Asa Norte, Brasí_lia  -47.882667   \n",
       "24                                 Asa Norte, Brasí_lia  -47.882136   \n",
       "25                                 Asa Norte, Brasí_lia  -47.888167   \n",
       "26                                   Asa Sul, Brasí_lia  -47.915667   \n",
       "27                                   Asa Sul, Brasí_lia  -47.915667   \n",
       "28                                   Asa Sul, Brasí_lia  -47.907500   \n",
       "29                                   Asa Sul, Brasí_lia  -47.910167   \n",
       "...                                                 ...         ...   \n",
       "9521                                íˆukurambar, Ankara   32.809146   \n",
       "9522                                     Dikmen, Ankara   32.846189   \n",
       "9523                                       Emek, Ankara   32.818833   \n",
       "9524                           Gazi Osman Pa�ôa, Ankara   32.869800   \n",
       "9525                           Gazi Osman Pa�ôa, Ankara   32.865683   \n",
       "9526                           Gazi Osman Pa�ôa, Ankara   32.864833   \n",
       "9527                               KavaklÛ±dere, Ankara   32.860144   \n",
       "9528     Kentpark AVM, íìniversiteler, íˆankaya, Ankara   32.776255   \n",
       "9529                              Kí_í_í_k Esat, Ankara   32.866633   \n",
       "9530                              Kí_í_í_k Esat, Ankara   32.866608   \n",
       "9531                                  KÛ±zÛ±lay, Ankara   32.857917   \n",
       "9532                                  KÛ±zÛ±lay, Ankara   32.859867   \n",
       "9533                                  Macunkí_y, Ankara   32.763378   \n",
       "9534                                    Maltepe, Ankara   32.842742   \n",
       "9535                                  íìmitkí_y, Ankara   32.701775   \n",
       "9536                              YÛ±ldÛ±zevler, Ankara   32.860217   \n",
       "9537                           AsmalÛ±mescit, ÛÁstanbul   28.976127   \n",
       "9538                                   Bebek, ÛÁstanbul   29.043734   \n",
       "9539                       Be�ôikta�ô Merkez, ÛÁstanbul   29.002896   \n",
       "9540                             Caddebostan, ÛÁstanbul   29.074116   \n",
       "9541                                Emirgí¢n, ÛÁstanbul   29.056620   \n",
       "9542                        KadÛ±kí_y Merkez, ÛÁstanbul   29.022805   \n",
       "9543                                Karakí_y, ÛÁstanbul   28.978236   \n",
       "9544                                Karakí_y, ÛÁstanbul   28.977636   \n",
       "9545                                Karakí_y, ÛÁstanbul   28.981103   \n",
       "9546                                Karakí_y, ÛÁstanbul   28.977392   \n",
       "9547                               Ko�ôuyolu, ÛÁstanbul   29.041297   \n",
       "9548                             Kuruí_e�ôme, ÛÁstanbul   29.034640   \n",
       "9549                             Kuruí_e�ôme, ÛÁstanbul   29.036019   \n",
       "9550                                    Moda, ÛÁstanbul   29.026016   \n",
       "\n",
       "       Latitude                                    Cuisines  ...  \\\n",
       "0     14.565443                  French, Japanese, Desserts  ...   \n",
       "1     14.553708                                    Japanese  ...   \n",
       "2     14.581404            Seafood, Asian, Filipino, Indian  ...   \n",
       "3     14.585318                             Japanese, Sushi  ...   \n",
       "4     14.584450                            Japanese, Korean  ...   \n",
       "5     14.583764                                     Chinese  ...   \n",
       "6     14.531333                             Asian, European  ...   \n",
       "7     14.540000          Seafood, Filipino, Asian, European  ...   \n",
       "8     14.552990                     European, Asian, Indian  ...   \n",
       "9     14.572041                                    Filipino  ...   \n",
       "10    14.567689                           Filipino, Mexican  ...   \n",
       "11    14.570849               American, Ice Cream, Desserts  ...   \n",
       "12    14.649503                           Filipino, Mexican  ...   \n",
       "13    14.593450                                    Filipino  ...   \n",
       "14    14.598890                                      Korean  ...   \n",
       "15    14.237082           Cafe, American, Italian, Filipino  ...   \n",
       "16    14.237679                              Italian, Pizza  ...   \n",
       "17    14.101834                                    Filipino  ...   \n",
       "18    14.554360                      Cafe, Korean, Desserts  ...   \n",
       "19    14.549337             Cafe, Bakery, American, Italian  ...   \n",
       "20    14.545858  Seafood, American, Mediterranean, Japanese  ...   \n",
       "21    14.545655           American, Asian, Italian, Seafood  ...   \n",
       "22   -15.764142                           Fast Food, French  ...   \n",
       "23   -15.777500                                        Cafe  ...   \n",
       "24   -15.757472                                      Bakery  ...   \n",
       "25   -15.758833                                   Brazilian  ...   \n",
       "26   -15.831167                                       Pizza  ...   \n",
       "27   -15.831000                                    Japanese  ...   \n",
       "28   -15.820000                                     Arabian  ...   \n",
       "29   -15.827333                                    Japanese  ...   \n",
       "...         ...                                         ...  ...   \n",
       "9521  39.904709                  Patisserie, Coffee and Tea  ...   \n",
       "9522  39.884872                                       Kebab  ...   \n",
       "9523  39.916667                               Kebab, Izgara  ...   \n",
       "9524  39.898239                               World Cuisine  ...   \n",
       "9525  39.897872             World Cuisine, Mexican, Italian  ...   \n",
       "9526  39.899667                                       Steak  ...   \n",
       "9527  39.907272                        Kebab, Turkish Pizza  ...   \n",
       "9528  39.908957                                        Cafe  ...   \n",
       "9529  39.906636                        Kebab, Turkish Pizza  ...   \n",
       "9530  39.906569                Kebab, Turkish Pizza, Dí_ner  ...   \n",
       "9531  39.916686                                        Cafe  ...   \n",
       "9532  39.919144                        Kebab, Turkish Pizza  ...   \n",
       "9533  39.946278                               Turkish Pizza  ...   \n",
       "9534  39.922536              Kebab, Desserts, Turkish Pizza  ...   \n",
       "9535  39.891564              Kebab, Desserts, Turkish Pizza  ...   \n",
       "9536  39.876239                                       Pizza  ...   \n",
       "9537  41.033002                                    Desserts  ...   \n",
       "9538  41.077696                                        Cafe  ...   \n",
       "9539  41.044813                   Restaurant Cafe, Desserts  ...   \n",
       "9540  40.963935                                    Bar Food  ...   \n",
       "9541  41.104969          Restaurant Cafe, Turkish, Desserts  ...   \n",
       "9542  40.989705                             Restaurant Cafe  ...   \n",
       "9543  41.024633                                        Cafe  ...   \n",
       "9544  41.022904                            Desserts, Bí_rek  ...   \n",
       "9545  41.025785                              Burger, Izgara  ...   \n",
       "9546  41.022793                                     Turkish  ...   \n",
       "9547  41.009847             World Cuisine, Patisserie, Cafe  ...   \n",
       "9548  41.055817                      Italian, World Cuisine  ...   \n",
       "9549  41.057979                             Restaurant Cafe  ...   \n",
       "9550  40.984776                                        Cafe  ...   \n",
       "\n",
       "                Currency Has Table booking Has Online delivery  \\\n",
       "0       Botswana Pula(P)               Yes                  No   \n",
       "1       Botswana Pula(P)               Yes                  No   \n",
       "2       Botswana Pula(P)               Yes                  No   \n",
       "3       Botswana Pula(P)                No                  No   \n",
       "4       Botswana Pula(P)               Yes                  No   \n",
       "5       Botswana Pula(P)                No                  No   \n",
       "6       Botswana Pula(P)               Yes                  No   \n",
       "7       Botswana Pula(P)               Yes                  No   \n",
       "8       Botswana Pula(P)               Yes                  No   \n",
       "9       Botswana Pula(P)               Yes                  No   \n",
       "10      Botswana Pula(P)                No                  No   \n",
       "11      Botswana Pula(P)               Yes                  No   \n",
       "12      Botswana Pula(P)                No                  No   \n",
       "13      Botswana Pula(P)               Yes                  No   \n",
       "14      Botswana Pula(P)                No                  No   \n",
       "15      Botswana Pula(P)                No                  No   \n",
       "16      Botswana Pula(P)                No                  No   \n",
       "17      Botswana Pula(P)               Yes                  No   \n",
       "18      Botswana Pula(P)                No                  No   \n",
       "19      Botswana Pula(P)               Yes                  No   \n",
       "20      Botswana Pula(P)               Yes                  No   \n",
       "21      Botswana Pula(P)               Yes                  No   \n",
       "22    Brazilian Real(R$)                No                  No   \n",
       "23    Brazilian Real(R$)                No                  No   \n",
       "24    Brazilian Real(R$)                No                  No   \n",
       "25    Brazilian Real(R$)                No                  No   \n",
       "26    Brazilian Real(R$)                No                  No   \n",
       "27    Brazilian Real(R$)                No                  No   \n",
       "28    Brazilian Real(R$)                No                  No   \n",
       "29    Brazilian Real(R$)                No                  No   \n",
       "...                  ...               ...                 ...   \n",
       "9521    Turkish Lira(TL)                No                  No   \n",
       "9522    Turkish Lira(TL)                No                  No   \n",
       "9523    Turkish Lira(TL)                No                  No   \n",
       "9524    Turkish Lira(TL)                No                  No   \n",
       "9525    Turkish Lira(TL)                No                  No   \n",
       "9526    Turkish Lira(TL)                No                  No   \n",
       "9527    Turkish Lira(TL)                No                  No   \n",
       "9528    Turkish Lira(TL)                No                  No   \n",
       "9529    Turkish Lira(TL)                No                  No   \n",
       "9530    Turkish Lira(TL)                No                  No   \n",
       "9531    Turkish Lira(TL)                No                  No   \n",
       "9532    Turkish Lira(TL)                No                  No   \n",
       "9533    Turkish Lira(TL)                No                  No   \n",
       "9534    Turkish Lira(TL)                No                  No   \n",
       "9535    Turkish Lira(TL)                No                  No   \n",
       "9536    Turkish Lira(TL)                No                  No   \n",
       "9537    Turkish Lira(TL)                No                  No   \n",
       "9538    Turkish Lira(TL)                No                  No   \n",
       "9539    Turkish Lira(TL)                No                  No   \n",
       "9540    Turkish Lira(TL)                No                  No   \n",
       "9541    Turkish Lira(TL)                No                  No   \n",
       "9542    Turkish Lira(TL)                No                  No   \n",
       "9543    Turkish Lira(TL)                No                  No   \n",
       "9544    Turkish Lira(TL)                No                  No   \n",
       "9545    Turkish Lira(TL)                No                  No   \n",
       "9546    Turkish Lira(TL)                No                  No   \n",
       "9547    Turkish Lira(TL)                No                  No   \n",
       "9548    Turkish Lira(TL)                No                  No   \n",
       "9549    Turkish Lira(TL)                No                  No   \n",
       "9550    Turkish Lira(TL)                No                  No   \n",
       "\n",
       "     Is delivering now Switch to order menu Price range  Aggregate rating  \\\n",
       "0                   No                   No           3               4.8   \n",
       "1                   No                   No           3               4.5   \n",
       "2                   No                   No           4               4.4   \n",
       "3                   No                   No           4               4.9   \n",
       "4                   No                   No           4               4.8   \n",
       "5                   No                   No           3               4.4   \n",
       "6                   No                   No           4               4.0   \n",
       "7                   No                   No           4               4.2   \n",
       "8                   No                   No           4               4.9   \n",
       "9                   No                   No           3               4.8   \n",
       "10                  No                   No           3               4.9   \n",
       "11                  No                   No           3               4.2   \n",
       "12                  No                   No           3               4.8   \n",
       "13                  No                   No           3               4.2   \n",
       "14                  No                   No           3               4.3   \n",
       "15                  No                   No           3               3.6   \n",
       "16                  No                   No           3               4.0   \n",
       "17                  No                   No           3               4.5   \n",
       "18                  No                   No           2               4.5   \n",
       "19                  No                   No           4               4.4   \n",
       "20                  No                   No           4               4.7   \n",
       "21                  No                   No           4               4.5   \n",
       "22                  No                   No           2               3.0   \n",
       "23                  No                   No           1               3.8   \n",
       "24                  No                   No           2               3.7   \n",
       "25                  No                   No           3               3.8   \n",
       "26                  No                   No           2               3.2   \n",
       "27                  No                   No           3               3.1   \n",
       "28                  No                   No           3               3.7   \n",
       "29                  No                   No           4               3.7   \n",
       "...                ...                  ...         ...               ...   \n",
       "9521                No                   No           2               3.4   \n",
       "9522                No                   No           3               4.5   \n",
       "9523                No                   No           3               4.4   \n",
       "9524                No                   No           3               4.9   \n",
       "9525                No                   No           4               4.4   \n",
       "9526                No                   No           4               4.1   \n",
       "9527                No                   No           3               4.3   \n",
       "9528                No                   No           3               4.2   \n",
       "9529                No                   No           2               4.6   \n",
       "9530                No                   No           2               4.4   \n",
       "9531                No                   No           3               3.8   \n",
       "9532                No                   No           3               4.2   \n",
       "9533                No                   No           2               4.3   \n",
       "9534                No                   No           3               4.4   \n",
       "9535                No                   No           3               4.2   \n",
       "9536                No                   No           2               4.7   \n",
       "9537                No                   No           2               4.7   \n",
       "9538                No                   No           2               4.9   \n",
       "9539                No                   No           3               4.2   \n",
       "9540                No                   No           4               4.9   \n",
       "9541                No                   No           3               4.2   \n",
       "9542                No                   No           3               3.7   \n",
       "9543                No                   No           2               4.5   \n",
       "9544                No                   No           2               4.7   \n",
       "9545                No                   No           3               4.3   \n",
       "9546                No                   No           3               4.1   \n",
       "9547                No                   No           3               4.2   \n",
       "9548                No                   No           4               3.7   \n",
       "9549                No                   No           4               4.0   \n",
       "9550                No                   No           2               4.0   \n",
       "\n",
       "      Rating color Rating text Votes  \n",
       "0       Dark Green   Excellent   314  \n",
       "1       Dark Green   Excellent   591  \n",
       "2            Green   Very Good   270  \n",
       "3       Dark Green   Excellent   365  \n",
       "4       Dark Green   Excellent   229  \n",
       "5            Green   Very Good   336  \n",
       "6            Green   Very Good   520  \n",
       "7            Green   Very Good   677  \n",
       "8       Dark Green   Excellent   621  \n",
       "9       Dark Green   Excellent   532  \n",
       "10      Dark Green   Excellent  1070  \n",
       "11           Green   Very Good   488  \n",
       "12      Dark Green   Excellent   294  \n",
       "13           Green   Very Good   458  \n",
       "14           Green   Very Good   223  \n",
       "15          Yellow        Good    29  \n",
       "16           Green   Very Good    72  \n",
       "17      Dark Green   Excellent   211  \n",
       "18      Dark Green   Excellent   118  \n",
       "19           Green   Very Good   392  \n",
       "20      Dark Green   Excellent   535  \n",
       "21      Dark Green   Excellent   618  \n",
       "22          Orange     Average     6  \n",
       "23          Yellow        Good     9  \n",
       "24          Yellow        Good    11  \n",
       "25          Yellow        Good    11  \n",
       "26          Orange     Average    11  \n",
       "27          Orange     Average    10  \n",
       "28          Yellow        Good     8  \n",
       "29          Yellow        Good     5  \n",
       "...            ...         ...   ...  \n",
       "9521        Orange     Average   115  \n",
       "9522    Dark Green   Excellent   231  \n",
       "9523         Green   Very Good   296  \n",
       "9524    Dark Green   Excellent    95  \n",
       "9525         Green   Very Good   115  \n",
       "9526         Green   Very Good    97  \n",
       "9527         Green   Very Good   106  \n",
       "9528         Green   Very Good    79  \n",
       "9529    Dark Green   Excellent   109  \n",
       "9530         Green   Very Good    72  \n",
       "9531        Yellow        Good   123  \n",
       "9532         Green   Very Good   103  \n",
       "9533         Green   Very Good   103  \n",
       "9534         Green   Very Good   131  \n",
       "9535         Green   Very Good   152  \n",
       "9536    Dark Green   Excellent   104  \n",
       "9537    Dark Green   Excellent  1311  \n",
       "9538    Dark Green   Excellent  1042  \n",
       "9539         Green   Very Good   874  \n",
       "9540    Dark Green   Excellent   522  \n",
       "9541         Green   Very Good   877  \n",
       "9542        Yellow        Good   506  \n",
       "9543    Dark Green   Excellent   761  \n",
       "9544    Dark Green   Excellent  1305  \n",
       "9545         Green   Very Good   870  \n",
       "9546         Green   Very Good   788  \n",
       "9547         Green   Very Good  1034  \n",
       "9548        Yellow        Good   661  \n",
       "9549         Green   Very Good   901  \n",
       "9550         Green   Very Good   591  \n",
       "\n",
       "[9551 rows x 21 columns]"
      ]
     },
     "execution_count": 1232,
     "metadata": {},
     "output_type": "execute_result"
    }
   ],
   "source": [
    "data2"
   ]
  },
  {
   "cell_type": "code",
   "execution_count": 1233,
   "metadata": {},
   "outputs": [],
   "source": [
    "data2[\"Country Code\"].dropna(inplace=True)\n",
    "data2[\"City\"].dropna(inplace=True)\n",
    "data2[\"Votes\"].dropna(inplace=True)\n",
    "data2[\"Aggregate rating\"].dropna(inplace=True)\n",
    "data2.reset_index(inplace=True)"
   ]
  },
  {
   "cell_type": "code",
   "execution_count": 1247,
   "metadata": {},
   "outputs": [],
   "source": [
    "c_code_sample=np.array(data2[\"Country Code\"])\n",
    "c_city_sample=np.array(data2[\"City\"])\n",
    "c_res_votes=np.array(data2[\"Votes\"])\n",
    "c_res_rating=np.array(data2[\"Aggregate rating\"])"
   ]
  },
  {
   "cell_type": "code",
   "execution_count": 1248,
   "metadata": {},
   "outputs": [],
   "source": [
    "index0s=[]\n",
    "for i in range(len(c_res_votes)):\n",
    "    if c_res_votes[i]==0:\n",
    "        index0s.append(i)"
   ]
  },
  {
   "cell_type": "code",
   "execution_count": 1246,
   "metadata": {},
   "outputs": [],
   "source": [
    "data2.reset_index(inplace=True)"
   ]
  },
  {
   "cell_type": "code",
   "execution_count": 1250,
   "metadata": {},
   "outputs": [
    {
     "data": {
      "text/plain": [
       "0"
      ]
     },
     "execution_count": 1250,
     "metadata": {},
     "output_type": "execute_result"
    }
   ],
   "source": [
    "len(index0s)"
   ]
  },
  {
   "cell_type": "code",
   "execution_count": 1251,
   "metadata": {},
   "outputs": [
    {
     "data": {
      "text/plain": [
       "(8457, 8457, 8457, 8457)"
      ]
     },
     "execution_count": 1251,
     "metadata": {},
     "output_type": "execute_result"
    }
   ],
   "source": [
    "len(c_code_sample),len(c_city_sample),len(c_res_votes),len(c_res_rating)"
   ]
  },
  {
   "cell_type": "code",
   "execution_count": 1252,
   "metadata": {},
   "outputs": [],
   "source": [
    "indian_city=[]\n",
    "indian_city_vc=[]\n",
    "indian_city_rating=[]\n",
    "for i in range(8457):\n",
    "    if c_code_sample[i]==1:\n",
    "        indian_city.append(c_city_sample[i])\n",
    "        indian_city_vc.append(c_res_votes[i])\n",
    "        indian_city_rating.append(c_res_rating[i])"
   ]
  },
  {
   "cell_type": "code",
   "execution_count": 1254,
   "metadata": {},
   "outputs": [],
   "source": [
    "indian_city_np = np.array(list( dict.fromkeys(indian_city) ))"
   ]
  },
  {
   "cell_type": "code",
   "execution_count": 1255,
   "metadata": {},
   "outputs": [
    {
     "data": {
      "text/plain": [
       "array(['Agra', 'Ahmedabad', 'Allahabad', 'Amritsar', 'Aurangabad',\n",
       "       'Bangalore', 'Bhopal', 'Bhubaneshwar', 'Chandigarh', 'Chennai',\n",
       "       'Coimbatore', 'Dehradun', 'Faridabad', 'Ghaziabad', 'Goa',\n",
       "       'Gurgaon', 'Guwahati', 'Hyderabad', 'Indore', 'Jaipur', 'Kanpur',\n",
       "       'Kochi', 'Kolkata', 'Lucknow', 'Ludhiana', 'Mangalore', 'Mohali',\n",
       "       'Mumbai', 'Mysore', 'Nagpur', 'Nashik', 'New Delhi', 'Noida',\n",
       "       'Panchkula', 'Patna', 'Puducherry', 'Pune', 'Ranchi',\n",
       "       'Secunderabad', 'Surat', 'Vadodara', 'Varanasi', 'Vizag'],\n",
       "      dtype='<U12')"
      ]
     },
     "execution_count": 1255,
     "metadata": {},
     "output_type": "execute_result"
    }
   ],
   "source": [
    "# Weighted Restaurant Rating=Σ (number of votes * rating) / Σ (number of votes) .\n",
    "indian_city_np"
   ]
  },
  {
   "cell_type": "code",
   "execution_count": 1256,
   "metadata": {},
   "outputs": [],
   "source": [
    "numerator=np.array([0]*len(indian_city_np))\n",
    "denominator=np.array([0]*len(indian_city_np))"
   ]
  },
  {
   "cell_type": "code",
   "execution_count": 1262,
   "metadata": {},
   "outputs": [],
   "source": [
    "for i in range(len(indian_city_np)):\n",
    "    for j in range(len(indian_city)):\n",
    "        if indian_city_np[i]==indian_city[j]:\n",
    "            numerator[i]=numerator[i]+(indian_city_vc[j]*indian_city_rating[j])\n",
    "            denominator[i]=denominator[i]+indian_city_vc[j]"
   ]
  },
  {
   "cell_type": "code",
   "execution_count": 1267,
   "metadata": {},
   "outputs": [
    {
     "data": {
      "text/plain": [
       "array([2., 3., 4.])"
      ]
     },
     "execution_count": 1267,
     "metadata": {},
     "output_type": "execute_result"
    }
   ],
   "source": [
    "tx=np.array([4,9,16])\n",
    "ty=np.array([2,3,4])\n",
    "xn=tx/ty\n",
    "xn"
   ]
  },
  {
   "cell_type": "code",
   "execution_count": 1265,
   "metadata": {},
   "outputs": [
    {
     "data": {
      "text/plain": [
       "array([3.87745549, 3.88015464, 3.87668219, 3.87688146, 3.87673786,\n",
       "       3.90522152, 3.87783184, 3.87755056, 3.87921313, 3.88731852,\n",
       "       3.87828757, 3.87751357, 3.87504702, 3.87556083, 3.88076216,\n",
       "       3.86364067, 3.8788468 , 3.88939633, 3.87771784, 3.88095836,\n",
       "       3.87719301, 3.87879722, 3.89236018, 3.8806371 , 3.87772684,\n",
       "       3.87680545, 3.8772714 , 3.88551436, 3.87681768, 3.87790469,\n",
       "       3.87671893, 3.83788129, 3.85345746, 3.87746527, 3.8766921 ,\n",
       "       3.87642744, 3.88421262, 3.87676897, 3.87830859, 3.8776618 ,\n",
       "       3.87802664, 3.87677518, 3.87793001])"
      ]
     },
     "execution_count": 1265,
     "metadata": {},
     "output_type": "execute_result"
    }
   ],
   "source": [
    "w=numerator/denominator\n",
    "w"
   ]
  },
  {
   "cell_type": "code",
   "execution_count": 1268,
   "metadata": {},
   "outputs": [
    {
     "data": {
      "text/plain": [
       "(43, 43)"
      ]
     },
     "execution_count": 1268,
     "metadata": {},
     "output_type": "execute_result"
    }
   ],
   "source": [
    "len(w),len(indian_city_np)"
   ]
  },
  {
   "cell_type": "code",
   "execution_count": 1272,
   "metadata": {},
   "outputs": [],
   "source": [
    "no_of_res_c=np.array([0]*43)"
   ]
  },
  {
   "cell_type": "code",
   "execution_count": 1273,
   "metadata": {},
   "outputs": [],
   "source": [
    "for i in range(len(indian_city_np)):\n",
    "    for j in range(len(indian_city)):\n",
    "        if indian_city_np[i]==indian_city[j]:\n",
    "            no_of_res_c[i]+=1 "
   ]
  },
  {
   "cell_type": "code",
   "execution_count": 1292,
   "metadata": {},
   "outputs": [
    {
     "name": "stdout",
     "output_type": "stream",
     "text": [
      "20 Agra 3.88\n",
      "21 Ahmedabad 3.88\n",
      "20 Allahabad 3.88\n",
      "21 Amritsar 3.88\n",
      "20 Aurangabad 3.88\n",
      "20 Bangalore 3.91\n",
      "20 Bhopal 3.88\n",
      "21 Bhubaneshwar 3.88\n",
      "18 Chandigarh 3.88\n",
      "20 Chennai 3.89\n",
      "20 Coimbatore 3.88\n",
      "20 Dehradun 3.88\n",
      "194 Faridabad 3.88\n",
      "24 Ghaziabad 3.88\n",
      "20 Goa 3.88\n",
      "989 Gurgaon 3.86\n",
      "21 Guwahati 3.88\n",
      "18 Hyderabad 3.89\n",
      "20 Indore 3.88\n",
      "20 Jaipur 3.88\n",
      "20 Kanpur 3.88\n",
      "20 Kochi 3.88\n",
      "20 Kolkata 3.89\n",
      "21 Lucknow 3.88\n",
      "20 Ludhiana 3.88\n",
      "20 Mangalore 3.88\n",
      "1 Mohali 3.88\n",
      "20 Mumbai 3.89\n",
      "20 Mysore 3.88\n",
      "20 Nagpur 3.88\n",
      "20 Nashik 3.88\n",
      "4758 New Delhi 3.84\n",
      "31\n",
      "889 Noida 3.85\n",
      "1 Panchkula 3.88\n",
      "20 Patna 3.88\n",
      "20 Puducherry 3.88\n",
      "20 Pune 3.88\n",
      "20 Ranchi 3.88\n",
      "2 Secunderabad 3.88\n",
      "20 Surat 3.88\n",
      "20 Vadodara 3.88\n",
      "20 Varanasi 3.88\n",
      "20 Vizag 3.88\n"
     ]
    }
   ],
   "source": [
    "for i in range(43):\n",
    "    print(no_of_res_c[i],indian_city_np[i],\"{:.2f}\".format(w[i]))\n",
    "    if indian_city_np[i]==\"New Delhi\":\n",
    "        print(i)"
   ]
  },
  {
   "cell_type": "code",
   "execution_count": 1307,
   "metadata": {},
   "outputs": [
    {
     "data": {
      "image/png": "[encoded data removed]",
      "text/plain": [
       "<Figure size 1500x1000 with 1 Axes>"
      ]
     },
     "metadata": {},
     "output_type": "display_data"
    }
   ],
   "source": [
    "\n",
    "N = 43\n",
    "ind = np.arange(N)\n",
    "plt.figure(figsize=(15,10))\n",
    "\n",
    "# Width of a bar \n",
    "width = 0.3       \n",
    "\n",
    "# Plotting\n",
    "# plt.bar(ind,no_of_res_c , width, label='No.of res',color=\"orange\")\n",
    "plt.scatter(indian_city_np,no_of_res_c,s=no_of_res_c*2,alpha=0.5)\n",
    "plt.ylabel('No. of res')\n",
    "plt.xlabel('city')\n",
    "# plt.text(4758,New Delhi,\"3.84\",fontsize= 12)\n",
    "# xticks()\n",
    "# First argument - A list of positions at which ticks should be placed\n",
    "# Second argument -  A list of labels to place at the given locations\n",
    "plt.xticks(ind + width / 2, indian_city_np,rotation=90)\n",
    "plt\n",
    "# Finding the best position for legends and putting it\n",
    "plt.grid()\n",
    "# plt.legend(loc='best')\n",
    "plt.show()"
   ]
  }
 ],
 "metadata": {
  "kernelspec": {
   "display_name": "Python 3",
   "language": "python",
   "name": "python3"
  },
  "language_info": {
   "codemirror_mode": {
    "name": "ipython",
    "version": 3
   },
   "file_extension": ".py",
   "mimetype": "text/x-python",
   "name": "python",
   "nbconvert_exporter": "python",
   "pygments_lexer": "ipython3",
   "version": "3.7.3"
  }
 },
 "nbformat": 4,
 "nbformat_minor": 2
}
